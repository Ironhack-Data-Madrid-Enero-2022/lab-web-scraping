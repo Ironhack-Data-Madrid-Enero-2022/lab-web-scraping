{
 "cells": [
  {
   "cell_type": "markdown",
   "metadata": {},
   "source": [
    "# Web Scraping Lab\n",
    "\n",
    "You will find in this notebook some web scraping exercises to practice your scraping skills using `requests` and `Beautiful Soup`.\n",
    "\n",
    "**Tips:**\n",
    "\n",
    "- Check the [response status code](https://http.cat/) for each request to ensure you have obtained the intended content.\n",
    "- Look at the HTML code in each request to understand the kind of info you are getting and its format.\n",
    "- Check for patterns in the response text to extract the data/info requested in each question.\n",
    "- Visit each url and take a look at its source through Chrome DevTools. You'll need to identify the html tags, special class names etc. used for the html content you are expected to extract.\n",
    "- Check out the css selectors."
   ]
  },
  {
   "cell_type": "markdown",
   "metadata": {},
   "source": [
    "### Useful Resources\n",
    "- [Requests library](http://docs.python-requests.org/en/master/#the-user-guide) documentation \n",
    "- [Beautiful Soup Doc](https://www.crummy.com/software/BeautifulSoup/bs4/doc/)\n",
    "- [List of HTTP status codes](https://en.wikipedia.org/wiki/List_of_HTTP_status_codes)\n",
    "- [HTML basics](http://www.simplehtmlguide.com/cheatsheet.php)\n",
    "- [CSS basics](https://www.cssbasics.com/#page_start)"
   ]
  },
  {
   "cell_type": "markdown",
   "metadata": {},
   "source": [
    "#### First of all, gathering our tools."
   ]
  },
  {
   "cell_type": "code",
   "execution_count": 249,
   "metadata": {},
   "outputs": [],
   "source": [
    "import requests as req\n",
    "from bs4 import BeautifulSoup as bs\n",
    "import pandas as pd\n",
    "import json\n",
    "import re"
   ]
  },
  {
   "cell_type": "markdown",
   "metadata": {},
   "source": [
    "⚠️ **Again, please remember to limit your output before submission so that your code doesn't get lost in the output.**"
   ]
  },
  {
   "cell_type": "markdown",
   "metadata": {},
   "source": [
    "#### Challenge 1 - Download, parse (using BeautifulSoup), and print the content from the Trending Developers page from GitHub:"
   ]
  },
  {
   "cell_type": "code",
   "execution_count": 2,
   "metadata": {},
   "outputs": [],
   "source": [
    "# This is the url you will scrape in this exercise\n",
    "url = 'https://github.com/trending/developers'\n",
    "html = req.get(url).content\n"
   ]
  },
  {
   "cell_type": "code",
   "execution_count": 3,
   "metadata": {},
   "outputs": [],
   "source": [
    "soup=bs(html, 'html.parser')"
   ]
  },
  {
   "cell_type": "code",
   "execution_count": 4,
   "metadata": {},
   "outputs": [],
   "source": [
    "dev = soup.find_all('h1',{'class':\"h3 lh-condensed\"})\n",
    "user = soup.find_all('p',{'class':\"f4 text-normal mb-1\"})\n",
    "developers =[]\n",
    "for i in range(0,25):\n",
    "    dev_name = dev[i].text.strip()\n",
    "    developers.append(dev_name)\n",
    "    #user_name = user[i].text.strip() # some users don't have a user name \n",
    "    #print(dev_name, user_name)\n",
    "# I don't know how to relate both names and \"user names\" as some of the developers don't have one."
   ]
  },
  {
   "cell_type": "markdown",
   "metadata": {},
   "source": [
    "#### Display the names of the trending developers retrieved in the previous step.\n",
    "\n",
    "Your output should be a Python list of developer names. Each name should not contain any html tag.\n",
    "\n",
    "**Instructions:**\n",
    "\n",
    "1. Find out the html tag and class names used for the developer names. You can achieve this using Chrome DevTools.\n",
    "\n",
    "1. Use BeautifulSoup to extract all the html elements that contain the developer names.\n",
    "\n",
    "1. Use string manipulation techniques to replace whitespaces and linebreaks (i.e. `\\n`) in the *text* of each html element. Use a list to store the clean names.\n",
    "\n",
    "1. Print the list of names.\n",
    "\n",
    "Your output should look like below (with different names):\n",
    "\n",
    "```\n",
    "['trimstray (@trimstray)',\n",
    " 'joewalnes (JoeWalnes)',\n",
    " 'charlax (Charles-AxelDein)',\n",
    " 'ForrestKnight (ForrestKnight)',\n",
    " 'revery-ui (revery-ui)',\n",
    " 'alibaba (Alibaba)',\n",
    " 'Microsoft (Microsoft)',\n",
    " 'github (GitHub)',\n",
    " 'facebook (Facebook)',\n",
    " 'boazsegev (Bo)',\n",
    " 'google (Google)',\n",
    " 'cloudfetch',\n",
    " 'sindresorhus (SindreSorhus)',\n",
    " 'tensorflow',\n",
    " 'apache (TheApacheSoftwareFoundation)',\n",
    " 'DevonCrawford (DevonCrawford)',\n",
    " 'ARMmbed (ArmMbed)',\n",
    " 'vuejs (vuejs)',\n",
    " 'fastai (fast.ai)',\n",
    " 'QiShaoXuan (Qi)',\n",
    " 'joelparkerhenderson (JoelParkerHenderson)',\n",
    " 'torvalds (LinusTorvalds)',\n",
    " 'CyC2018',\n",
    " 'komeiji-satori (神楽坂覚々)',\n",
    " 'script-8']\n",
    " ```"
   ]
  },
  {
   "cell_type": "code",
   "execution_count": 5,
   "metadata": {},
   "outputs": [
    {
     "name": "stdout",
     "output_type": "stream",
     "text": [
      "['Yann Collet (Cyan4973)', 'Arvid Norberg (arvidn)', 'Emil Ernerfeldt (emilk)', 'Mathias Fußenegger (mfussenegger)', 'David Peter (sharkdp)', 'Koen Kanters (Koenkk)', 'Markus Unterwaditzer (untitaker)', 'Mike Penz (mikepenz)', 'LoveSy (yujincheng08)', 'David Sherret (dsherret)', 'mrdoob', 'Joe Previte (jsjoeio)', 'Earle F. Philhower, III (earlephilhower)', 'MichaIng', 'Chris Caron (caronc)', 'Jaco (jacogr)', 'vis2k', 'Max Desiatov (MaxDesiatov)', 'Stephan Dilly (extrawurst)', 'Timothy (timlrx)', 'Shu Ding (shuding)', 'Jonathan Neal (jonathantneal)', 'Gwendal Roué (groue)', 'Mikael Finstad (mifi)', 'Jared Palmer (jaredpalmer)']\n"
     ]
    }
   ],
   "source": [
    "# Found the way to do what I couldn't in the last challenge, \n",
    "dev = soup.find_all('div',{'class':\"col-md-6\"})\n",
    "developers = [developer.text.strip().split('\\n') for developer in dev]\n",
    "#I realized that we only one 1 every 2 elements in the list, as every other element is related to the previous user, plus I want to put the elements in a dict,\n",
    "dev_dict = dict()\n",
    "count = 0\n",
    "for developer in developers:\n",
    "    if count%2 == 0: # we are just taking 1 every 2 elements\n",
    "        llista = [i.strip() for i in developers[count] if i not in ['',' ']]\n",
    "        dev_name = llista[0]\n",
    "        if len(llista) > 1:\n",
    "            user_name = llista[1]\n",
    "        else:\n",
    "            user_name = ''\n",
    "        dev_dict[dev_name] = user_name\n",
    "    count += 1\n",
    "# Now we can already print that list,\n",
    "result = []\n",
    "for i in dev_dict:\n",
    "    if dev_dict[i] != '':\n",
    "        to_append = i+' ('+dev_dict[i]+')'\n",
    "        result.append(to_append)\n",
    "    else:\n",
    "        result.append(i)\n",
    "print(result)"
   ]
  },
  {
   "cell_type": "markdown",
   "metadata": {},
   "source": [
    "####  Challenge 2 - Display the trending Python repositories in GitHub\n",
    "\n",
    "The steps to solve this problem is similar to the previous one except that you need to find out the repository names instead of developer names."
   ]
  },
  {
   "cell_type": "code",
   "execution_count": 8,
   "metadata": {},
   "outputs": [],
   "source": [
    "# This is the url you will scrape in this exercise\n",
    "url = 'https://github.com/trending/python?since=daily'\n",
    "html = req.get(url).content"
   ]
  },
  {
   "cell_type": "code",
   "execution_count": 19,
   "metadata": {},
   "outputs": [
    {
     "name": "stdout",
     "output_type": "stream",
     "text": [
      "['RunaCapital/awesome-oss-alternatives', 'Jxck-S/plane-notify', 'freqtrade/freqtrade-strategies', 'home-assistant/core', 'sherlock-project/sherlock', 'ytdl-org/youtube-dl', 'yt-dlp/yt-dlp', 'TheAlgorithms/Python', 'slingamn/mureq', 'zhzyker/exphub', 'bilibili/ailab', 'vinta/awesome-python', 'feast-dev/feast', 'kivy/kivy', 'psf/black', 'Chia-Network/chia-blockchain', 'github/copilot-docs', 'nonebot/nonebot2', 'rougier/scientific-visualization-book', 'miguelgrinberg/flasky', 'binance/binance-connector-python', 'arc298/instagram-scraper', 'patrikzudel/PatrikZeros-CSGO-Sound-Fix', 'NotReallyShikhar/YukkiMusicBot', 'KurtBestor/Hitomi-Downloader']\n"
     ]
    }
   ],
   "source": [
    "soup=bs(html, 'html.parser')\n",
    "rep = soup.find_all('h1',{'class':'h3 lh-condensed'}) # It is actually the very same thing than before\n",
    "repos =[i.text.replace('\\n', '').replace(' ','') for i in rep]\n",
    "print(repos)"
   ]
  },
  {
   "cell_type": "code",
   "execution_count": null,
   "metadata": {},
   "outputs": [],
   "source": []
  },
  {
   "cell_type": "markdown",
   "metadata": {},
   "source": [
    "#### Challenge 3 - Display all the image links from Walt Disney wikipedia page"
   ]
  },
  {
   "cell_type": "code",
   "execution_count": 20,
   "metadata": {},
   "outputs": [],
   "source": [
    "# This is the url you will scrape in this exercise\n",
    "url = 'https://en.wikipedia.org/wiki/Walt_Disney'\n",
    "html = req.get(url).content\n",
    "soup=bs(html, 'html.parser')"
   ]
  },
  {
   "cell_type": "code",
   "execution_count": 36,
   "metadata": {},
   "outputs": [
    {
     "data": {
      "text/plain": [
       "['//upload.wikimedia.org/wikipedia/en/thumb/e/e7/Cscr-featured.svg/20px-Cscr-featured.svg.png',\n",
       " '//upload.wikimedia.org/wikipedia/en/thumb/8/8c/Extended-protection-shackle.svg/20px-Extended-protection-shackle.svg.png',\n",
       " '//upload.wikimedia.org/wikipedia/commons/thumb/d/df/Walt_Disney_1946.JPG/220px-Walt_Disney_1946.JPG',\n",
       " '//upload.wikimedia.org/wikipedia/commons/thumb/8/87/Walt_Disney_1942_signature.svg/150px-Walt_Disney_1942_signature.svg.png',\n",
       " '//upload.wikimedia.org/wikipedia/commons/thumb/c/c4/Walt_Disney_envelope_ca._1921.jpg/220px-Walt_Disney_envelope_ca._1921.jpg']"
      ]
     },
     "execution_count": 36,
     "metadata": {},
     "output_type": "execute_result"
    }
   ],
   "source": [
    "images= soup.find_all('img')\n",
    "links_img = [image['src'] for image in images]\n",
    "links_img[:5]"
   ]
  },
  {
   "cell_type": "markdown",
   "metadata": {},
   "source": [
    "#### Challenge 4 - Retrieve all links to pages on Wikipedia that refer to some kind of Python."
   ]
  },
  {
   "cell_type": "code",
   "execution_count": 37,
   "metadata": {},
   "outputs": [],
   "source": [
    "# This is the url you will scrape in this exercise\n",
    "url ='https://en.wikipedia.org/wiki/Python' \n",
    "html = req.get(url).content\n",
    "soup=bs(html, 'html.parser')"
   ]
  },
  {
   "cell_type": "code",
   "execution_count": 60,
   "metadata": {},
   "outputs": [
    {
     "data": {
      "text/plain": [
       "['https://en.wiktionary.org/wiki/Python',\n",
       " 'https://en.wiktionary.org/wiki/python',\n",
       " '/wiki/Pythonidae']"
      ]
     },
     "execution_count": 60,
     "metadata": {},
     "output_type": "execute_result"
    }
   ],
   "source": [
    "links= soup.find_all('a', href=True)\n",
    "links_list = []\n",
    "for a in links:\n",
    "    if 'wiki' in a['href']:\n",
    "        links_list.append(a['href'])\n",
    "links_list[:3]"
   ]
  },
  {
   "cell_type": "markdown",
   "metadata": {},
   "source": [
    "#### Challenge 5 - Number of Titles that have changed in the United States Code since its last release point "
   ]
  },
  {
   "cell_type": "code",
   "execution_count": 68,
   "metadata": {},
   "outputs": [],
   "source": [
    "# This is the url you will scrape in this exercise\n",
    "url = 'http://uscode.house.gov/download/download.shtml'\n",
    "html = req.get(url).content\n",
    "soup=bs(html, 'html.parser')"
   ]
  },
  {
   "cell_type": "code",
   "execution_count": 72,
   "metadata": {},
   "outputs": [
    {
     "data": {
      "text/plain": [
       "24"
      ]
     },
     "execution_count": 72,
     "metadata": {},
     "output_type": "execute_result"
    }
   ],
   "source": [
    "changedtitles= soup.find_all('div', class_= \"usctitlechanged\")\n",
    "len(changedtitles)\n"
   ]
  },
  {
   "cell_type": "markdown",
   "metadata": {},
   "source": [
    "#### Challenge 6 - A Python list with the top ten FBI's Most Wanted names "
   ]
  },
  {
   "cell_type": "code",
   "execution_count": 73,
   "metadata": {},
   "outputs": [],
   "source": [
    "# This is the url you will scrape in this exercise\n",
    "url = 'https://www.fbi.gov/wanted/topten'\n",
    "html = req.get(url).content\n",
    "soup=bs(html, 'html.parser')"
   ]
  },
  {
   "cell_type": "code",
   "execution_count": 89,
   "metadata": {},
   "outputs": [
    {
     "name": "stdout",
     "output_type": "stream",
     "text": [
      "['YULAN ADONAY ARCHAGA CARIAS', 'EUGENE PALMER', 'BHADRESHKUMAR CHETANBHAI PATEL', 'ALEJANDRO ROSALES CASTILLO', 'ARNOLDO JIMENEZ', 'JASON DEREK BROWN', 'ALEXIS FLORES', 'JOSE RODOLFO VILLARREAL-HERNANDEZ', 'OCTAVIANO JUAREZ-CORRO', 'RAFAEL CARO-QUINTERO']\n"
     ]
    }
   ],
   "source": [
    "fugitive_object= soup.find_all('div', class_= \"focuspoint\")\n",
    "FBI_list = []\n",
    "for i in fugitive_object:\n",
    "    for j in i: FBI_list.append(j['alt'])\n",
    "\n",
    "print(FBI_list)"
   ]
  },
  {
   "cell_type": "markdown",
   "metadata": {},
   "source": [
    "#### Challenge 7 - List all language names and number of related articles in the order they appear in wikipedia.org"
   ]
  },
  {
   "cell_type": "code",
   "execution_count": 91,
   "metadata": {},
   "outputs": [],
   "source": [
    "# This is the url you will scrape in this exercise\n",
    "url = 'https://www.wikipedia.org/'\n",
    "html = req.get(url).content\n",
    "soup=bs(html, 'html.parser')"
   ]
  },
  {
   "cell_type": "code",
   "execution_count": 151,
   "metadata": {},
   "outputs": [
    {
     "name": "stdout",
     "output_type": "stream",
     "text": [
      "{'English': '6.383.000', 'Nihongo': '1.292.000', 'Russkiy': '1.756.000', 'Deutsch': '2.617.000', 'Español': '1.717.000', 'Français': '2.362.000', 'Italiano': '1.718.000', 'Zhōngwén': '1.231.000', 'Polski': '1.490.000', 'Português': '1.074.000'}\n"
     ]
    }
   ],
   "source": [
    "language_obj = soup.find_all('div', class_= \"central-featured-lang\")\n",
    "lenguage_dict= dict()\n",
    "for lenguage in language_obj:\n",
    "    Idioma = lenguage.find('a').attrs['title']\n",
    "    Idioma = Idioma.split('—')[0].strip()\n",
    "    num_art = lenguage.find('bdi').text.strip('+')\n",
    "    lenguage_dict[Idioma] = num_art.replace(u\"\\xa0\",'.')\n",
    "print(lenguage_dict)"
   ]
  },
  {
   "cell_type": "markdown",
   "metadata": {},
   "source": [
    "#### Challenge 8 - A list with the different kind of datasets available in data.gov.uk "
   ]
  },
  {
   "cell_type": "code",
   "execution_count": 153,
   "metadata": {},
   "outputs": [],
   "source": [
    "# This is the url you will scrape in this exercise\n",
    "url = 'https://data.gov.uk/'\n",
    "html = req.get(url).content\n",
    "soup=bs(html, 'html.parser')\n"
   ]
  },
  {
   "cell_type": "code",
   "execution_count": 172,
   "metadata": {},
   "outputs": [
    {
     "name": "stdout",
     "output_type": "stream",
     "text": [
      "['Business and economy', 'Crime and justice', 'Defence', 'Education', 'Environment', 'Government', 'Government spending', 'Health', 'Mapping', 'Society', 'Towns and cities', 'Transport', 'Digital service performance', 'Government reference data']\n"
     ]
    }
   ],
   "source": [
    "data_set_kind = soup.find_all('h3',{'class':\"govuk-heading-s dgu-topics__heading\"})\n",
    "data_sets_list = []\n",
    "for kind in data_set_kind:\n",
    "    data_sets_list.append(kind.text.strip())\n",
    "print(data_sets_list)"
   ]
  },
  {
   "cell_type": "markdown",
   "metadata": {},
   "source": [
    "#### Challenge 9 - Top 10 languages by number of native speakers stored in a Pandas Dataframe"
   ]
  },
  {
   "cell_type": "code",
   "execution_count": 200,
   "metadata": {},
   "outputs": [],
   "source": [
    "# This is the url you will scrape in this exercise\n",
    "url = 'https://en.wikipedia.org/wiki/List_of_languages_by_number_of_native_speakers'\n",
    "html = req.get(url).content\n",
    "soup=bs(html, 'html.parser')"
   ]
  },
  {
   "cell_type": "code",
   "execution_count": 201,
   "metadata": {},
   "outputs": [
    {
     "data": {
      "text/html": [
       "<div>\n",
       "<style scoped>\n",
       "    .dataframe tbody tr th:only-of-type {\n",
       "        vertical-align: middle;\n",
       "    }\n",
       "\n",
       "    .dataframe tbody tr th {\n",
       "        vertical-align: top;\n",
       "    }\n",
       "\n",
       "    .dataframe thead th {\n",
       "        text-align: right;\n",
       "    }\n",
       "</style>\n",
       "<table border=\"1\" class=\"dataframe\">\n",
       "  <thead>\n",
       "    <tr style=\"text-align: right;\">\n",
       "      <th></th>\n",
       "      <th>Language</th>\n",
       "      <th>Speakers(millions)</th>\n",
       "    </tr>\n",
       "  </thead>\n",
       "  <tbody>\n",
       "    <tr>\n",
       "      <th>0</th>\n",
       "      <td>Mandarin Chinese</td>\n",
       "      <td>918</td>\n",
       "    </tr>\n",
       "    <tr>\n",
       "      <th>1</th>\n",
       "      <td>Spanish</td>\n",
       "      <td>480</td>\n",
       "    </tr>\n",
       "    <tr>\n",
       "      <th>2</th>\n",
       "      <td>English</td>\n",
       "      <td>379</td>\n",
       "    </tr>\n",
       "    <tr>\n",
       "      <th>3</th>\n",
       "      <td>Hindi (sanskritised Hindustani)[11]</td>\n",
       "      <td>341</td>\n",
       "    </tr>\n",
       "    <tr>\n",
       "      <th>4</th>\n",
       "      <td>Bengali</td>\n",
       "      <td>300</td>\n",
       "    </tr>\n",
       "    <tr>\n",
       "      <th>5</th>\n",
       "      <td>Portuguese</td>\n",
       "      <td>221</td>\n",
       "    </tr>\n",
       "    <tr>\n",
       "      <th>6</th>\n",
       "      <td>Russian</td>\n",
       "      <td>154</td>\n",
       "    </tr>\n",
       "    <tr>\n",
       "      <th>7</th>\n",
       "      <td>Japanese</td>\n",
       "      <td>128</td>\n",
       "    </tr>\n",
       "    <tr>\n",
       "      <th>8</th>\n",
       "      <td>Western Punjabi[12]</td>\n",
       "      <td>92.7</td>\n",
       "    </tr>\n",
       "    <tr>\n",
       "      <th>9</th>\n",
       "      <td>Marathi</td>\n",
       "      <td>83.1</td>\n",
       "    </tr>\n",
       "    <tr>\n",
       "      <th>10</th>\n",
       "      <td>Telugu</td>\n",
       "      <td>82.0</td>\n",
       "    </tr>\n",
       "  </tbody>\n",
       "</table>\n",
       "</div>"
      ],
      "text/plain": [
       "                               Language Speakers(millions)\n",
       "0                      Mandarin Chinese                918\n",
       "1                               Spanish                480\n",
       "2                               English                379\n",
       "3   Hindi (sanskritised Hindustani)[11]                341\n",
       "4                               Bengali                300\n",
       "5                            Portuguese                221\n",
       "6                               Russian                154\n",
       "7                              Japanese                128\n",
       "8                   Western Punjabi[12]               92.7\n",
       "9                               Marathi               83.1\n",
       "10                               Telugu               82.0"
      ]
     },
     "execution_count": 201,
     "metadata": {},
     "output_type": "execute_result"
    }
   ],
   "source": [
    "table =soup.find_all('table')[1]\n",
    "rows=table.find_all('tr')\n",
    "\n",
    "rows=[row.text.strip().split('\\n') for row in rows]\n",
    "\n",
    "top10 = rows[0:12]\n",
    "fnl = []\n",
    "for language in top10:\n",
    "    fnl.append( [language[2], language[4]])\n",
    "\n",
    "col_names=fnl[0]\n",
    "\n",
    "data=fnl[1:12]\n",
    "\n",
    "df=pd.DataFrame(data, columns=col_names)\n",
    "df"
   ]
  },
  {
   "cell_type": "markdown",
   "metadata": {},
   "source": [
    "### Stepping up the game"
   ]
  },
  {
   "cell_type": "markdown",
   "metadata": {},
   "source": [
    "####  Challenge 10 - The 20 latest earthquakes info (date, time, latitude, longitude and region name) by the EMSC as a pandas dataframe"
   ]
  },
  {
   "cell_type": "code",
   "execution_count": 264,
   "metadata": {},
   "outputs": [],
   "source": [
    "# This is the url you will scrape in this exercise\n",
    "url = 'https://www.emsc-csem.org/Earthquake/'\n",
    "html = req.get(url).content\n",
    "soup=bs(html, 'html.parser')"
   ]
  },
  {
   "cell_type": "code",
   "execution_count": 283,
   "metadata": {},
   "outputs": [
    {
     "data": {
      "text/html": [
       "<div>\n",
       "<style scoped>\n",
       "    .dataframe tbody tr th:only-of-type {\n",
       "        vertical-align: middle;\n",
       "    }\n",
       "\n",
       "    .dataframe tbody tr th {\n",
       "        vertical-align: top;\n",
       "    }\n",
       "\n",
       "    .dataframe thead th {\n",
       "        text-align: right;\n",
       "    }\n",
       "</style>\n",
       "<table border=\"1\" class=\"dataframe\">\n",
       "  <thead>\n",
       "    <tr style=\"text-align: right;\">\n",
       "      <th></th>\n",
       "      <th>Date</th>\n",
       "      <th>Time</th>\n",
       "      <th>Latitude</th>\n",
       "      <th>Longitude</th>\n",
       "      <th>Region Name</th>\n",
       "    </tr>\n",
       "  </thead>\n",
       "  <tbody>\n",
       "    <tr>\n",
       "      <th>0</th>\n",
       "      <td>2022-01-30</td>\n",
       "      <td>22:16:08</td>\n",
       "      <td>34.92N</td>\n",
       "      <td>24.47E</td>\n",
       "      <td>CRETE, GREECE</td>\n",
       "    </tr>\n",
       "    <tr>\n",
       "      <th>1</th>\n",
       "      <td>2022-01-30</td>\n",
       "      <td>22:05:19</td>\n",
       "      <td>38.94N</td>\n",
       "      <td>26.08E</td>\n",
       "      <td>NEAR THE COAST OF WESTERN TURKEY</td>\n",
       "    </tr>\n",
       "    <tr>\n",
       "      <th>2</th>\n",
       "      <td>2022-01-30</td>\n",
       "      <td>22:02:31</td>\n",
       "      <td>5.96N</td>\n",
       "      <td>126.44E</td>\n",
       "      <td>MINDANAO, PHILIPPINES</td>\n",
       "    </tr>\n",
       "    <tr>\n",
       "      <th>3</th>\n",
       "      <td>2022-01-30</td>\n",
       "      <td>22:01:10</td>\n",
       "      <td>16.81N</td>\n",
       "      <td>86.09W</td>\n",
       "      <td>OFFSHORE HONDURAS</td>\n",
       "    </tr>\n",
       "    <tr>\n",
       "      <th>4</th>\n",
       "      <td>2022-01-30</td>\n",
       "      <td>21:51:00</td>\n",
       "      <td>8.13N</td>\n",
       "      <td>104.39W</td>\n",
       "      <td>NORTHERN EAST PACIFIC RISE</td>\n",
       "    </tr>\n",
       "    <tr>\n",
       "      <th>5</th>\n",
       "      <td>2022-01-30</td>\n",
       "      <td>21:37:52</td>\n",
       "      <td>6.68S</td>\n",
       "      <td>120.58E</td>\n",
       "      <td>FLORES SEA</td>\n",
       "    </tr>\n",
       "    <tr>\n",
       "      <th>6</th>\n",
       "      <td>2022-01-30</td>\n",
       "      <td>21:37:29</td>\n",
       "      <td>11.55N</td>\n",
       "      <td>87.49W</td>\n",
       "      <td>NEAR COAST OF NICARAGUA</td>\n",
       "    </tr>\n",
       "    <tr>\n",
       "      <th>7</th>\n",
       "      <td>2022-01-30</td>\n",
       "      <td>21:35:13</td>\n",
       "      <td>29.99S</td>\n",
       "      <td>71.98W</td>\n",
       "      <td>OFFSHORE COQUIMBO, CHILE</td>\n",
       "    </tr>\n",
       "    <tr>\n",
       "      <th>8</th>\n",
       "      <td>2022-01-30</td>\n",
       "      <td>21:28:34</td>\n",
       "      <td>35.61S</td>\n",
       "      <td>178.46E</td>\n",
       "      <td>OFF E. COAST OF N. ISLAND, N.Z.</td>\n",
       "    </tr>\n",
       "    <tr>\n",
       "      <th>9</th>\n",
       "      <td>2022-01-30</td>\n",
       "      <td>21:16:13</td>\n",
       "      <td>19.23N</td>\n",
       "      <td>155.41W</td>\n",
       "      <td>ISLAND OF HAWAII, HAWAII</td>\n",
       "    </tr>\n",
       "    <tr>\n",
       "      <th>10</th>\n",
       "      <td>2022-01-30</td>\n",
       "      <td>21:02:07</td>\n",
       "      <td>10.34N</td>\n",
       "      <td>126.14E</td>\n",
       "      <td>PHILIPPINE ISLANDS REGION</td>\n",
       "    </tr>\n",
       "    <tr>\n",
       "      <th>11</th>\n",
       "      <td>2022-01-30</td>\n",
       "      <td>20:59:08</td>\n",
       "      <td>35.80N</td>\n",
       "      <td>120.33W</td>\n",
       "      <td>CENTRAL CALIFORNIA</td>\n",
       "    </tr>\n",
       "    <tr>\n",
       "      <th>12</th>\n",
       "      <td>2022-01-30</td>\n",
       "      <td>20:47:35</td>\n",
       "      <td>35.78N</td>\n",
       "      <td>120.30W</td>\n",
       "      <td>CENTRAL CALIFORNIA</td>\n",
       "    </tr>\n",
       "    <tr>\n",
       "      <th>13</th>\n",
       "      <td>2022-01-30</td>\n",
       "      <td>20:45:00</td>\n",
       "      <td>19.18N</td>\n",
       "      <td>155.47W</td>\n",
       "      <td>ISLAND OF HAWAII, HAWAII</td>\n",
       "    </tr>\n",
       "    <tr>\n",
       "      <th>14</th>\n",
       "      <td>2022-01-30</td>\n",
       "      <td>20:42:31</td>\n",
       "      <td>40.42N</td>\n",
       "      <td>26.21E</td>\n",
       "      <td>WESTERN TURKEY</td>\n",
       "    </tr>\n",
       "    <tr>\n",
       "      <th>15</th>\n",
       "      <td>2022-01-30</td>\n",
       "      <td>20:23:01</td>\n",
       "      <td>21.55S</td>\n",
       "      <td>68.49W</td>\n",
       "      <td>ANTOFAGASTA, CHILE</td>\n",
       "    </tr>\n",
       "    <tr>\n",
       "      <th>16</th>\n",
       "      <td>2022-01-30</td>\n",
       "      <td>20:22:22</td>\n",
       "      <td>10.13S</td>\n",
       "      <td>122.30E</td>\n",
       "      <td>SAVU SEA</td>\n",
       "    </tr>\n",
       "    <tr>\n",
       "      <th>17</th>\n",
       "      <td>2022-01-30</td>\n",
       "      <td>20:09:25</td>\n",
       "      <td>38.95N</td>\n",
       "      <td>26.70E</td>\n",
       "      <td>NEAR THE COAST OF WESTERN TURKEY</td>\n",
       "    </tr>\n",
       "    <tr>\n",
       "      <th>18</th>\n",
       "      <td>2022-01-30</td>\n",
       "      <td>20:08:56</td>\n",
       "      <td>21.04S</td>\n",
       "      <td>68.53W</td>\n",
       "      <td>ANTOFAGASTA, CHILE</td>\n",
       "    </tr>\n",
       "    <tr>\n",
       "      <th>19</th>\n",
       "      <td>2022-01-30</td>\n",
       "      <td>20:04:36</td>\n",
       "      <td>35.77N</td>\n",
       "      <td>27.49E</td>\n",
       "      <td>DODECANESE ISLANDS, GREECE</td>\n",
       "    </tr>\n",
       "    <tr>\n",
       "      <th>20</th>\n",
       "      <td>2022-01-30</td>\n",
       "      <td>20:03:28</td>\n",
       "      <td>2.83S</td>\n",
       "      <td>129.67E</td>\n",
       "      <td>SERAM, INDONESIA</td>\n",
       "    </tr>\n",
       "  </tbody>\n",
       "</table>\n",
       "</div>"
      ],
      "text/plain": [
       "          Date      Time Latitude Longitude                       Region Name\n",
       "0   2022-01-30  22:16:08   34.92N    24.47E                     CRETE, GREECE\n",
       "1   2022-01-30  22:05:19   38.94N    26.08E  NEAR THE COAST OF WESTERN TURKEY\n",
       "2   2022-01-30  22:02:31    5.96N   126.44E             MINDANAO, PHILIPPINES\n",
       "3   2022-01-30  22:01:10   16.81N    86.09W                 OFFSHORE HONDURAS\n",
       "4   2022-01-30  21:51:00    8.13N   104.39W        NORTHERN EAST PACIFIC RISE\n",
       "5   2022-01-30  21:37:52    6.68S   120.58E                        FLORES SEA\n",
       "6   2022-01-30  21:37:29   11.55N    87.49W           NEAR COAST OF NICARAGUA\n",
       "7   2022-01-30  21:35:13   29.99S    71.98W          OFFSHORE COQUIMBO, CHILE\n",
       "8   2022-01-30  21:28:34   35.61S   178.46E   OFF E. COAST OF N. ISLAND, N.Z.\n",
       "9   2022-01-30  21:16:13   19.23N   155.41W          ISLAND OF HAWAII, HAWAII\n",
       "10  2022-01-30  21:02:07   10.34N   126.14E         PHILIPPINE ISLANDS REGION\n",
       "11  2022-01-30  20:59:08   35.80N   120.33W                CENTRAL CALIFORNIA\n",
       "12  2022-01-30  20:47:35   35.78N   120.30W                CENTRAL CALIFORNIA\n",
       "13  2022-01-30  20:45:00   19.18N   155.47W          ISLAND OF HAWAII, HAWAII\n",
       "14  2022-01-30  20:42:31   40.42N    26.21E                    WESTERN TURKEY\n",
       "15  2022-01-30  20:23:01   21.55S    68.49W                ANTOFAGASTA, CHILE\n",
       "16  2022-01-30  20:22:22   10.13S   122.30E                          SAVU SEA\n",
       "17  2022-01-30  20:09:25   38.95N    26.70E  NEAR THE COAST OF WESTERN TURKEY\n",
       "18  2022-01-30  20:08:56   21.04S    68.53W                ANTOFAGASTA, CHILE\n",
       "19  2022-01-30  20:04:36   35.77N    27.49E        DODECANESE ISLANDS, GREECE\n",
       "20  2022-01-30  20:03:28    2.83S   129.67E                  SERAM, INDONESIA"
      ]
     },
     "execution_count": 283,
     "metadata": {},
     "output_type": "execute_result"
    }
   ],
   "source": [
    "table =soup.find_all('table')[3]\n",
    "rows = table.find_all('tr')\n",
    "rows=[row.text.strip().split('\\n') for row in rows]\n",
    "final=[]\n",
    "for row in rows:\n",
    "    tmp=[]\n",
    "    for st in row:\n",
    "        if st!='':\n",
    "            tmp.append(st)\n",
    "    final.append(tmp)\n",
    "# Now we need to clean it a little further and then take the first 20 rows of data, as we are going to rewrite the head of the table\n",
    "definitiu = []\n",
    "for i in range(5,26):\n",
    "    row = final[i][0].split(u'\\xa0')\n",
    "    row  = [wrd for wrd in row if wrd != '']\n",
    "    date, time1, latitude, dir, longitude, dir2, region_name = row\n",
    "    date = re.findall('\\d{4}-\\d{2}-\\d{2}', date)[0]\n",
    "    time = re.findall('\\d{2}:\\d{2}:\\d{2}', time1)[0]\n",
    "    latitude = re.findall('\\d{1,2}.\\d{2}$', time1)[0]+latitude\n",
    "    longitude = dir+longitude\n",
    "    region_name = region_name[:-16]\n",
    "    definitiu.append([date,time,latitude,longitude,region_name])\n",
    "\n",
    "    #definitiu.append() \n",
    "col_names = ['Date', 'Time', 'Latitude', 'Longitude', 'Region Name']\n",
    "df=pd.DataFrame(definitiu, columns=col_names)\n",
    "df"
   ]
  },
  {
   "cell_type": "markdown",
   "metadata": {},
   "source": [
    "#### Challenge 11 - IMDB's Top 250 data (movie name, Initial release, director name and stars) as a pandas dataframe"
   ]
  },
  {
   "cell_type": "code",
   "execution_count": 285,
   "metadata": {},
   "outputs": [],
   "source": [
    "# This is the url you will scrape in this exercise \n",
    "url = 'https://www.imdb.com/chart/top'\n",
    "html = req.get(url).content\n",
    "soup=bs(html, 'html.parser')"
   ]
  },
  {
   "cell_type": "code",
   "execution_count": 335,
   "metadata": {},
   "outputs": [
    {
     "name": "stdout",
     "output_type": "stream",
     "text": [
      "[<span data-value=\"1\" name=\"rk\"></span>, <span data-value=\"9.221264405396994\" name=\"ir\"></span>, <span data-value=\"7.791552E11\" name=\"us\"></span>, <span data-value=\"2535634\" name=\"nv\"></span>, <span data-value=\"-1.7787355946030061\" name=\"ur\"></span>, <span class=\"secondaryInfo\">(1994)</span>, <span class=\"delete\"> </span>, <span data-value=\"2\" name=\"rk\"></span>, <span data-value=\"9.146964699287633\" name=\"ir\"></span>, <span data-value=\"6.93792E10\" name=\"us\"></span>, <span data-value=\"1745192\" name=\"nv\"></span>, <span data-value=\"-1.8530353007123672\" name=\"ur\"></span>, <span class=\"secondaryInfo\">(1972)</span>, <span class=\"delete\"> </span>, <span data-value=\"3\" name=\"rk\"></span>, <span data-value=\"8.981019756098107\" name=\"ir\"></span>, <span data-value=\"1.560384E11\" name=\"us\"></span>, <span data-value=\"1210719\" name=\"nv\"></span>, <span data-value=\"-2.0189802439018933\" name=\"ur\"></span>, <span class=\"secondaryInfo\">(1974)</span>, <span class=\"delete\"> </span>, <span data-value=\"4\" name=\"rk\"></span>, <span data-value=\"8.976831334852656\" name=\"ir\"></span>, <span data-value=\"1.2159936E12\" name=\"us\"></span>, <span data-value=\"2486125\" name=\"nv\"></span>, <span data-value=\"-2.0231686651473435\" name=\"ur\"></span>, <span class=\"secondaryInfo\">(2008)</span>, <span class=\"delete\"> </span>, <span data-value=\"5\" name=\"rk\"></span>, <span data-value=\"8.942467227964256\" name=\"ir\"></span>, <span data-value=\"-4.016736E11\" name=\"us\"></span>, <span data-value=\"749322\" name=\"nv\"></span>, <span data-value=\"-2.057532772035744\" name=\"ur\"></span>, <span class=\"secondaryInfo\">(1957)</span>, <span class=\"delete\"> </span>, <span data-value=\"6\" name=\"rk\"></span>, <span data-value=\"8.912969315300764\" name=\"ir\"></span>, <span data-value=\"7.546176E11\" name=\"us\"></span>, <span data-value=\"1295380\" name=\"nv\"></span>, <span data-value=\"-2.0870306846992364\" name=\"ur\"></span>, <span class=\"secondaryInfo\">(1993)</span>, <span class=\"delete\"> </span>, <span data-value=\"7\" name=\"rk\"></span>, <span data-value=\"8.892444055515618\" name=\"ir\"></span>, <span data-value=\"1.0702368E12\" name=\"us\"></span>, <span data-value=\"1749292\" name=\"nv\"></span>, <span data-value=\"-2.107555944484382\" name=\"ur\"></span>, <span class=\"secondaryInfo\">(2003)</span>, <span class=\"delete\"> </span>, <span data-value=\"8\" name=\"rk\"></span>, <span data-value=\"8.833320920715543\" name=\"ir\"></span>, <span data-value=\"7.694784E11\" name=\"us\"></span>, <span data-value=\"1952439\" name=\"nv\"></span>, <span data-value=\"-2.1666790792844566\" name=\"ur\"></span>, <span class=\"secondaryInfo\">(1994)</span>, <span class=\"delete\"> </span>, <span data-value=\"9\" name=\"rk\"></span>, <span data-value=\"8.783424357379275\" name=\"ir\"></span>, <span data-value=\"-9.5472E10\" name=\"us\"></span>, <span data-value=\"732409\" name=\"nv\"></span>, <span data-value=\"-2.2165756426207253\" name=\"ur\"></span>, <span class=\"secondaryInfo\">(1966)</span>, <span class=\"delete\"> </span>, <span data-value=\"10\" name=\"rk\"></span>, <span data-value=\"8.782064428362409\" name=\"ir\"></span>, <span data-value=\"1.0079424E12\" name=\"us\"></span>, <span data-value=\"1770810\" name=\"nv\"></span>, <span data-value=\"-2.2179355716375913\" name=\"ur\"></span>, <span class=\"secondaryInfo\">(2001)</span>, <span class=\"delete\"> </span>, <span data-value=\"11\" name=\"rk\"></span>, <span data-value=\"8.74861764973648\" name=\"ir\"></span>, <span data-value=\"9.369216E11\" name=\"us\"></span>, <span data-value=\"1995340\" name=\"nv\"></span>, <span data-value=\"-2.251382350263521\" name=\"ur\"></span>, <span class=\"secondaryInfo\">(1999)</span>, <span class=\"delete\"> </span>, <span data-value=\"12\" name=\"rk\"></span>, <span data-value=\"8.744520981116281\" name=\"ir\"></span>, <span data-value=\"7.723296E11\" name=\"us\"></span>, <span data-value=\"1957008\" name=\"nv\"></span>, <span data-value=\"-2.255479018883719\" name=\"ur\"></span>, <span class=\"secondaryInfo\">(1994)</span>, <span class=\"delete\"> </span>, <span data-value=\"13\" name=\"rk\"></span>, <span data-value=\"8.714893696343287\" name=\"ir\"></span>, <span data-value=\"1.2785472E12\" name=\"us\"></span>, <span data-value=\"2228048\" name=\"nv\"></span>, <span data-value=\"-2.285106303656713\" name=\"ur\"></span>, <span class=\"secondaryInfo\">(2010)</span>, <span class=\"delete\"> </span>, <span data-value=\"14\" name=\"rk\"></span>, <span data-value=\"8.705836572541337\" name=\"ir\"></span>, <span data-value=\"1.0390464E12\" name=\"us\"></span>, <span data-value=\"1580534\" name=\"nv\"></span>, <span data-value=\"-2.2941634274586633\" name=\"ur\"></span>, <span class=\"secondaryInfo\">(2002)</span>, <span class=\"delete\"> </span>, <span data-value=\"15\" name=\"rk\"></span>, <span data-value=\"8.693822463595655\" name=\"ir\"></span>, <span data-value=\"3.273696E11\" name=\"us\"></span>, <span data-value=\"1230647\" name=\"nv\"></span>, <span data-value=\"-2.306177536404345\" name=\"ur\"></span>, <span class=\"secondaryInfo\">(1980)</span>, <span class=\"delete\"> </span>, <span data-value=\"16\" name=\"rk\"></span>, <span data-value=\"8.65048669138845\" name=\"ir\"></span>, <span data-value=\"9.222336E11\" name=\"us\"></span>, <span data-value=\"1830341\" name=\"nv\"></span>, <span data-value=\"-2.3495133086115505\" name=\"ur\"></span>, <span class=\"secondaryInfo\">(1999)</span>, <span class=\"delete\"> </span>, <span data-value=\"17\" name=\"rk\"></span>, <span data-value=\"8.64504561096932\" name=\"ir\"></span>, <span data-value=\"6.528384E11\" name=\"us\"></span>, <span data-value=\"1096651\" name=\"nv\"></span>, <span data-value=\"-2.3549543890306808\" name=\"ur\"></span>, <span class=\"secondaryInfo\">(1990)</span>, <span class=\"delete\"> </span>, <span data-value=\"18\" name=\"rk\"></span>, <span data-value=\"8.63391934347623\" name=\"ir\"></span>, <span data-value=\"1.855872E11\" name=\"us\"></span>, <span data-value=\"970764\" name=\"nv\"></span>, <span data-value=\"-2.3660806565237706\" name=\"ur\"></span>, <span class=\"secondaryInfo\">(1975)</span>, <span class=\"delete\"> </span>, <span data-value=\"19\" name=\"rk\"></span>, <span data-value=\"8.607979336050208\" name=\"ir\"></span>, <span data-value=\"-4.949856E11\" name=\"us\"></span>, <span data-value=\"334885\" name=\"nv\"></span>, <span data-value=\"-2.3920206639497916\" name=\"ur\"></span>, <span class=\"secondaryInfo\">(1954)</span>, <span class=\"delete\"> </span>, <span data-value=\"20\" name=\"rk\"></span>, <span data-value=\"8.587163450785095\" name=\"ir\"></span>, <span data-value=\"8.111232E11\" name=\"us\"></span>, <span data-value=\"1555710\" name=\"nv\"></span>, <span data-value=\"-2.412836549214905\" name=\"ur\"></span>, <span class=\"secondaryInfo\">(1995)</span>, <span class=\"delete\"> </span>, <span data-value=\"21\" name=\"rk\"></span>, <span data-value=\"8.577085706369182\" name=\"ir\"></span>, <span data-value=\"6.651936E11\" name=\"us\"></span>, <span data-value=\"1362993\" name=\"nv\"></span>, <span data-value=\"-2.422914293630818\" name=\"ur\"></span>, <span class=\"secondaryInfo\">(1991)</span>, <span class=\"delete\"> </span>, <span data-value=\"22\" name=\"rk\"></span>, <span data-value=\"8.575878338372199\" name=\"ir\"></span>, <span data-value=\"1.02168E12\" name=\"us\"></span>, <span data-value=\"733146\" name=\"nv\"></span>, <span data-value=\"-2.424121661627801\" name=\"ur\"></span>, <span class=\"secondaryInfo\">(2002)</span>, <span class=\"delete\"> </span>, <span data-value=\"23\" name=\"rk\"></span>, <span data-value=\"8.575582330845181\" name=\"ir\"></span>, <span data-value=\"-7.268832E11\" name=\"us\"></span>, <span data-value=\"438876\" name=\"nv\"></span>, <span data-value=\"-2.4244176691548187\" name=\"ur\"></span>, <span class=\"secondaryInfo\">(1946)</span>, <span class=\"delete\"> </span>, <span data-value=\"24\" name=\"rk\"></span>, <span data-value=\"8.57521014854476\" name=\"ir\"></span>, <span data-value=\"8.82576E11\" name=\"us\"></span>, <span data-value=\"666464\" name=\"nv\"></span>, <span data-value=\"-2.4247898514552393\" name=\"ur\"></span>, <span class=\"secondaryInfo\">(1997)</span>, <span class=\"delete\"> </span>, <span data-value=\"25\" name=\"rk\"></span>, <span data-value=\"8.56698739423059\" name=\"ir\"></span>, <span data-value=\"1.6393536E12\" name=\"us\"></span>, <span data-value=\"429338\" name=\"nv\"></span>, <span data-value=\"-2.4330126057694095\" name=\"ur\"></span>, <span class=\"secondaryInfo\">(2021)</span>, <span class=\"delete\"> </span>, <span data-value=\"26\" name=\"rk\"></span>, <span data-value=\"8.551404263895536\" name=\"ir\"></span>, <span data-value=\"9.009792E11\" name=\"us\"></span>, <span data-value=\"1323472\" name=\"nv\"></span>, <span data-value=\"-2.4485957361044637\" name=\"ur\"></span>, <span class=\"secondaryInfo\">(1998)</span>, <span class=\"delete\"> </span>, <span data-value=\"27\" name=\"rk\"></span>, <span data-value=\"8.548826797616623\" name=\"ir\"></span>, <span data-value=\"2.333664E11\" name=\"us\"></span>, <span data-value=\"1302127\" name=\"nv\"></span>, <span data-value=\"-2.4511732023833765\" name=\"ur\"></span>, <span class=\"secondaryInfo\">(1977)</span>, <span class=\"delete\"> </span>, <span data-value=\"28\" name=\"rk\"></span>, <span data-value=\"8.546210189636737\" name=\"ir\"></span>, <span data-value=\"1.4142816E12\" name=\"us\"></span>, <span data-value=\"1681291\" name=\"nv\"></span>, <span data-value=\"-2.453789810363263\" name=\"ur\"></span>, <span class=\"secondaryInfo\">(2014)</span>, <span class=\"delete\"> </span>, <span data-value=\"29\" name=\"rk\"></span>, <span data-value=\"8.538767959918015\" name=\"ir\"></span>, <span data-value=\"9.955872E11\" name=\"us\"></span>, <span data-value=\"715425\" name=\"nv\"></span>, <span data-value=\"-2.4612320400819847\" name=\"ur\"></span>, <span class=\"secondaryInfo\">(2001)</span>, <span class=\"delete\"> </span>, <span data-value=\"30\" name=\"rk\"></span>, <span data-value=\"8.537715953252162\" name=\"ir\"></span>, <span data-value=\"9.444384E11\" name=\"us\"></span>, <span data-value=\"1233720\" name=\"nv\"></span>, <span data-value=\"-2.462284046747838\" name=\"ur\"></span>, <span class=\"secondaryInfo\">(1999)</span>, <span class=\"delete\"> </span>, <span data-value=\"31\" name=\"rk\"></span>, <span data-value=\"8.525010391230186\" name=\"ir\"></span>, <span data-value=\"1.5583968E12\" name=\"us\"></span>, <span data-value=\"711979\" name=\"nv\"></span>, <span data-value=\"-2.474989608769814\" name=\"ur\"></span>, <span class=\"secondaryInfo\">(2019)</span>, <span class=\"delete\"> </span>, <span data-value=\"32\" name=\"rk\"></span>, <span data-value=\"8.495534229499027\" name=\"ir\"></span>, <span data-value=\"7.795008E11\" name=\"us\"></span>, <span data-value=\"1107866\" name=\"nv\"></span>, <span data-value=\"-2.504465770500973\" name=\"ur\"></span>, <span class=\"secondaryInfo\">(1994)</span>, <span class=\"delete\"> </span>, <span data-value=\"33\" name=\"rk\"></span>, <span data-value=\"8.493598010724014\" name=\"ir\"></span>, <span data-value=\"-2.301696E11\" name=\"us\"></span>, <span data-value=\"51898\" name=\"nv\"></span>, <span data-value=\"-2.506401989275986\" name=\"ur\"></span>, <span class=\"secondaryInfo\">(1962)</span>, <span class=\"delete\"> </span>, <span data-value=\"34\" name=\"rk\"></span>, <span data-value=\"8.49107569890924\" name=\"ir\"></span>, <span data-value=\"1.0221984E12\" name=\"us\"></span>, <span data-value=\"790515\" name=\"nv\"></span>, <span data-value=\"-2.50892430109076\" name=\"ur\"></span>, <span class=\"secondaryInfo\">(2002)</span>, <span class=\"delete\"> </span>, <span data-value=\"35\" name=\"rk\"></span>, <span data-value=\"8.485814838897685\" name=\"ir\"></span>, <span data-value=\"6.783264E11\" name=\"us\"></span>, <span data-value=\"1053517\" name=\"nv\"></span>, <span data-value=\"-2.514185161102315\" name=\"ur\"></span>, <span class=\"secondaryInfo\">(1991)</span>, <span class=\"delete\"> </span>, <span data-value=\"36\" name=\"rk\"></span>, <span data-value=\"8.48423671599177\" name=\"ir\"></span>, <span data-value=\"4.891968E11\" name=\"us\"></span>, <span data-value=\"1140445\" name=\"nv\"></span>, <span data-value=\"-2.51576328400823\" name=\"ur\"></span>, <span class=\"secondaryInfo\">(1985)</span>, <span class=\"delete\"> </span>, <span data-value=\"37\" name=\"rk\"></span>, <span data-value=\"8.481951728836822\" name=\"ir\"></span>, <span data-value=\"7.90992E11\" name=\"us\"></span>, <span data-value=\"1047449\" name=\"nv\"></span>, <span data-value=\"-2.5180482711631775\" name=\"ur\"></span>, <span class=\"secondaryInfo\">(1995)</span>, <span class=\"delete\"> </span>, <span data-value=\"38\" name=\"rk\"></span>, <span data-value=\"8.481702414247946\" name=\"ir\"></span>, <span data-value=\"-3.011904E11\" name=\"us\"></span>, <span data-value=\"644016\" name=\"nv\"></span>, <span data-value=\"-2.5182975857520535\" name=\"ur\"></span>, <span class=\"secondaryInfo\">(1960)</span>, <span class=\"delete\"> </span>, <span data-value=\"39\" name=\"rk\"></span>, <span data-value=\"8.48106190459635\" name=\"ir\"></span>, <span data-value=\"7.713792E11\" name=\"us\"></span>, <span data-value=\"1006505\" name=\"nv\"></span>, <span data-value=\"-2.5189380954036498\" name=\"ur\"></span>, <span class=\"secondaryInfo\">(1994)</span>, <span class=\"delete\"> </span>, <span data-value=\"40\" name=\"rk\"></span>, <span data-value=\"8.477683934465418\" name=\"ir\"></span>, <span data-value=\"-1.0699776E12\" name=\"us\"></span>, <span data-value=\"233563\" name=\"nv\"></span>, <span data-value=\"-2.522316065534582\" name=\"ur\"></span>, <span class=\"secondaryInfo\">(1936)</span>, <span class=\"delete\"> </span>, <span data-value=\"41\" name=\"rk\"></span>, <span data-value=\"8.474243883955724\" name=\"ir\"></span>, <span data-value=\"5.77152E11\" name=\"us\"></span>, <span data-value=\"260438\" name=\"nv\"></span>, <span data-value=\"-2.525756116044276\" name=\"ur\"></span>, <span class=\"secondaryInfo\">(1988)</span>, <span class=\"delete\"> </span>, <span data-value=\"42\" name=\"rk\"></span>, <span data-value=\"8.47222897593565\" name=\"ir\"></span>, <span data-value=\"8.992512E11\" name=\"us\"></span>, <span data-value=\"1083998\" name=\"nv\"></span>, <span data-value=\"-2.52777102406435\" name=\"ur\"></span>, <span class=\"secondaryInfo\">(1998)</span>, <span class=\"delete\"> </span>, <span data-value=\"43\" name=\"rk\"></span>, <span data-value=\"8.46978174817026\" name=\"ir\"></span>, <span data-value=\"1.3898304E12\" name=\"us\"></span>, <span data-value=\"788207\" name=\"nv\"></span>, <span data-value=\"-2.5302182518297407\" name=\"ur\"></span>, <span class=\"secondaryInfo\">(2014)</span>, <span class=\"delete\"> </span>, <span data-value=\"44\" name=\"rk\"></span>, <span data-value=\"8.469700621746105\" name=\"ir\"></span>, <span data-value=\"9.571392E11\" name=\"us\"></span>, <span data-value=\"1431144\" name=\"nv\"></span>, <span data-value=\"-2.530299378253895\" name=\"ur\"></span>, <span class=\"secondaryInfo\">(2000)</span>, <span class=\"delete\"> </span>, <span data-value=\"45\" name=\"rk\"></span>, <span data-value=\"8.468304335773725\" name=\"ir\"></span>, <span data-value=\"-1.2282624E12\" name=\"us\"></span>, <span data-value=\"179283\" name=\"nv\"></span>, <span data-value=\"-2.531695664226275\" name=\"ur\"></span>, <span class=\"secondaryInfo\">(1931)</span>, <span class=\"delete\"> </span>, <span data-value=\"46\" name=\"rk\"></span>, <span data-value=\"8.467344913866837\" name=\"ir\"></span>, <span data-value=\"1.1592288E12\" name=\"us\"></span>, <span data-value=\"1266735\" name=\"nv\"></span>, <span data-value=\"-2.532655086133163\" name=\"ur\"></span>, <span class=\"secondaryInfo\">(2006)</span>, <span class=\"delete\"> </span>, <span data-value=\"47\" name=\"rk\"></span>, <span data-value=\"8.45861834532895\" name=\"ir\"></span>, <span data-value=\"1.316736E12\" name=\"us\"></span>, <span data-value=\"817055\" name=\"nv\"></span>, <span data-value=\"-2.5413816546710493\" name=\"ur\"></span>, <span class=\"secondaryInfo\">(2011)</span>, <span class=\"delete\"> </span>, <span data-value=\"48\" name=\"rk\"></span>, <span data-value=\"8.453990020372256\" name=\"ir\"></span>, <span data-value=\"1.1610432E12\" name=\"us\"></span>, <span data-value=\"1273200\" name=\"nv\"></span>, <span data-value=\"-2.546009979627744\" name=\"ur\"></span>, <span class=\"secondaryInfo\">(2006)</span>, <span class=\"delete\"> </span>, <span data-value=\"49\" name=\"rk\"></span>, <span data-value=\"8.44861475710013\" name=\"ir\"></span>, <span data-value=\"-8.551872E11\" name=\"us\"></span>, <span data-value=\"552521\" name=\"nv\"></span>, <span data-value=\"-2.5513852428998707\" name=\"ur\"></span>, <span class=\"secondaryInfo\">(1942)</span>, <span class=\"delete\"> </span>, <span data-value=\"50\" name=\"rk\"></span>, <span data-value=\"8.445513860468763\" name=\"ir\"></span>, <span data-value=\"-3.25728E10\" name=\"us\"></span>, <span data-value=\"319694\" name=\"nv\"></span>, <span data-value=\"-2.554486139531237\" name=\"ur\"></span>, <span class=\"secondaryInfo\">(1968)</span>, <span class=\"delete\"> </span>, <span data-value=\"51\" name=\"rk\"></span>, <span data-value=\"8.43948025643996\" name=\"ir\"></span>, <span data-value=\"-4.866048E11\" name=\"us\"></span>, <span data-value=\"474405\" name=\"nv\"></span>, <span data-value=\"-2.5605197435600395\" name=\"ur\"></span>, <span class=\"secondaryInfo\">(1954)</span>, <span class=\"delete\"> </span>, <span data-value=\"52\" name=\"rk\"></span>, <span data-value=\"8.438539839340223\" name=\"ir\"></span>, <span data-value=\"5.914944E11\" name=\"us\"></span>, <span data-value=\"250767\" name=\"nv\"></span>, <span data-value=\"-2.5614601606597773\" name=\"ur\"></span>, <span class=\"secondaryInfo\">(1988)</span>, <span class=\"delete\"> </span>, <span data-value=\"53\" name=\"rk\"></span>, <span data-value=\"8.42207714808767\" name=\"ir\"></span>, <span data-value=\"2.964384E11\" name=\"us\"></span>, <span data-value=\"841057\" name=\"nv\"></span>, <span data-value=\"-2.57792285191233\" name=\"ur\"></span>, <span class=\"secondaryInfo\">(1979)</span>, <span class=\"delete\"> </span>, <span data-value=\"54\" name=\"rk\"></span>, <span data-value=\"8.416411889725698\" name=\"ir\"></span>, <span data-value=\"2.9592E11\" name=\"us\"></span>, <span data-value=\"642121\" name=\"nv\"></span>, <span data-value=\"-2.5835881102743024\" name=\"ur\"></span>, <span class=\"secondaryInfo\">(1979)</span>, <span class=\"delete\"> </span>, <span data-value=\"55\" name=\"rk\"></span>, <span data-value=\"8.406318687271634\" name=\"ir\"></span>, <span data-value=\"9.68112E11\" name=\"us\"></span>, <span data-value=\"1190993\" name=\"nv\"></span>, <span data-value=\"-2.593681312728366\" name=\"ur\"></span>, <span class=\"secondaryInfo\">(2000)</span>, <span class=\"delete\"> </span>, <span data-value=\"56\" name=\"rk\"></span>, <span data-value=\"8.404187242576006\" name=\"ir\"></span>, <span data-value=\"3.61152E11\" name=\"us\"></span>, <span data-value=\"932485\" name=\"nv\"></span>, <span data-value=\"-2.595812757423994\" name=\"ur\"></span>, <span class=\"secondaryInfo\">(1981)</span>, <span class=\"delete\"> </span>, <span data-value=\"57\" name=\"rk\"></span>, <span data-value=\"8.403059815131659\" name=\"ir\"></span>, <span data-value=\"-9.21888E11\" name=\"us\"></span>, <span data-value=\"217206\" name=\"nv\"></span>, <span data-value=\"-2.596940184868341\" name=\"ur\"></span>, <span class=\"secondaryInfo\">(1940)</span>, <span class=\"delete\"> </span>, <span data-value=\"58\" name=\"rk\"></span>, <span data-value=\"8.391443421475824\" name=\"ir\"></span>, <span data-value=\"1.355184E12\" name=\"us\"></span>, <span data-value=\"1466072\" name=\"nv\"></span>, <span data-value=\"-2.608556578524176\" name=\"ur\"></span>, <span class=\"secondaryInfo\">(2012)</span>, <span class=\"delete\"> </span>, <span data-value=\"59\" name=\"rk\"></span>, <span data-value=\"8.390155460473418\" name=\"ir\"></span>, <span data-value=\"1.1423808E12\" name=\"us\"></span>, <span data-value=\"378927\" name=\"nv\"></span>, <span data-value=\"-2.6098445395265824\" name=\"ur\"></span>, <span class=\"secondaryInfo\">(2006)</span>, <span class=\"delete\"> </span>, <span data-value=\"60\" name=\"rk\"></span>, <span data-value=\"8.382358197019716\" name=\"ir\"></span>, <span data-value=\"-3.845664E11\" name=\"us\"></span>, <span data-value=\"190646\" name=\"nv\"></span>, <span data-value=\"-2.617641802980284\" name=\"ur\"></span>, <span class=\"secondaryInfo\">(1957)</span>, <span class=\"delete\"> </span>, <span data-value=\"61\" name=\"rk\"></span>, <span data-value=\"8.376352569131697\" name=\"ir\"></span>, <span data-value=\"-6.12576E11\" name=\"us\"></span>, <span data-value=\"214845\" name=\"nv\"></span>, <span data-value=\"-2.623647430868303\" name=\"ur\"></span>, <span class=\"secondaryInfo\">(1950)</span>, <span class=\"delete\"> </span>, <span data-value=\"62\" name=\"rk\"></span>, <span data-value=\"8.374077790889995\" name=\"ir\"></span>, <span data-value=\"1.2140064E12\" name=\"us\"></span>, <span data-value=\"1065722\" name=\"nv\"></span>, <span data-value=\"-2.625922209110005\" name=\"ur\"></span>, <span class=\"secondaryInfo\">(2008)</span>, <span class=\"delete\"> </span>, <span data-value=\"63\" name=\"rk\"></span>, <span data-value=\"8.371296435253468\" name=\"ir\"></span>, <span data-value=\"1.5244416E12\" name=\"us\"></span>, <span data-value=\"974945\" name=\"nv\"></span>, <span data-value=\"-2.628703564746532\" name=\"ur\"></span>, <span class=\"secondaryInfo\">(2018)</span>, <span class=\"delete\"> </span>, <span data-value=\"64\" name=\"rk\"></span>, <span data-value=\"8.365504681725243\" name=\"ir\"></span>, <span data-value=\"-3.799872E11\" name=\"us\"></span>, <span data-value=\"119897\" name=\"nv\"></span>, <span data-value=\"-2.634495318274757\" name=\"ur\"></span>, <span class=\"secondaryInfo\">(1957)</span>, <span class=\"delete\"> </span>, <span data-value=\"65\" name=\"rk\"></span>, <span data-value=\"8.364335717568572\" name=\"ir\"></span>, <span data-value=\"1.5440544E12\" name=\"us\"></span>, <span data-value=\"466369\" name=\"nv\"></span>, <span data-value=\"-2.635664282431428\" name=\"ur\"></span>, <span class=\"secondaryInfo\">(2018)</span>, <span class=\"delete\"> </span>, <span data-value=\"66\" name=\"rk\"></span>, <span data-value=\"8.363170407001954\" name=\"ir\"></span>, <span data-value=\"3.27888E11\" name=\"us\"></span>, <span data-value=\"968170\" name=\"nv\"></span>, <span data-value=\"-2.636829592998046\" name=\"ur\"></span>, <span class=\"secondaryInfo\">(1980)</span>, <span class=\"delete\"> </span>, <span data-value=\"67\" name=\"rk\"></span>, <span data-value=\"8.350977087903\" name=\"ir\"></span>, <span data-value=\"-1.869696E11\" name=\"us\"></span>, <span data-value=\"474631\" name=\"nv\"></span>, <span data-value=\"-2.6490229120969992\" name=\"ur\"></span>, <span class=\"secondaryInfo\">(1964)</span>, <span class=\"delete\"> </span>, <span data-value=\"68\" name=\"rk\"></span>, <span data-value=\"8.344456217113189\" name=\"ir\"></span>, <span data-value=\"8.686656E11\" name=\"us\"></span>, <span data-value=\"374553\" name=\"nv\"></span>, <span data-value=\"-2.655543782886811\" name=\"ur\"></span>, <span class=\"secondaryInfo\">(1997)</span>, <span class=\"delete\"> </span>, <span data-value=\"69\" name=\"rk\"></span>, <span data-value=\"8.343405781188375\" name=\"ir\"></span>, <span data-value=\"1.0693728E12\" name=\"us\"></span>, <span data-value=\"553289\" name=\"nv\"></span>, <span data-value=\"-2.656594218811625\" name=\"ur\"></span>, <span class=\"secondaryInfo\">(2003)</span>, <span class=\"delete\"> </span>, <span data-value=\"70\" name=\"rk\"></span>, <span data-value=\"8.339065904109304\" name=\"ir\"></span>, <span data-value=\"1.5672096E12\" name=\"us\"></span>, <span data-value=\"1135820\" name=\"nv\"></span>, <span data-value=\"-2.6609340958906955\" name=\"ur\"></span>, <span class=\"secondaryInfo\">(2019)</span>, <span class=\"delete\"> </span>, <span data-value=\"71\" name=\"rk\"></span>, <span data-value=\"8.328461529594772\" name=\"ir\"></span>, <span data-value=\"1.467504E12\" name=\"us\"></span>, <span data-value=\"239033\" name=\"nv\"></span>, <span data-value=\"-2.6715384704052276\" name=\"ur\"></span>, <span class=\"secondaryInfo\">(2016)</span>, <span class=\"delete\"> </span>, <span data-value=\"72\" name=\"rk\"></span>, <span data-value=\"8.323196712251583\" name=\"ir\"></span>, <span data-value=\"1.5084576E12\" name=\"us\"></span>, <span data-value=\"458287\" name=\"nv\"></span>, <span data-value=\"-2.6768032877484167\" name=\"ur\"></span>, <span class=\"secondaryInfo\">(2017)</span>, <span class=\"delete\"> </span>, <span data-value=\"73\" name=\"rk\"></span>, <span data-value=\"8.321822318898013\" name=\"ir\"></span>, <span data-value=\"1.3423968E12\" name=\"us\"></span>, <span data-value=\"1613046\" name=\"nv\"></span>, <span data-value=\"-2.678177681101987\" name=\"ur\"></span>, <span class=\"secondaryInfo\">(2012)</span>, <span class=\"delete\"> </span>, <span data-value=\"74\" name=\"rk\"></span>, <span data-value=\"8.32039783998096\" name=\"ir\"></span>, <span data-value=\"5.216832E11\" name=\"us\"></span>, <span data-value=\"691007\" name=\"nv\"></span>, <span data-value=\"-2.6796021600190407\" name=\"ur\"></span>, <span class=\"secondaryInfo\">(1986)</span>, <span class=\"delete\"> </span>, <span data-value=\"75\" name=\"rk\"></span>, <span data-value=\"8.318024687043522\" name=\"ir\"></span>, <span data-value=\"4.538592E11\" name=\"us\"></span>, <span data-value=\"337382\" name=\"nv\"></span>, <span data-value=\"-2.681975312956478\" name=\"ur\"></span>, <span class=\"secondaryInfo\">(1984)</span>, <span class=\"delete\"> </span>, <span data-value=\"76\" name=\"rk\"></span>, <span data-value=\"8.31314662240263\" name=\"ir\"></span>, <span data-value=\"1.5558912E12\" name=\"us\"></span>, <span data-value=\"1004906\" name=\"nv\"></span>, <span data-value=\"-2.6868533775973695\" name=\"ur\"></span>, <span class=\"secondaryInfo\">(2019)</span>, <span class=\"delete\"> </span>, <span data-value=\"77\" name=\"rk\"></span>, <span data-value=\"8.310984391108052\" name=\"ir\"></span>, <span data-value=\"1.5265152E12\" name=\"us\"></span>, <span data-value=\"81082\" name=\"nv\"></span>, <span data-value=\"-2.689015608891948\" name=\"ur\"></span>, <span class=\"secondaryInfo\">(2018)</span>, <span class=\"delete\"> </span>, <span data-value=\"78\" name=\"rk\"></span>, <span data-value=\"8.306206525098467\" name=\"ir\"></span>, <span data-value=\"3.695328E11\" name=\"us\"></span>, <span data-value=\"244432\" name=\"nv\"></span>, <span data-value=\"-2.6937934749015326\" name=\"ur\"></span>, <span class=\"secondaryInfo\">(1981)</span>, <span class=\"delete\"> </span>, <span data-value=\"79\" name=\"rk\"></span>, <span data-value=\"8.302733863197279\" name=\"ir\"></span>, <span data-value=\"-2.158272E11\" name=\"us\"></span>, <span data-value=\"41436\" name=\"nv\"></span>, <span data-value=\"-2.697266136802721\" name=\"ur\"></span>, <span class=\"secondaryInfo\">(1963)</span>, <span class=\"delete\"> </span>, <span data-value=\"80\" name=\"rk\"></span>, <span data-value=\"8.298299963381409\" name=\"ir\"></span>, <span data-value=\"1.2577248E12\" name=\"us\"></span>, <span data-value=\"377389\" name=\"nv\"></span>, <span data-value=\"-2.7017000366185915\" name=\"ur\"></span>, <span class=\"secondaryInfo\">(2009)</span>, <span class=\"delete\"> </span>, <span data-value=\"81\" name=\"rk\"></span>, <span data-value=\"8.296642104243956\" name=\"ir\"></span>, <span data-value=\"8.167392E11\" name=\"us\"></span>, <span data-value=\"947565\" name=\"nv\"></span>, <span data-value=\"-2.703357895756044\" name=\"ur\"></span>, <span class=\"secondaryInfo\">(1995)</span>, <span class=\"delete\"> </span>, <span data-value=\"82\" name=\"rk\"></span>, <span data-value=\"8.295500544212524\" name=\"ir\"></span>, <span data-value=\"4.632768E11\" name=\"us\"></span>, <span data-value=\"388644\" name=\"nv\"></span>, <span data-value=\"-2.7044994557874755\" name=\"ur\"></span>, <span class=\"secondaryInfo\">(1984)</span>, <span class=\"delete\"> </span>, <span data-value=\"83\" name=\"rk\"></span>, <span data-value=\"8.294358277939983\" name=\"ir\"></span>, <span data-value=\"9.367488E11\" name=\"us\"></span>, <span data-value=\"1120433\" name=\"nv\"></span>, <span data-value=\"-2.705641722060017\" name=\"ur\"></span>, <span class=\"secondaryInfo\">(1999)</span>, <span class=\"delete\"> </span>, <span data-value=\"84\" name=\"rk\"></span>, <span data-value=\"8.292868031442797\" name=\"ir\"></span>, <span data-value=\"8.007552E11\" name=\"us\"></span>, <span data-value=\"1004690\" name=\"nv\"></span>, <span data-value=\"-2.707131968557203\" name=\"ur\"></span>, <span class=\"secondaryInfo\">(1995)</span>, <span class=\"delete\"> </span>, <span data-value=\"85\" name=\"rk\"></span>, <span data-value=\"8.291336719928251\" name=\"ir\"></span>, <span data-value=\"1.2427776E12\" name=\"us\"></span>, <span data-value=\"1368041\" name=\"nv\"></span>, <span data-value=\"-2.7086632800717485\" name=\"ur\"></span>, <span class=\"secondaryInfo\">(2009)</span>, <span class=\"delete\"> </span>, <span data-value=\"86\" name=\"rk\"></span>, <span data-value=\"8.283963994966944\" name=\"ir\"></span>, <span data-value=\"8.810208E11\" name=\"us\"></span>, <span data-value=\"922051\" name=\"nv\"></span>, <span data-value=\"-2.7160360050330556\" name=\"ur\"></span>, <span class=\"secondaryInfo\">(1997)</span>, <span class=\"delete\"> </span>, <span data-value=\"87\" name=\"rk\"></span>, <span data-value=\"8.279392741914153\" name=\"ir\"></span>, <span data-value=\"1.5937344E12\" name=\"us\"></span>, <span data-value=\"81848\" name=\"nv\"></span>, <span data-value=\"-2.720607258085847\" name=\"ur\"></span>, <span class=\"secondaryInfo\">(2020)</span>, <span class=\"delete\"> </span>, <span data-value=\"88\" name=\"rk\"></span>, <span data-value=\"8.273226924346861\" name=\"ir\"></span>, <span data-value=\"4.226688E11\" name=\"us\"></span>, <span data-value=\"1005964\" name=\"nv\"></span>, <span data-value=\"-2.7267730756531385\" name=\"ur\"></span>, <span class=\"secondaryInfo\">(1983)</span>, <span class=\"delete\"> </span>, <span data-value=\"89\" name=\"rk\"></span>, <span data-value=\"8.272905474939934\" name=\"ir\"></span>, <span data-value=\"4.897152E11\" name=\"us\"></span>, <span data-value=\"71679\" name=\"nv\"></span>, <span data-value=\"-2.7270945250600658\" name=\"ur\"></span>, <span class=\"secondaryInfo\">(1985)</span>, <span class=\"delete\"> </span>, <span data-value=\"90\" name=\"rk\"></span>, <span data-value=\"8.271740645184682\" name=\"ir\"></span>, <span data-value=\"-5.52096E10\" name=\"us\"></span>, <span data-value=\"642581\" name=\"nv\"></span>, <span data-value=\"-2.728259354815318\" name=\"ur\"></span>, <span class=\"secondaryInfo\">(1968)</span>, <span class=\"delete\"> </span>, <span data-value=\"91\" name=\"rk\"></span>, <span data-value=\"8.269593096778081\" name=\"ir\"></span>, <span data-value=\"6.95952E11\" name=\"us\"></span>, <span data-value=\"976636\" name=\"nv\"></span>, <span data-value=\"-2.730406903221919\" name=\"ur\"></span>, <span class=\"secondaryInfo\">(1992)</span>, <span class=\"delete\"> </span>, <span data-value=\"92\" name=\"rk\"></span>, <span data-value=\"8.268736188870239\" name=\"ir\"></span>, <span data-value=\"1.1981952E12\" name=\"us\"></span>, <span data-value=\"185012\" name=\"nv\"></span>, <span data-value=\"-2.731263811129761\" name=\"ur\"></span>, <span class=\"secondaryInfo\">(2007)</span>, <span class=\"delete\"> </span>, <span data-value=\"93\" name=\"rk\"></span>, <span data-value=\"8.268448446447444\" name=\"ir\"></span>, <span data-value=\"-3.665088E11\" name=\"us\"></span>, <span data-value=\"389587\" name=\"nv\"></span>, <span data-value=\"-2.7315515535525563\" name=\"ur\"></span>, <span class=\"secondaryInfo\">(1958)</span>, <span class=\"delete\"> </span>, <span data-value=\"94\" name=\"rk\"></span>, <span data-value=\"8.267711284113867\" name=\"ir\"></span>, <span data-value=\"-1.219536E12\" name=\"us\"></span>, <span data-value=\"153351\" name=\"nv\"></span>, <span data-value=\"-2.732288715886133\" name=\"ur\"></span>, <span class=\"secondaryInfo\">(1931)</span>, <span class=\"delete\"> </span>, <span data-value=\"95\" name=\"rk\"></span>, <span data-value=\"8.266585795590917\" name=\"ir\"></span>, <span data-value=\"1.337472E12\" name=\"us\"></span>, <span data-value=\"313024\" name=\"nv\"></span>, <span data-value=\"-2.7334142044090832\" name=\"ur\"></span>, <span class=\"secondaryInfo\">(2012)</span>, <span class=\"delete\"> </span>, <span data-value=\"96\" name=\"rk\"></span>, <span data-value=\"8.265496248247958\" name=\"ir\"></span>, <span data-value=\"-9.047808E11\" name=\"us\"></span>, <span data-value=\"429451\" name=\"nv\"></span>, <span data-value=\"-2.734503751752042\" name=\"ur\"></span>, <span class=\"secondaryInfo\">(1941)</span>, <span class=\"delete\"> </span>, <span data-value=\"97\" name=\"rk\"></span>, <span data-value=\"8.260453405749313\" name=\"ir\"></span>, <span data-value=\"9.582624E11\" name=\"us\"></span>, <span data-value=\"809216\" name=\"nv\"></span>, <span data-value=\"-2.7395465942506867\" name=\"ur\"></span>, <span class=\"secondaryInfo\">(2000)</span>, <span class=\"delete\"> </span>, <span data-value=\"98\" name=\"rk\"></span>, <span data-value=\"8.25944748039341\" name=\"ir\"></span>, <span data-value=\"-5.606496E11\" name=\"us\"></span>, <span data-value=\"233608\" name=\"nv\"></span>, <span data-value=\"-2.74055251960659\" name=\"ur\"></span>, <span class=\"secondaryInfo\">(1952)</span>, <span class=\"delete\"> </span>, <span data-value=\"99\" name=\"rk\"></span>, <span data-value=\"8.256515481705907\" name=\"ir\"></span>, <span data-value=\"-3.315168E11\" name=\"us\"></span>, <span data-value=\"317912\" name=\"nv\"></span>, <span data-value=\"-2.7434845182940926\" name=\"ur\"></span>, <span class=\"secondaryInfo\">(1959)</span>, <span class=\"delete\"> </span>, <span data-value=\"100\" name=\"rk\"></span>, <span data-value=\"8.255048430961969\" name=\"ir\"></span>, <span data-value=\"1.0787904E12\" name=\"us\"></span>, <span data-value=\"966162\" name=\"nv\"></span>, <span data-value=\"-2.7449515690380313\" name=\"ur\"></span>, <span class=\"secondaryInfo\">(2004)</span>, <span class=\"delete\"> </span>, <span data-value=\"101\" name=\"rk\"></span>, <span data-value=\"8.254999202296231\" name=\"ir\"></span>, <span data-value=\"-5.437152E11\" name=\"us\"></span>, <span data-value=\"75495\" name=\"nv\"></span>, <span data-value=\"-2.745000797703769\" name=\"ur\"></span>, <span class=\"secondaryInfo\">(1952)</span>, <span class=\"delete\"> </span>, <span data-value=\"102\" name=\"rk\"></span>, <span data-value=\"8.253690885389187\" name=\"ir\"></span>, <span data-value=\"-6.662304E11\" name=\"us\"></span>, <span data-value=\"158635\" name=\"nv\"></span>, <span data-value=\"-2.7463091146108134\" name=\"ur\"></span>, <span class=\"secondaryInfo\">(1948)</span>, <span class=\"delete\"> </span>, <span data-value=\"103\" name=\"rk\"></span>, <span data-value=\"8.250354606119842\" name=\"ir\"></span>, <span data-value=\"-2.228256E11\" name=\"us\"></span>, <span data-value=\"284501\" name=\"nv\"></span>, <span data-value=\"-2.749645393880158\" name=\"ur\"></span>, <span class=\"secondaryInfo\">(1962)</span>, <span class=\"delete\"> </span>, <span data-value=\"104\" name=\"rk\"></span>, <span data-value=\"8.24309381993461\" name=\"ir\"></span>, <span data-value=\"-1.5450048E12\" name=\"us\"></span>, <span data-value=\"122736\" name=\"nv\"></span>, <span data-value=\"-2.756906180065389\" name=\"ur\"></span>, <span class=\"secondaryInfo\">(1921)</span>, <span class=\"delete\"> </span>, <span data-value=\"105\" name=\"rk\"></span>, <span data-value=\"8.241470795617664\" name=\"ir\"></span>, <span data-value=\"5.508864E11\" name=\"us\"></span>, <span data-value=\"714060\" name=\"nv\"></span>, <span data-value=\"-2.758529204382336\" name=\"ur\"></span>, <span class=\"secondaryInfo\">(1987)</span>, <span class=\"delete\"> </span>, <span data-value=\"106\" name=\"rk\"></span>, <span data-value=\"8.240087973045943\" name=\"ir\"></span>, <span data-value=\"1.283472E12\" name=\"us\"></span>, <span data-value=\"168361\" name=\"nv\"></span>, <span data-value=\"-2.7599120269540567\" name=\"ur\"></span>, <span class=\"secondaryInfo\">(2010)</span>, <span class=\"delete\"> </span>, <span data-value=\"107\" name=\"rk\"></span>, <span data-value=\"8.239782497825244\" name=\"ir\"></span>, <span data-value=\"-3.012768E11\" name=\"us\"></span>, <span data-value=\"175672\" name=\"nv\"></span>, <span data-value=\"-2.760217502174756\" name=\"ur\"></span>, <span class=\"secondaryInfo\">(1960)</span>, <span class=\"delete\"> </span>, <span data-value=\"108\" name=\"rk\"></span>, <span data-value=\"8.239637283993687\" name=\"ir\"></span>, <span data-value=\"1.4822784E12\" name=\"us\"></span>, <span data-value=\"177491\" name=\"nv\"></span>, <span data-value=\"-2.7603627160063127\" name=\"ur\"></span>, <span class=\"secondaryInfo\">(2016)</span>, <span class=\"delete\"> </span>, <span data-value=\"109\" name=\"rk\"></span>, <span data-value=\"8.235656294457897\" name=\"ir\"></span>, <span data-value=\"-8.106912E11\" name=\"us\"></span>, <span data-value=\"152459\" name=\"nv\"></span>, <span data-value=\"-2.764343705542103\" name=\"ur\"></span>, <span class=\"secondaryInfo\">(1944)</span>, <span class=\"delete\"> </span>, <span data-value=\"110\" name=\"rk\"></span>, <span data-value=\"8.234902926048916\" name=\"ir\"></span>, <span data-value=\"-1.3562208E12\" name=\"us\"></span>, <span data-value=\"169593\" name=\"nv\"></span>, <span data-value=\"-2.7650970739510843\" name=\"ur\"></span>, <span class=\"secondaryInfo\">(1927)</span>, <span class=\"delete\"> </span>, <span data-value=\"111\" name=\"rk\"></span>, <span data-value=\"8.23441353520198\" name=\"ir\"></span>, <span data-value=\"1.2965184E12\" name=\"us\"></span>, <span data-value=\"236341\" name=\"nv\"></span>, <span data-value=\"-2.7655864647980195\" name=\"ur\"></span>, <span class=\"secondaryInfo\">(2011)</span>, <span class=\"delete\"> </span>, <span data-value=\"112\" name=\"rk\"></span>, <span data-value=\"8.234171178087053\" name=\"ir\"></span>, <span data-value=\"1.5800832E12\" name=\"us\"></span>, <span data-value=\"121615\" name=\"nv\"></span>, <span data-value=\"-2.7658288219129474\" name=\"ur\"></span>, <span class=\"secondaryInfo\">(2020)</span>, <span class=\"delete\"> </span>, <span data-value=\"113\" name=\"rk\"></span>, <span data-value=\"8.233844389488652\" name=\"ir\"></span>, <span data-value=\"1.925856E11\" name=\"us\"></span>, <span data-value=\"780654\" name=\"nv\"></span>, <span data-value=\"-2.7661556105113476\" name=\"ur\"></span>, <span class=\"secondaryInfo\">(1976)</span>, <span class=\"delete\"> </span>, <span data-value=\"114\" name=\"rk\"></span>, <span data-value=\"8.23383123798539\" name=\"ir\"></span>, <span data-value=\"6.19488E10\" name=\"us\"></span>, <span data-value=\"799724\" name=\"nv\"></span>, <span data-value=\"-2.76616876201461\" name=\"ur\"></span>, <span class=\"secondaryInfo\">(1971)</span>, <span class=\"delete\"> </span>, <span data-value=\"115\" name=\"rk\"></span>, <span data-value=\"8.23210857120138\" name=\"ir\"></span>, <span data-value=\"1.256256E11\" name=\"us\"></span>, <span data-value=\"254434\" name=\"nv\"></span>, <span data-value=\"-2.7678914287986203\" name=\"ur\"></span>, <span class=\"secondaryInfo\">(1973)</span>, <span class=\"delete\"> </span>, <span data-value=\"116\" name=\"rk\"></span>, <span data-value=\"8.231648129921444\" name=\"ir\"></span>, <span data-value=\"4.390848E11\" name=\"us\"></span>, <span data-value=\"796720\" name=\"nv\"></span>, <span data-value=\"-2.768351870078556\" name=\"ur\"></span>, <span class=\"secondaryInfo\">(1983)</span>, <span class=\"delete\"> </span>, <span data-value=\"117\" name=\"rk\"></span>, <span data-value=\"8.228836838148727\" name=\"ir\"></span>, <span data-value=\"9.669888E11\" name=\"us\"></span>, <span data-value=\"826374\" name=\"nv\"></span>, <span data-value=\"-2.7711631618512733\" name=\"ur\"></span>, <span class=\"secondaryInfo\">(2000)</span>, <span class=\"delete\"> </span>, <span data-value=\"118\" name=\"rk\"></span>, <span data-value=\"8.227525836207215\" name=\"ir\"></span>, <span data-value=\"1.5754176E12\" name=\"us\"></span>, <span data-value=\"527901\" name=\"nv\"></span>, <span data-value=\"-2.7724741637927846\" name=\"ur\"></span>, <span class=\"secondaryInfo\">(2019)</span>, <span class=\"delete\"> </span>, <span data-value=\"119\" name=\"rk\"></span>, <span data-value=\"8.226804605002526\" name=\"ir\"></span>, <span data-value=\"9.881568E11\" name=\"us\"></span>, <span data-value=\"735142\" name=\"nv\"></span>, <span data-value=\"-2.773195394997474\" name=\"ur\"></span>, <span class=\"secondaryInfo\">(2001)</span>, <span class=\"delete\"> </span>, <span data-value=\"120\" name=\"rk\"></span>, <span data-value=\"8.22418457602572\" name=\"ir\"></span>, <span data-value=\"-2.219616E11\" name=\"us\"></span>, <span data-value=\"308491\" name=\"nv\"></span>, <span data-value=\"-2.7758154239742794\" name=\"ur\"></span>, <span class=\"secondaryInfo\">(1962)</span>, <span class=\"delete\"> </span>, <span data-value=\"121\" name=\"rk\"></span>, <span data-value=\"8.22158658581087\" name=\"ir\"></span>, <span data-value=\"1.2763008E12\" name=\"us\"></span>, <span data-value=\"801338\" name=\"nv\"></span>, <span data-value=\"-2.7784134141891297\" name=\"ur\"></span>, <span class=\"secondaryInfo\">(2010)</span>, <span class=\"delete\"> </span>, <span data-value=\"122\" name=\"rk\"></span>, <span data-value=\"8.216690982303035\" name=\"ir\"></span>, <span data-value=\"-1.2744E11\" name=\"us\"></span>, <span data-value=\"248136\" name=\"nv\"></span>, <span data-value=\"-2.783309017696965\" name=\"ur\"></span>, <span class=\"secondaryInfo\">(1965)</span>, <span class=\"delete\"> </span>, <span data-value=\"123\" name=\"rk\"></span>, <span data-value=\"8.213501292689042\" name=\"ir\"></span>, <span data-value=\"1.2421728E12\" name=\"us\"></span>, <span data-value=\"997228\" name=\"nv\"></span>, <span data-value=\"-2.786498707310958\" name=\"ur\"></span>, <span class=\"secondaryInfo\">(2009)</span>, <span class=\"delete\"> </span>, <span data-value=\"124\" name=\"rk\"></span>, <span data-value=\"8.211315251673602\" name=\"ir\"></span>, <span data-value=\"-4.529088E11\" name=\"us\"></span>, <span data-value=\"30352\" name=\"nv\"></span>, <span data-value=\"-2.788684748326398\" name=\"ur\"></span>, <span class=\"secondaryInfo\">(1955)</span>, <span class=\"delete\"> </span>, <span data-value=\"125\" name=\"rk\"></span>, <span data-value=\"8.202954433630635\" name=\"ir\"></span>, <span data-value=\"6.119712E11\" name=\"us\"></span>, <span data-value=\"729535\" name=\"nv\"></span>, <span data-value=\"-2.7970455663693645\" name=\"ur\"></span>, <span class=\"secondaryInfo\">(1989)</span>, <span class=\"delete\"> </span>, <span data-value=\"126\" name=\"rk\"></span>, <span data-value=\"8.200107660047792\" name=\"ir\"></span>, <span data-value=\"8.18208E11\" name=\"us\"></span>, <span data-value=\"623449\" name=\"nv\"></span>, <span data-value=\"-2.7998923399522084\" name=\"ur\"></span>, <span class=\"secondaryInfo\">(1995)</span>, <span class=\"delete\"> </span>, <span data-value=\"127\" name=\"rk\"></span>, <span data-value=\"8.19685740687404\" name=\"ir\"></span>, <span data-value=\"8.63568E11\" name=\"us\"></span>, <span data-value=\"563718\" name=\"nv\"></span>, <span data-value=\"-2.80314259312596\" name=\"ur\"></span>, <span class=\"secondaryInfo\">(1997)</span>, <span class=\"delete\"> </span>, <span data-value=\"128\" name=\"rk\"></span>, <span data-value=\"8.194217531430176\" name=\"ir\"></span>, <span data-value=\"4.858272E11\" name=\"us\"></span>, <span data-value=\"121671\" name=\"nv\"></span>, <span data-value=\"-2.8057824685698236\" name=\"ur\"></span>, <span class=\"secondaryInfo\">(1985)</span>, <span class=\"delete\"> </span>, <span data-value=\"129\" name=\"rk\"></span>, <span data-value=\"8.193554463687398\" name=\"ir\"></span>, <span data-value=\"-2.741472E11\" name=\"us\"></span>, <span data-value=\"119319\" name=\"nv\"></span>, <span data-value=\"-2.8064455363126015\" name=\"ur\"></span>, <span class=\"secondaryInfo\">(1961)</span>, <span class=\"delete\"> </span>, <span data-value=\"130\" name=\"rk\"></span>, <span data-value=\"8.19331562381346\" name=\"ir\"></span>, <span data-value=\"5.846688E11\" name=\"us\"></span>, <span data-value=\"847313\" name=\"nv\"></span>, <span data-value=\"-2.8066843761865403\" name=\"ur\"></span>, <span class=\"secondaryInfo\">(1988)</span>, <span class=\"delete\"> </span>, <span data-value=\"131\" name=\"rk\"></span>, <span data-value=\"8.191372923850794\" name=\"ir\"></span>, <span data-value=\"1.536624E12\" name=\"us\"></span>, <span data-value=\"447687\" name=\"nv\"></span>, <span data-value=\"-2.8086270761492056\" name=\"ur\"></span>, <span class=\"secondaryInfo\">(2018)</span>, <span class=\"delete\"> </span>, <span data-value=\"132\" name=\"rk\"></span>, <span data-value=\"8.189896813871417\" name=\"ir\"></span>, <span data-value=\"-6.106752E11\" name=\"us\"></span>, <span data-value=\"163171\" name=\"nv\"></span>, <span data-value=\"-2.8101031861285826\" name=\"ur\"></span>, <span class=\"secondaryInfo\">(1950)</span>, <span class=\"delete\"> </span>, <span data-value=\"133\" name=\"rk\"></span>, <span data-value=\"8.188937457028409\" name=\"ir\"></span>, <span data-value=\"1.0946016E12\" name=\"us\"></span>, <span data-value=\"346434\" name=\"nv\"></span>, <span data-value=\"-2.811062542971591\" name=\"ur\"></span>, <span class=\"secondaryInfo\">(2004)</span>, <span class=\"delete\"> </span>, <span data-value=\"134\" name=\"rk\"></span>, <span data-value=\"8.1876225375502\" name=\"ir\"></span>, <span data-value=\"-6.06528E11\" name=\"us\"></span>, <span data-value=\"128030\" name=\"nv\"></span>, <span data-value=\"-2.812377462449801\" name=\"ur\"></span>, <span class=\"secondaryInfo\">(1950)</span>, <span class=\"delete\"> </span>, <span data-value=\"135\" name=\"rk\"></span>, <span data-value=\"8.186994163200913\" name=\"ir\"></span>, <span data-value=\"1.639872E11\" name=\"us\"></span>, <span data-value=\"525720\" name=\"nv\"></span>, <span data-value=\"-2.8130058367990873\" name=\"ur\"></span>, <span class=\"secondaryInfo\">(1975)</span>, <span class=\"delete\"> </span>, <span data-value=\"136\" name=\"rk\"></span>, <span data-value=\"8.184210417304282\" name=\"ir\"></span>, <span data-value=\"-3.405024E11\" name=\"us\"></span>, <span data-value=\"258898\" name=\"nv\"></span>, <span data-value=\"-2.815789582695718\" name=\"ur\"></span>, <span class=\"secondaryInfo\">(1959)</span>, <span class=\"delete\"> </span>, <span data-value=\"137\" name=\"rk\"></span>, <span data-value=\"8.182295583345427\" name=\"ir\"></span>, <span data-value=\"1.1174976E12\" name=\"us\"></span>, <span data-value=\"1388953\" name=\"nv\"></span>, <span data-value=\"-2.817704416654573\" name=\"ur\"></span>, <span class=\"secondaryInfo\">(2005)</span>, <span class=\"delete\"> </span>, <span data-value=\"138\" name=\"rk\"></span>, <span data-value=\"8.177611594267049\" name=\"ir\"></span>, <span data-value=\"7.128E11\" name=\"us\"></span>, <span data-value=\"398793\" name=\"nv\"></span>, <span data-value=\"-2.8223884057329514\" name=\"ur\"></span>, <span class=\"secondaryInfo\">(1992)</span>, <span class=\"delete\"> </span>, <span data-value=\"139\" name=\"rk\"></span>, <span data-value=\"8.175628195361947\" name=\"ir\"></span>, <span data-value=\"8.547552E11\" name=\"us\"></span>, <span data-value=\"72080\" name=\"nv\"></span>, <span data-value=\"-2.8243718046380533\" name=\"ur\"></span>, <span class=\"secondaryInfo\">(1997)</span>, <span class=\"delete\"> </span>, <span data-value=\"140\" name=\"rk\"></span>, <span data-value=\"8.172197484322323\" name=\"ir\"></span>, <span data-value=\"1.6357248E12\" name=\"us\"></span>, <span data-value=\"172096\" name=\"nv\"></span>, <span data-value=\"-2.8278025156776767\" name=\"ur\"></span>, <span class=\"secondaryInfo\">(2021)</span>, <span class=\"delete\"> </span>, <span data-value=\"141\" name=\"rk\"></span>, <span data-value=\"8.165083706366683\" name=\"ir\"></span>, <span data-value=\"1.0943424E12\" name=\"us\"></span>, <span data-value=\"369743\" name=\"nv\"></span>, <span data-value=\"-2.8349162936333165\" name=\"ur\"></span>, <span class=\"secondaryInfo\">(2004)</span>, <span class=\"delete\"> </span>, <span data-value=\"142\" name=\"rk\"></span>, <span data-value=\"8.164591007789117\" name=\"ir\"></span>, <span data-value=\"1.3865472E12\" name=\"us\"></span>, <span data-value=\"1308805\" name=\"nv\"></span>, <span data-value=\"-2.8354089922108834\" name=\"ur\"></span>, <span class=\"secondaryInfo\">(2013)</span>, <span class=\"delete\"> </span>, <span data-value=\"143\" name=\"rk\"></span>, <span data-value=\"8.159444826215319\" name=\"ir\"></span>, <span data-value=\"-2.54016E11\" name=\"us\"></span>, <span data-value=\"75080\" name=\"nv\"></span>, <span data-value=\"-2.840555173784681\" name=\"ur\"></span>, <span class=\"secondaryInfo\">(1961)</span>, <span class=\"delete\"> </span>, <span data-value=\"144\" name=\"rk\"></span>, <span data-value=\"8.157968278197067\" name=\"ir\"></span>, <span data-value=\"1.1908512E12\" name=\"us\"></span>, <span data-value=\"558923\" name=\"nv\"></span>, <span data-value=\"-2.8420317218029325\" name=\"ur\"></span>, <span class=\"secondaryInfo\">(2007)</span>, <span class=\"delete\"> </span>, <span data-value=\"145\" name=\"rk\"></span>, <span data-value=\"8.15583724607219\" name=\"ir\"></span>, <span data-value=\"8.163072E11\" name=\"us\"></span>, <span data-value=\"498355\" name=\"nv\"></span>, <span data-value=\"-2.84416275392781\" name=\"ur\"></span>, <span class=\"secondaryInfo\">(1995)</span>, <span class=\"delete\"> </span>, <span data-value=\"146\" name=\"rk\"></span>, <span data-value=\"8.155724769884644\" name=\"ir\"></span>, <span data-value=\"-2.062368E11\" name=\"us\"></span>, <span data-value=\"237928\" name=\"nv\"></span>, <span data-value=\"-2.8442752301153558\" name=\"ur\"></span>, <span class=\"secondaryInfo\">(1963)</span>, <span class=\"delete\"> </span>, <span data-value=\"147\" name=\"rk\"></span>, <span data-value=\"8.154200328359453\" name=\"ir\"></span>, <span data-value=\"-6.931872E11\" name=\"us\"></span>, <span data-value=\"121686\" name=\"nv\"></span>, <span data-value=\"-2.845799671640547\" name=\"ur\"></span>, <span class=\"secondaryInfo\">(1948)</span>, <span class=\"delete\"> </span>, <span data-value=\"148\" name=\"rk\"></span>, <span data-value=\"8.149092138761382\" name=\"ir\"></span>, <span data-value=\"1.148688E12\" name=\"us\"></span>, <span data-value=\"648579\" name=\"nv\"></span>, <span data-value=\"-2.8509078612386176\" name=\"ur\"></span>, <span class=\"secondaryInfo\">(2006)</span>, <span class=\"delete\"> </span>, <span data-value=\"149\" name=\"rk\"></span>, <span data-value=\"8.147833828163314\" name=\"ir\"></span>, <span data-value=\"1.0082016E12\" name=\"us\"></span>, <span data-value=\"897805\" name=\"nv\"></span>, <span data-value=\"-2.8521661718366857\" name=\"ur\"></span>, <span class=\"secondaryInfo\">(2001)</span>, <span class=\"delete\"> </span>, <span data-value=\"150\" name=\"rk\"></span>, <span data-value=\"8.144830365138267\" name=\"ir\"></span>, <span data-value=\"1.2501216E12\" name=\"us\"></span>, <span data-value=\"204145\" name=\"nv\"></span>, <span data-value=\"-2.855169634861733\" name=\"ur\"></span>, <span class=\"secondaryInfo\">(2009)</span>, <span class=\"delete\"> </span>, <span data-value=\"151\" name=\"rk\"></span>, <span data-value=\"8.142238194760957\" name=\"ir\"></span>, <span data-value=\"3.429216E11\" name=\"us\"></span>, <span data-value=\"341462\" name=\"nv\"></span>, <span data-value=\"-2.8577618052390434\" name=\"ur\"></span>, <span class=\"secondaryInfo\">(1980)</span>, <span class=\"delete\"> </span>, <span data-value=\"152\" name=\"rk\"></span>, <span data-value=\"8.137324327332623\" name=\"ir\"></span>, <span data-value=\"1.40832E11\" name=\"us\"></span>, <span data-value=\"315058\" name=\"nv\"></span>, <span data-value=\"-2.862675672667377\" name=\"ur\"></span>, <span class=\"secondaryInfo\">(1974)</span>, <span class=\"delete\"> </span>, <span data-value=\"153\" name=\"rk\"></span>, <span data-value=\"8.136179255347647\" name=\"ir\"></span>, <span data-value=\"5.77152E11\" name=\"us\"></span>, <span data-value=\"320337\" name=\"nv\"></span>, <span data-value=\"-2.8638207446523527\" name=\"ur\"></span>, <span class=\"secondaryInfo\">(1988)</span>, <span class=\"delete\"> </span>, <span data-value=\"154\" name=\"rk\"></span>, <span data-value=\"8.135484795973863\" name=\"ir\"></span>, <span data-value=\"1.2660192E12\" name=\"us\"></span>, <span data-value=\"1231988\" name=\"nv\"></span>, <span data-value=\"-2.8645152040261372\" name=\"ur\"></span>, <span class=\"secondaryInfo\">(2010)</span>, <span class=\"delete\"> </span>, <span data-value=\"155\" name=\"rk\"></span>, <span data-value=\"8.133160127087175\" name=\"ir\"></span>, <span data-value=\"9.038304E11\" name=\"us\"></span>, <span data-value=\"564679\" name=\"nv\"></span>, <span data-value=\"-2.8668398729128253\" name=\"ur\"></span>, <span class=\"secondaryInfo\">(1998)</span>, <span class=\"delete\"> </span>, <span data-value=\"156\" name=\"rk\"></span>, <span data-value=\"8.13026902837064\" name=\"ir\"></span>, <span data-value=\"1.1795328E12\" name=\"us\"></span>, <span data-value=\"924536\" name=\"nv\"></span>, <span data-value=\"-2.8697309716293606\" name=\"ur\"></span>, <span class=\"secondaryInfo\">(2007)</span>, <span class=\"delete\"> </span>, <span data-value=\"157\" name=\"rk\"></span>, <span data-value=\"8.129661674254253\" name=\"ir\"></span>, <span data-value=\"1.5731712E12\" name=\"us\"></span>, <span data-value=\"137355\" name=\"nv\"></span>, <span data-value=\"-2.870338325745747\" name=\"ur\"></span>, <span class=\"secondaryInfo\">(2019)</span>, <span class=\"delete\"> </span>, <span data-value=\"158\" name=\"rk\"></span>, <span data-value=\"8.12909318618754\" name=\"ir\"></span>, <span data-value=\"-4.929984E11\" name=\"us\"></span>, <span data-value=\"170022\" name=\"nv\"></span>, <span data-value=\"-2.8709068138124607\" name=\"ur\"></span>, <span class=\"secondaryInfo\">(1954)</span>, <span class=\"delete\"> </span>, <span data-value=\"159\" name=\"rk\"></span>, <span data-value=\"8.128156026967572\" name=\"ir\"></span>, <span data-value=\"3.933792E11\" name=\"us\"></span>, <span data-value=\"402717\" name=\"nv\"></span>, <span data-value=\"-2.871843973032428\" name=\"ur\"></span>, <span class=\"secondaryInfo\">(1982)</span>, <span class=\"delete\"> </span>, <span data-value=\"160\" name=\"rk\"></span>, <span data-value=\"8.127993945600462\" name=\"ir\"></span>, <span data-value=\"-1.404864E12\" name=\"us\"></span>, <span data-value=\"108307\" name=\"nv\"></span>, <span data-value=\"-2.872006054399538\" name=\"ur\"></span>, <span class=\"secondaryInfo\">(1925)</span>, <span class=\"delete\"> </span>, <span data-value=\"161\" name=\"rk\"></span>, <span data-value=\"8.12592950472751\" name=\"ir\"></span>, <span data-value=\"1.5044832E12\" name=\"us\"></span>, <span data-value=\"480220\" name=\"nv\"></span>, <span data-value=\"-2.8740704952724894\" name=\"ur\"></span>, <span class=\"secondaryInfo\">(2017)</span>, <span class=\"delete\"> </span>, <span data-value=\"162\" name=\"rk\"></span>, <span data-value=\"8.1251047028313\" name=\"ir\"></span>, <span data-value=\"-4.062528E11\" name=\"us\"></span>, <span data-value=\"179063\" name=\"nv\"></span>, <span data-value=\"-2.8748952971687007\" name=\"ur\"></span>, <span class=\"secondaryInfo\">(1957)</span>, <span class=\"delete\"> </span>, <span data-value=\"163\" name=\"rk\"></span>, <span data-value=\"8.124411534957844\" name=\"ir\"></span>, <span data-value=\"3.392928E11\" name=\"us\"></span>, <span data-value=\"234180\" name=\"nv\"></span>, <span data-value=\"-2.8755884650421564\" name=\"ur\"></span>, <span class=\"secondaryInfo\">(1980)</span>, <span class=\"delete\"> </span>, <span data-value=\"164\" name=\"rk\"></span>, <span data-value=\"8.123406766871263\" name=\"ir\"></span>, <span data-value=\"1.759968E11\" name=\"us\"></span>, <span data-value=\"27076\" name=\"nv\"></span>, <span data-value=\"-2.8765932331287374\" name=\"ur\"></span>, <span class=\"secondaryInfo\">(1975)</span>, <span class=\"delete\"> </span>, <span data-value=\"165\" name=\"rk\"></span>, <span data-value=\"8.123016714686669\" name=\"ir\"></span>, <span data-value=\"9.33552E11\" name=\"us\"></span>, <span data-value=\"957054\" name=\"nv\"></span>, <span data-value=\"-2.8769832853133313\" name=\"ur\"></span>, <span class=\"secondaryInfo\">(1999)</span>, <span class=\"delete\"> </span>, <span data-value=\"166\" name=\"rk\"></span>, <span data-value=\"8.11802358442804\" name=\"ir\"></span>, <span data-value=\"8.966592E11\" name=\"us\"></span>, <span data-value=\"1015387\" name=\"nv\"></span>, <span data-value=\"-2.8819764155719607\" name=\"ur\"></span>, <span class=\"secondaryInfo\">(1998)</span>, <span class=\"delete\"> </span>, <span data-value=\"167\" name=\"rk\"></span>, <span data-value=\"8.117754467512086\" name=\"ir\"></span>, <span data-value=\"7.39584E11\" name=\"us\"></span>, <span data-value=\"929642\" name=\"nv\"></span>, <span data-value=\"-2.8822455324879144\" name=\"ur\"></span>, <span class=\"secondaryInfo\">(1993)</span>, <span class=\"delete\"> </span>, <span data-value=\"168\" name=\"rk\"></span>, <span data-value=\"8.116277511596685\" name=\"ir\"></span>, <span data-value=\"-3.792096E11\" name=\"us\"></span>, <span data-value=\"104179\" name=\"nv\"></span>, <span data-value=\"-2.883722488403315\" name=\"ur\"></span>, <span class=\"secondaryInfo\">(1957)</span>, <span class=\"delete\"> </span>, <span data-value=\"169\" name=\"rk\"></span>, <span data-value=\"8.115005301424217\" name=\"ir\"></span>, <span data-value=\"-6.416928E11\" name=\"us\"></span>, <span data-value=\"167773\" name=\"nv\"></span>, <span data-value=\"-2.884994698575783\" name=\"ur\"></span>, <span class=\"secondaryInfo\">(1949)</span>, <span class=\"delete\"> </span>, <span data-value=\"170\" name=\"rk\"></span>, <span data-value=\"8.11498495927566\" name=\"ir\"></span>, <span data-value=\"1.0518336E12\" name=\"us\"></span>, <span data-value=\"166856\" name=\"nv\"></span>, <span data-value=\"-2.8850150407243405\" name=\"ur\"></span>, <span class=\"secondaryInfo\">(2003)</span>, <span class=\"delete\"> </span>, <span data-value=\"171\" name=\"rk\"></span>, <span data-value=\"8.113093514854961\" name=\"ir\"></span>, <span data-value=\"1.1342592E12\" name=\"us\"></span>, <span data-value=\"1085926\" name=\"nv\"></span>, <span data-value=\"-2.8869064851450386\" name=\"ur\"></span>, <span class=\"secondaryInfo\">(2005)</span>, <span class=\"delete\"> </span>, <span data-value=\"172\" name=\"rk\"></span>, <span data-value=\"8.11213163844897\" name=\"ir\"></span>, <span data-value=\"3.938112E11\" name=\"us\"></span>, <span data-value=\"738271\" name=\"nv\"></span>, <span data-value=\"-2.88786836155103\" name=\"ur\"></span>, <span class=\"secondaryInfo\">(1982)</span>, <span class=\"delete\"> </span>, <span data-value=\"173\" name=\"rk\"></span>, <span data-value=\"8.111680898996244\" name=\"ir\"></span>, <span data-value=\"8.250336E11\" name=\"us\"></span>, <span data-value=\"666137\" name=\"nv\"></span>, <span data-value=\"-2.8883191010037557\" name=\"ur\"></span>, <span class=\"secondaryInfo\">(1996)</span>, <span class=\"delete\"> </span>, <span data-value=\"174\" name=\"rk\"></span>, <span data-value=\"8.110766586327575\" name=\"ir\"></span>, <span data-value=\"8.262432E11\" name=\"us\"></span>, <span data-value=\"655365\" name=\"nv\"></span>, <span data-value=\"-2.889233413672425\" name=\"ur\"></span>, <span class=\"secondaryInfo\">(1996)</span>, <span class=\"delete\"> </span>, <span data-value=\"175\" name=\"rk\"></span>, <span data-value=\"8.110448259070573\" name=\"ir\"></span>, <span data-value=\"-3.865536E11\" name=\"us\"></span>, <span data-value=\"214624\" name=\"nv\"></span>, <span data-value=\"-2.889551740929427\" name=\"ur\"></span>, <span class=\"secondaryInfo\">(1957)</span>, <span class=\"delete\"> </span>, <span data-value=\"176\" name=\"rk\"></span>, <span data-value=\"8.110397437269054\" name=\"ir\"></span>, <span data-value=\"1.4319072E12\" name=\"us\"></span>, <span data-value=\"672870\" name=\"nv\"></span>, <span data-value=\"-2.8896025627309463\" name=\"ur\"></span>, <span class=\"secondaryInfo\">(2015)</span>, <span class=\"delete\"> </span>, <span data-value=\"177\" name=\"rk\"></span>, <span data-value=\"8.108492856342508\" name=\"ir\"></span>, <span data-value=\"1.053216E12\" name=\"us\"></span>, <span data-value=\"1002700\" name=\"nv\"></span>, <span data-value=\"-2.891507143657492\" name=\"ur\"></span>, <span class=\"secondaryInfo\">(2003)</span>, <span class=\"delete\"> </span>, <span data-value=\"178\" name=\"rk\"></span>, <span data-value=\"8.107889962827622\" name=\"ir\"></span>, <span data-value=\"1.0647936E12\" name=\"us\"></span>, <span data-value=\"1068134\" name=\"nv\"></span>, <span data-value=\"-2.892110037172378\" name=\"ur\"></span>, <span class=\"secondaryInfo\">(2003)</span>, <span class=\"delete\"> </span>, <span data-value=\"179\" name=\"rk\"></span>, <span data-value=\"8.107437542500584\" name=\"ir\"></span>, <span data-value=\"1.3155264E12\" name=\"us\"></span>, <span data-value=\"457058\" name=\"nv\"></span>, <span data-value=\"-2.892562457499416\" name=\"ur\"></span>, <span class=\"secondaryInfo\">(2011)</span>, <span class=\"delete\"> </span>, <span data-value=\"180\" name=\"rk\"></span>, <span data-value=\"8.105898999365197\" name=\"ir\"></span>, <span data-value=\"-9.4824E11\" name=\"us\"></span>, <span data-value=\"306304\" name=\"nv\"></span>, <span data-value=\"-2.8941010006348034\" name=\"ur\"></span>, <span class=\"secondaryInfo\">(1939)</span>, <span class=\"delete\"> </span>, <span data-value=\"181\" name=\"rk\"></span>, <span data-value=\"8.101683883666425\" name=\"ir\"></span>, <span data-value=\"-5.100192E11\" name=\"us\"></span>, <span data-value=\"59231\" name=\"nv\"></span>, <span data-value=\"-2.898316116333575\" name=\"ur\"></span>, <span class=\"secondaryInfo\">(1953)</span>, <span class=\"delete\"> </span>, <span data-value=\"182\" name=\"rk\"></span>, <span data-value=\"8.100857457521322\" name=\"ir\"></span>, <span data-value=\"-4.900608E11\" name=\"us\"></span>, <span data-value=\"150857\" name=\"nv\"></span>, <span data-value=\"-2.8991425424786783\" name=\"ur\"></span>, <span class=\"secondaryInfo\">(1954)</span>, <span class=\"delete\"> </span>, <span data-value=\"183\" name=\"rk\"></span>, <span data-value=\"8.097682855668607\" name=\"ir\"></span>, <span data-value=\"1.132272E12\" name=\"us\"></span>, <span data-value=\"84557\" name=\"nv\"></span>, <span data-value=\"-2.902317144331393\" name=\"ur\"></span>, <span class=\"secondaryInfo\">(2005)</span>, <span class=\"delete\"> </span>, <span data-value=\"184\" name=\"rk\"></span>, <span data-value=\"8.093162461955867\" name=\"ir\"></span>, <span data-value=\"1.4002848E12\" name=\"us\"></span>, <span data-value=\"190711\" name=\"nv\"></span>, <span data-value=\"-2.906837538044133\" name=\"ur\"></span>, <span class=\"secondaryInfo\">(2014)</span>, <span class=\"delete\"> </span>, <span data-value=\"185\" name=\"rk\"></span>, <span data-value=\"8.092942857552556\" name=\"ir\"></span>, <span data-value=\"1.3778208E12\" name=\"us\"></span>, <span data-value=\"661126\" name=\"nv\"></span>, <span data-value=\"-2.907057142447444\" name=\"ur\"></span>, <span class=\"secondaryInfo\">(2013)</span>, <span class=\"delete\"> </span>, <span data-value=\"186\" name=\"rk\"></span>, <span data-value=\"8.091263804012025\" name=\"ir\"></span>, <span data-value=\"2.969568E11\" name=\"us\"></span>, <span data-value=\"129472\" name=\"nv\"></span>, <span data-value=\"-2.9087361959879754\" name=\"ur\"></span>, <span class=\"secondaryInfo\">(1979)</span>, <span class=\"delete\"> </span>, <span data-value=\"187\" name=\"rk\"></span>, <span data-value=\"8.090520655113574\" name=\"ir\"></span>, <span data-value=\"1.3916448E12\" name=\"us\"></span>, <span data-value=\"766754\" name=\"nv\"></span>, <span data-value=\"-2.9094793448864262\" name=\"ur\"></span>, <span class=\"secondaryInfo\">(2014)</span>, <span class=\"delete\"> </span>, <span data-value=\"188\" name=\"rk\"></span>, <span data-value=\"8.089741456756055\" name=\"ir\"></span>, <span data-value=\"2.819232E11\" name=\"us\"></span>, <span data-value=\"329735\" name=\"nv\"></span>, <span data-value=\"-2.9102585432439447\" name=\"ur\"></span>, <span class=\"secondaryInfo\">(1978)</span>, <span class=\"delete\"> </span>, <span data-value=\"189\" name=\"rk\"></span>, <span data-value=\"8.087801818183344\" name=\"ir\"></span>, <span data-value=\"-1.3576032E12\" name=\"us\"></span>, <span data-value=\"88505\" name=\"nv\"></span>, <span data-value=\"-2.912198181816656\" name=\"ur\"></span>, <span class=\"secondaryInfo\">(1926)</span>, <span class=\"delete\"> </span>, <span data-value=\"190\" name=\"rk\"></span>, <span data-value=\"8.087401470057255\" name=\"ir\"></span>, <span data-value=\"-1.011744E11\" name=\"us\"></span>, <span data-value=\"113527\" name=\"nv\"></span>, <span data-value=\"-2.912598529942745\" name=\"ur\"></span>, <span class=\"secondaryInfo\">(1966)</span>, <span class=\"delete\"> </span>, <span data-value=\"191\" name=\"rk\"></span>, <span data-value=\"8.087289481154396\" name=\"ir\"></span>, <span data-value=\"-1.442448E12\" name=\"us\"></span>, <span data-value=\"47399\" name=\"nv\"></span>, <span data-value=\"-2.9127105188456035\" name=\"ur\"></span>, <span class=\"secondaryInfo\">(1924)</span>, <span class=\"delete\"> </span>, <span data-value=\"192\" name=\"rk\"></span>, <span data-value=\"8.087273785559052\" name=\"ir\"></span>, <span data-value=\"1.2287808E12\" name=\"us\"></span>, <span data-value=\"753465\" name=\"nv\"></span>, <span data-value=\"-2.912726214440948\" name=\"ur\"></span>, <span class=\"secondaryInfo\">(2008)</span>, <span class=\"delete\"> </span>, <span data-value=\"193\" name=\"rk\"></span>, <span data-value=\"8.086071664997935\" name=\"ir\"></span>, <span data-value=\"7.904736E11\" name=\"us\"></span>, <span data-value=\"293423\" name=\"nv\"></span>, <span data-value=\"-2.9139283350020655\" name=\"ur\"></span>, <span class=\"secondaryInfo\">(1995)</span>, <span class=\"delete\"> </span>, <span data-value=\"194\" name=\"rk\"></span>, <span data-value=\"8.084775233678725\" name=\"ir\"></span>, <span data-value=\"1.2319776E12\" name=\"us\"></span>, <span data-value=\"173111\" name=\"nv\"></span>, <span data-value=\"-2.915224766321275\" name=\"ur\"></span>, <span class=\"secondaryInfo\">(2009)</span>, <span class=\"delete\"> </span>, <span data-value=\"195\" name=\"rk\"></span>, <span data-value=\"8.084142294627284\" name=\"ir\"></span>, <span data-value=\"1.0399968E12\" name=\"us\"></span>, <span data-value=\"917068\" name=\"nv\"></span>, <span data-value=\"-2.9158577053727157\" name=\"ur\"></span>, <span class=\"secondaryInfo\">(2002)</span>, <span class=\"delete\"> </span>, <span data-value=\"196\" name=\"rk\"></span>, <span data-value=\"8.081444869725841\" name=\"ir\"></span>, <span data-value=\"-9.533376E11\" name=\"us\"></span>, <span data-value=\"113163\" name=\"nv\"></span>, <span data-value=\"-2.918555130274159\" name=\"ur\"></span>, <span class=\"secondaryInfo\">(1939)</span>, <span class=\"delete\"> </span>, <span data-value=\"197\" name=\"rk\"></span>, <span data-value=\"8.08061844585377\" name=\"ir\"></span>, <span data-value=\"1.87488E11\" name=\"us\"></span>, <span data-value=\"161656\" name=\"nv\"></span>, <span data-value=\"-2.9193815541462307\" name=\"ur\"></span>, <span class=\"secondaryInfo\">(1975)</span>, <span class=\"delete\"> </span>, <span data-value=\"198\" name=\"rk\"></span>, <span data-value=\"8.079871586212613\" name=\"ir\"></span>, <span data-value=\"7.556544E11\" name=\"us\"></span>, <span data-value=\"169011\" name=\"nv\"></span>, <span data-value=\"-2.9201284137873866\" name=\"ur\"></span>, <span class=\"secondaryInfo\">(1993)</span>, <span class=\"delete\"> </span>, <span data-value=\"199\" name=\"rk\"></span>, <span data-value=\"8.079807275324324\" name=\"ir\"></span>, <span data-value=\"1.6306272E12\" name=\"us\"></span>, <span data-value=\"466728\" name=\"nv\"></span>, <span data-value=\"-2.920192724675676\" name=\"ur\"></span>, <span class=\"secondaryInfo\">(2021)</span>, <span class=\"delete\"> </span>, <span data-value=\"200\" name=\"rk\"></span>, <span data-value=\"8.078749244793102\" name=\"ir\"></span>, <span data-value=\"-2.66976E10\" name=\"us\"></span>, <span data-value=\"27329\" name=\"nv\"></span>, <span data-value=\"-2.9212507552068985\" name=\"ur\"></span>, <span class=\"secondaryInfo\">(1969)</span>, <span class=\"delete\"> </span>, <span data-value=\"201\" name=\"rk\"></span>, <span data-value=\"8.078580035761794\" name=\"ir\"></span>, <span data-value=\"1.4729472E12\" name=\"us\"></span>, <span data-value=\"487165\" name=\"nv\"></span>, <span data-value=\"-2.921419964238206\" name=\"ur\"></span>, <span class=\"secondaryInfo\">(2016)</span>, <span class=\"delete\"> </span>, <span data-value=\"202\" name=\"rk\"></span>, <span data-value=\"8.078024472035679\" name=\"ir\"></span>, <span data-value=\"1.4116896E12\" name=\"us\"></span>, <span data-value=\"933367\" name=\"nv\"></span>, <span data-value=\"-2.921975527964321\" name=\"ur\"></span>, <span class=\"secondaryInfo\">(2014)</span>, <span class=\"delete\"> </span>, <span data-value=\"203\" name=\"rk\"></span>, <span data-value=\"8.076948575546623\" name=\"ir\"></span>, <span data-value=\"1.4413248E12\" name=\"us\"></span>, <span data-value=\"401902\" name=\"nv\"></span>, <span data-value=\"-2.9230514244533765\" name=\"ur\"></span>, <span class=\"secondaryInfo\">(2015)</span>, <span class=\"delete\"> </span>, <span data-value=\"204\" name=\"rk\"></span>, <span data-value=\"8.072051158399027\" name=\"ir\"></span>, <span data-value=\"-1.315872E12\" name=\"us\"></span>, <span data-value=\"52612\" name=\"nv\"></span>, <span data-value=\"-2.9279488416009727\" name=\"ur\"></span>, <span class=\"secondaryInfo\">(1928)</span>, <span class=\"delete\"> </span>, <span data-value=\"205\" name=\"rk\"></span>, <span data-value=\"8.071031050803143\" name=\"ir\"></span>, <span data-value=\"1.5386112E12\" name=\"us\"></span>, <span data-value=\"86931\" name=\"nv\"></span>, <span data-value=\"-2.9289689491968574\" name=\"ur\"></span>, <span class=\"secondaryInfo\">(2018)</span>, <span class=\"delete\"> </span>, <span data-value=\"206\" name=\"rk\"></span>, <span data-value=\"8.070930879942193\" name=\"ir\"></span>, <span data-value=\"1.5671232E12\" name=\"us\"></span>, <span data-value=\"353197\" name=\"nv\"></span>, <span data-value=\"-2.9290691200578074\" name=\"ur\"></span>, <span class=\"secondaryInfo\">(2019)</span>, <span class=\"delete\"> </span>, <span data-value=\"207\" name=\"rk\"></span>, <span data-value=\"8.06984642958303\" name=\"ir\"></span>, <span data-value=\"1.3778208E12\" name=\"us\"></span>, <span data-value=\"676561\" name=\"nv\"></span>, <span data-value=\"-2.9301535704169694\" name=\"ur\"></span>, <span class=\"secondaryInfo\">(2013)</span>, <span class=\"delete\"> </span>, <span data-value=\"208\" name=\"rk\"></span>, <span data-value=\"8.065983070633049\" name=\"ir\"></span>, <span data-value=\"-8.793792E11\" name=\"us\"></span>, <span data-value=\"35117\" name=\"nv\"></span>, <span data-value=\"-2.934016929366951\" name=\"ur\"></span>, <span class=\"secondaryInfo\">(1942)</span>, <span class=\"delete\"> </span>, <span data-value=\"209\" name=\"rk\"></span>, <span data-value=\"8.065950662180402\" name=\"ir\"></span>, <span data-value=\"8.850816E11\" name=\"us\"></span>, <span data-value=\"780373\" name=\"nv\"></span>, <span data-value=\"-2.934049337819598\" name=\"ur\"></span>, <span class=\"secondaryInfo\">(1998)</span>, <span class=\"delete\"> </span>, <span data-value=\"210\" name=\"rk\"></span>, <span data-value=\"8.064289583053586\" name=\"ir\"></span>, <span data-value=\"6.127488E11\" name=\"us\"></span>, <span data-value=\"461958\" name=\"nv\"></span>, <span data-value=\"-2.9357104169464137\" name=\"ur\"></span>, <span class=\"secondaryInfo\">(1989)</span>, <span class=\"delete\"> </span>, <span data-value=\"211\" name=\"rk\"></span>, <span data-value=\"8.063246995418165\" name=\"ir\"></span>, <span data-value=\"1.3099968E12\" name=\"us\"></span>, <span data-value=\"828915\" name=\"nv\"></span>, <span data-value=\"-2.936753004581835\" name=\"ur\"></span>, <span class=\"secondaryInfo\">(2011)</span>, <span class=\"delete\"> </span>, <span data-value=\"212\" name=\"rk\"></span>, <span data-value=\"8.062300716306414\" name=\"ir\"></span>, <span data-value=\"-3.194208E11\" name=\"us\"></span>, <span data-value=\"232260\" name=\"nv\"></span>, <span data-value=\"-2.9376992836935862\" name=\"ur\"></span>, <span class=\"secondaryInfo\">(1959)</span>, <span class=\"delete\"> </span>, <span data-value=\"213\" name=\"rk\"></span>, <span data-value=\"8.061908756141028\" name=\"ir\"></span>, <span data-value=\"1.2688704E12\" name=\"us\"></span>, <span data-value=\"707929\" name=\"nv\"></span>, <span data-value=\"-2.938091243858972\" name=\"ur\"></span>, <span class=\"secondaryInfo\">(2010)</span>, <span class=\"delete\"> </span>, <span data-value=\"214\" name=\"rk\"></span>, <span data-value=\"8.061662526663406\" name=\"ir\"></span>, <span data-value=\"1.4309568E12\" name=\"us\"></span>, <span data-value=\"950961\" name=\"nv\"></span>, <span data-value=\"-2.9383374733365937\" name=\"ur\"></span>, <span class=\"secondaryInfo\">(2015)</span>, <span class=\"delete\"> </span>, <span data-value=\"215\" name=\"rk\"></span>, <span data-value=\"8.059326365419349\" name=\"ir\"></span>, <span data-value=\"2.766528E11\" name=\"us\"></span>, <span data-value=\"32887\" name=\"nv\"></span>, <span data-value=\"-2.9406736345806515\" name=\"ur\"></span>, <span class=\"secondaryInfo\">(1978)</span>, <span class=\"delete\"> </span>, <span data-value=\"216\" name=\"rk\"></span>, <span data-value=\"8.058517300249507\" name=\"ir\"></span>, <span data-value=\"1.1022048E12\" name=\"us\"></span>, <span data-value=\"667509\" name=\"nv\"></span>, <span data-value=\"-2.941482699750493\" name=\"ur\"></span>, <span class=\"secondaryInfo\">(2004)</span>, <span class=\"delete\"> </span>, <span data-value=\"217\" name=\"rk\"></span>, <span data-value=\"8.05582529040921\" name=\"ir\"></span>, <span data-value=\"-5.27472E11\" name=\"us\"></span>, <span data-value=\"59261\" name=\"nv\"></span>, <span data-value=\"-2.94417470959079\" name=\"ur\"></span>, <span class=\"secondaryInfo\">(1953)</span>, <span class=\"delete\"> </span>, <span data-value=\"218\" name=\"rk\"></span>, <span data-value=\"8.05483149449276\" name=\"ir\"></span>, <span data-value=\"5.236704E11\" name=\"us\"></span>, <span data-value=\"387031\" name=\"nv\"></span>, <span data-value=\"-2.9451685055072403\" name=\"ur\"></span>, <span class=\"secondaryInfo\">(1986)</span>, <span class=\"delete\"> </span>, <span data-value=\"219\" name=\"rk\"></span>, <span data-value=\"8.05390596287966\" name=\"ir\"></span>, <span data-value=\"2.167776E11\" name=\"us\"></span>, <span data-value=\"154722\" name=\"nv\"></span>, <span data-value=\"-2.9460940371203392\" name=\"ur\"></span>, <span class=\"secondaryInfo\">(1976)</span>, <span class=\"delete\"> </span>, <span data-value=\"220\" name=\"rk\"></span>, <span data-value=\"8.0538331383614\" name=\"ir\"></span>, <span data-value=\"1.463184E12\" name=\"us\"></span>, <span data-value=\"133899\" name=\"nv\"></span>, <span data-value=\"-2.9461668616386003\" name=\"ur\"></span>, <span class=\"secondaryInfo\">(2016)</span>, <span class=\"delete\"> </span>, <span data-value=\"221\" name=\"rk\"></span>, <span data-value=\"8.053587936049823\" name=\"ir\"></span>, <span data-value=\"1.4872896E12\" name=\"us\"></span>, <span data-value=\"710591\" name=\"nv\"></span>, <span data-value=\"-2.946412063950177\" name=\"ur\"></span>, <span class=\"secondaryInfo\">(2017)</span>, <span class=\"delete\"> </span>, <span data-value=\"222\" name=\"rk\"></span>, <span data-value=\"8.050710946708863\" name=\"ir\"></span>, <span data-value=\"8.015328E11\" name=\"us\"></span>, <span data-value=\"164718\" name=\"nv\"></span>, <span data-value=\"-2.949289053291137\" name=\"ur\"></span>, <span class=\"secondaryInfo\">(1995)</span>, <span class=\"delete\"> </span>, <span data-value=\"223\" name=\"rk\"></span>, <span data-value=\"8.050533664012079\" name=\"ir\"></span>, <span data-value=\"1.4740704E12\" name=\"us\"></span>, <span data-value=\"70386\" name=\"nv\"></span>, <span data-value=\"-2.949466335987921\" name=\"ur\"></span>, <span class=\"secondaryInfo\">(2016)</span>, <span class=\"delete\"> </span>, <span data-value=\"224\" name=\"rk\"></span>, <span data-value=\"8.049438418052207\" name=\"ir\"></span>, <span data-value=\"-6.84288E10\" name=\"us\"></span>, <span data-value=\"172668\" name=\"nv\"></span>, <span data-value=\"-2.9505615819477935\" name=\"ur\"></span>, <span class=\"secondaryInfo\">(1967)</span>, <span class=\"delete\"> </span>, <span data-value=\"225\" name=\"rk\"></span>, <span data-value=\"8.049394845257913\" name=\"ir\"></span>, <span data-value=\"1.2448512E12\" name=\"us\"></span>, <span data-value=\"272775\" name=\"nv\"></span>, <span data-value=\"-2.950605154742087\" name=\"ur\"></span>, <span class=\"secondaryInfo\">(2009)</span>, <span class=\"delete\"> </span>, <span data-value=\"226\" name=\"rk\"></span>, <span data-value=\"8.047478215846851\" name=\"ir\"></span>, <span data-value=\"1.3376448E12\" name=\"us\"></span>, <span data-value=\"92292\" name=\"nv\"></span>, <span data-value=\"-2.9525217841531486\" name=\"ur\"></span>, <span class=\"secondaryInfo\">(2012)</span>, <span class=\"delete\"> </span>, <span data-value=\"227\" name=\"rk\"></span>, <span data-value=\"8.046800468217834\" name=\"ir\"></span>, <span data-value=\"-3.36528E11\" name=\"us\"></span>, <span data-value=\"113831\" name=\"nv\"></span>, <span data-value=\"-2.9531995317821664\" name=\"ur\"></span>, <span class=\"secondaryInfo\">(1959)</span>, <span class=\"delete\"> </span>, <span data-value=\"228\" name=\"rk\"></span>, <span data-value=\"8.045445677560055\" name=\"ir\"></span>, <span data-value=\"5.353344E11\" name=\"us\"></span>, <span data-value=\"401533\" name=\"nv\"></span>, <span data-value=\"-2.954554322439945\" name=\"ur\"></span>, <span class=\"secondaryInfo\">(1986)</span>, <span class=\"delete\"> </span>, <span data-value=\"229\" name=\"rk\"></span>, <span data-value=\"8.044908237587485\" name=\"ir\"></span>, <span data-value=\"1.4412384E12\" name=\"us\"></span>, <span data-value=\"452447\" name=\"nv\"></span>, <span data-value=\"-2.955091762412515\" name=\"ur\"></span>, <span class=\"secondaryInfo\">(2015)</span>, <span class=\"delete\"> </span>, <span data-value=\"230\" name=\"rk\"></span>, <span data-value=\"8.042662238124278\" name=\"ir\"></span>, <span data-value=\"1.0042272E12\" name=\"us\"></span>, <span data-value=\"869063\" name=\"nv\"></span>, <span data-value=\"-2.9573377618757224\" name=\"ur\"></span>, <span class=\"secondaryInfo\">(2001)</span>, <span class=\"delete\"> </span>, <span data-value=\"231\" name=\"rk\"></span>, <span data-value=\"8.040217964070578\" name=\"ir\"></span>, <span data-value=\"-9.398592E11\" name=\"us\"></span>, <span data-value=\"133326\" name=\"nv\"></span>, <span data-value=\"-2.959782035929422\" name=\"ur\"></span>, <span class=\"secondaryInfo\">(1940)</span>, <span class=\"delete\"> </span>, <span data-value=\"232\" name=\"rk\"></span>, <span data-value=\"8.039011835568205\" name=\"ir\"></span>, <span data-value=\"3.03696E11\" name=\"us\"></span>, <span data-value=\"388134\" name=\"nv\"></span>, <span data-value=\"-2.960988164431795\" name=\"ur\"></span>, <span class=\"secondaryInfo\">(1979)</span>, <span class=\"delete\"> </span>, <span data-value=\"233\" name=\"rk\"></span>, <span data-value=\"8.03841909448013\" name=\"ir\"></span>, <span data-value=\"9.587808E11\" name=\"us\"></span>, <span data-value=\"141744\" name=\"nv\"></span>, <span data-value=\"-2.9615809055198703\" name=\"ur\"></span>, <span class=\"secondaryInfo\">(2000)</span>, <span class=\"delete\"> </span>, <span data-value=\"234\" name=\"rk\"></span>, <span data-value=\"8.037115647120718\" name=\"ir\"></span>, <span data-value=\"1.0948608E12\" name=\"us\"></span>, <span data-value=\"347846\" name=\"nv\"></span>, <span data-value=\"-2.962884352879282\" name=\"ur\"></span>, <span class=\"secondaryInfo\">(2004)</span>, <span class=\"delete\"> </span>, <span data-value=\"235\" name=\"rk\"></span>, <span data-value=\"8.036831839736317\" name=\"ir\"></span>, <span data-value=\"8.492256E11\" name=\"us\"></span>, <span data-value=\"68971\" name=\"nv\"></span>, <span data-value=\"-2.963168160263683\" name=\"ur\"></span>, <span class=\"secondaryInfo\">(1996)</span>, <span class=\"delete\"> </span>, <span data-value=\"236\" name=\"rk\"></span>, <span data-value=\"8.035612894402142\" name=\"ir\"></span>, <span data-value=\"1.37808E12\" name=\"us\"></span>, <span data-value=\"461888\" name=\"nv\"></span>, <span data-value=\"-2.964387105597858\" name=\"ur\"></span>, <span class=\"secondaryInfo\">(2013)</span>, <span class=\"delete\"> </span>, <span data-value=\"237\" name=\"rk\"></span>, <span data-value=\"8.034236199146681\" name=\"ir\"></span>, <span data-value=\"2.17296E11\" name=\"us\"></span>, <span data-value=\"551304\" name=\"nv\"></span>, <span data-value=\"-2.9657638008533187\" name=\"ur\"></span>, <span class=\"secondaryInfo\">(1976)</span>, <span class=\"delete\"> </span>, <span data-value=\"238\" name=\"rk\"></span>, <span data-value=\"8.033869534787772\" name=\"ir\"></span>, <span data-value=\"9.582624E11\" name=\"us\"></span>, <span data-value=\"235162\" name=\"nv\"></span>, <span data-value=\"-2.9661304652122276\" name=\"ur\"></span>, <span class=\"secondaryInfo\">(2000)</span>, <span class=\"delete\"> </span>, <span data-value=\"239\" name=\"rk\"></span>, <span data-value=\"8.032981204632952\" name=\"ir\"></span>, <span data-value=\"1.1886048E12\" name=\"us\"></span>, <span data-value=\"604843\" name=\"nv\"></span>, <span data-value=\"-2.967018795367048\" name=\"ur\"></span>, <span class=\"secondaryInfo\">(2007)</span>, <span class=\"delete\"> </span>, <span data-value=\"240\" name=\"rk\"></span>, <span data-value=\"8.030711682221007\" name=\"ir\"></span>, <span data-value=\"4.478112E11\" name=\"us\"></span>, <span data-value=\"163851\" name=\"nv\"></span>, <span data-value=\"-2.969288317778993\" name=\"ur\"></span>, <span class=\"secondaryInfo\">(1984)</span>, <span class=\"delete\"> </span>, <span data-value=\"241\" name=\"rk\"></span>, <span data-value=\"8.02910568860509\" name=\"ir\"></span>, <span data-value=\"1.6028064E12\" name=\"us\"></span>, <span data-value=\"45501\" name=\"nv\"></span>, <span data-value=\"-2.9708943113949093\" name=\"ur\"></span>, <span class=\"secondaryInfo\">(2020)</span>, <span class=\"delete\"> </span>, <span data-value=\"242\" name=\"rk\"></span>, <span data-value=\"8.028886092510986\" name=\"ir\"></span>, <span data-value=\"1.0763712E12\" name=\"us\"></span>, <span data-value=\"253092\" name=\"nv\"></span>, <span data-value=\"-2.9711139074890145\" name=\"ur\"></span>, <span class=\"secondaryInfo\">(2004)</span>, <span class=\"delete\"> </span>, <span data-value=\"243\" name=\"rk\"></span>, <span data-value=\"8.028528865593369\" name=\"ir\"></span>, <span data-value=\"-1.1319264E12\" name=\"us\"></span>, <span data-value=\"100730\" name=\"nv\"></span>, <span data-value=\"-2.971471134406631\" name=\"ur\"></span>, <span class=\"secondaryInfo\">(1934)</span>, <span class=\"delete\"> </span>, <span data-value=\"244\" name=\"rk\"></span>, <span data-value=\"8.027844185354367\" name=\"ir\"></span>, <span data-value=\"4.089312E11\" name=\"us\"></span>, <span data-value=\"62464\" name=\"nv\"></span>, <span data-value=\"-2.9721558146456335\" name=\"ur\"></span>, <span class=\"secondaryInfo\">(1982)</span>, <span class=\"delete\"> </span>, <span data-value=\"245\" name=\"rk\"></span>, <span data-value=\"8.026392626444093\" name=\"ir\"></span>, <span data-value=\"1.3874112E12\" name=\"us\"></span>, <span data-value=\"39434\" name=\"nv\"></span>, <span data-value=\"-2.9736073735559074\" name=\"ur\"></span>, <span class=\"secondaryInfo\">(2013)</span>, <span class=\"delete\"> </span>, <span data-value=\"246\" name=\"rk\"></span>, <span data-value=\"8.026155953822897\" name=\"ir\"></span>, <span data-value=\"-1.053216E11\" name=\"us\"></span>, <span data-value=\"58116\" name=\"nv\"></span>, <span data-value=\"-2.9738440461771027\" name=\"ur\"></span>, <span class=\"secondaryInfo\">(1966)</span>, <span class=\"delete\"> </span>, <span data-value=\"247\" name=\"rk\"></span>, <span data-value=\"8.026079293148467\" name=\"ir\"></span>, <span data-value=\"-3.990816E11\" name=\"us\"></span>, <span data-value=\"47430\" name=\"nv\"></span>, <span data-value=\"-2.9739207068515334\" name=\"ur\"></span>, <span class=\"secondaryInfo\">(1957)</span>, <span class=\"delete\"> </span>, <span data-value=\"248\" name=\"rk\"></span>, <span data-value=\"8.02483472266787\" name=\"ir\"></span>, <span data-value=\"-9.60768E10\" name=\"us\"></span>, <span data-value=\"52127\" name=\"nv\"></span>, <span data-value=\"-2.9751652773321293\" name=\"ur\"></span>, <span class=\"secondaryInfo\">(1966)</span>, <span class=\"delete\"> </span>, <span data-value=\"249\" name=\"rk\"></span>, <span data-value=\"8.0247780284527\" name=\"ir\"></span>, <span data-value=\"1.5706656E12\" name=\"us\"></span>, <span data-value=\"44994\" name=\"nv\"></span>, <span data-value=\"-2.9752219715473007\" name=\"ur\"></span>, <span class=\"secondaryInfo\">(2019)</span>, <span class=\"delete\"> </span>, <span data-value=\"250\" name=\"rk\"></span>, <span data-value=\"8.024650308768988\" name=\"ir\"></span>, <span data-value=\"1.6050528E12\" name=\"us\"></span>, <span data-value=\"106879\" name=\"nv\"></span>, <span data-value=\"-2.9753496912310116\" name=\"ur\"></span>, <span class=\"secondaryInfo\">(2020)</span>, <span class=\"delete\"> </span>]\n"
     ]
    }
   ],
   "source": [
    "table =soup.find_all('tbody', class_='lister-list')\n",
    "table = table[0]\n",
    "print(rate)"
   ]
  },
  {
   "cell_type": "markdown",
   "metadata": {},
   "source": [
    "#### Challenge 12 - Movie name, year and a brief summary of the top 10 random movies (IMDB) as a pandas dataframe."
   ]
  },
  {
   "cell_type": "code",
   "execution_count": null,
   "metadata": {},
   "outputs": [],
   "source": [
    "#This is the url you will scrape in this exercise\n",
    "url = 'http://www.imdb.com/chart/top'"
   ]
  },
  {
   "cell_type": "code",
   "execution_count": null,
   "metadata": {},
   "outputs": [],
   "source": []
  },
  {
   "cell_type": "markdown",
   "metadata": {},
   "source": [
    "#### Challenge 13 - Find the live weather report (temperature, wind speed, description and weather) of a given city."
   ]
  },
  {
   "cell_type": "code",
   "execution_count": null,
   "metadata": {},
   "outputs": [],
   "source": [
    "#https://openweathermap.org/current"
   ]
  },
  {
   "cell_type": "code",
   "execution_count": null,
   "metadata": {},
   "outputs": [],
   "source": [
    "def weather(city):\n",
    "    pass"
   ]
  },
  {
   "cell_type": "markdown",
   "metadata": {},
   "source": [
    "#### Challenge 14 - Book name,price and stock availability as a pandas dataframe."
   ]
  },
  {
   "cell_type": "code",
   "execution_count": null,
   "metadata": {},
   "outputs": [],
   "source": [
    "# This is the url you will scrape in this exercise. \n",
    "# It is a fictional bookstore created to be scraped. \n",
    "url = 'http://books.toscrape.com/'"
   ]
  },
  {
   "cell_type": "code",
   "execution_count": null,
   "metadata": {},
   "outputs": [],
   "source": []
  },
  {
   "cell_type": "markdown",
   "metadata": {},
   "source": [
    "**Did you limit your output? Thank you! 🙂**"
   ]
  }
 ],
 "metadata": {
  "kernelspec": {
   "display_name": "Python 3",
   "language": "python",
   "name": "python3"
  },
  "language_info": {
   "codemirror_mode": {
    "name": "ipython",
    "version": 3
   },
   "file_extension": ".py",
   "mimetype": "text/x-python",
   "name": "python",
   "nbconvert_exporter": "python",
   "pygments_lexer": "ipython3",
   "version": "3.6.13"
  }
 },
 "nbformat": 4,
 "nbformat_minor": 2
}
