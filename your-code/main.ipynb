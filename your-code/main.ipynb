{
 "cells": [
  {
   "cell_type": "markdown",
   "metadata": {},
   "source": [
    "# Web Scraping Lab\n",
    "\n",
    "You will find in this notebook some web scraping exercises to practice your scraping skills using `requests` and `Beautiful Soup`.\n",
    "\n",
    "**Tips:**\n",
    "\n",
    "- Check the [response status code](https://http.cat/) for each request to ensure you have obtained the intended content.\n",
    "- Look at the HTML code in each request to understand the kind of info you are getting and its format.\n",
    "- Check for patterns in the response text to extract the data/info requested in each question.\n",
    "- Visit each url and take a look at its source through Chrome DevTools. You'll need to identify the html tags, special class names etc. used for the html content you are expected to extract.\n",
    "- Check out the css selectors."
   ]
  },
  {
   "cell_type": "markdown",
   "metadata": {},
   "source": [
    "### Useful Resources\n",
    "- [Requests library](http://docs.python-requests.org/en/master/#the-user-guide) documentation \n",
    "- [Beautiful Soup Doc](https://www.crummy.com/software/BeautifulSoup/bs4/doc/)\n",
    "- [List of HTTP status codes](https://en.wikipedia.org/wiki/List_of_HTTP_status_codes)\n",
    "- [HTML basics](http://www.simplehtmlguide.com/cheatsheet.php)\n",
    "- [CSS basics](https://www.cssbasics.com/#page_start)"
   ]
  },
  {
   "cell_type": "markdown",
   "metadata": {},
   "source": [
    "#### First of all, gathering our tools."
   ]
  },
  {
   "cell_type": "code",
   "execution_count": 1,
   "metadata": {},
   "outputs": [],
   "source": [
    "import requests as req\n",
    "from bs4 import BeautifulSoup as bs\n",
    "import pandas as pd\n",
    "import json"
   ]
  },
  {
   "cell_type": "markdown",
   "metadata": {},
   "source": [
    "⚠️ **Again, please remember to limit your output before submission so that your code doesn't get lost in the output.**"
   ]
  },
  {
   "cell_type": "markdown",
   "metadata": {},
   "source": [
    "#### Challenge 1 - Download, parse (using BeautifulSoup), and print the content from the Trending Developers page from GitHub:"
   ]
  },
  {
   "cell_type": "code",
   "execution_count": 2,
   "metadata": {},
   "outputs": [],
   "source": [
    "# This is the url you will scrape in this exercise\n",
    "url = 'https://github.com/trending/developers'"
   ]
  },
  {
   "cell_type": "markdown",
   "metadata": {},
   "source": [
    "#### Display the names of the trending developers retrieved in the previous step.\n",
    "\n",
    "Your output should be a Python list of developer names. Each name should not contain any html tag.\n",
    "\n",
    "**Instructions:**\n",
    "\n",
    "1. Find out the html tag and class names used for the developer names. You can achieve this using Chrome DevTools.\n",
    "\n",
    "1. Use BeautifulSoup to extract all the html elements that contain the developer names.\n",
    "\n",
    "1. Use string manipulation techniques to replace whitespaces and linebreaks (i.e. `\\n`) in the *text* of each html element. Use a list to store the clean names.\n",
    "\n",
    "1. Print the list of names.\n",
    "\n",
    "Your output should look like below (with different names):\n",
    "\n",
    "```\n",
    "['trimstray (@trimstray)',\n",
    " 'joewalnes (JoeWalnes)',\n",
    " 'charlax (Charles-AxelDein)',\n",
    " 'ForrestKnight (ForrestKnight)',\n",
    " 'revery-ui (revery-ui)',\n",
    " 'alibaba (Alibaba)',\n",
    " 'Microsoft (Microsoft)',\n",
    " 'github (GitHub)',\n",
    " 'facebook (Facebook)',\n",
    " 'boazsegev (Bo)',\n",
    " 'google (Google)',\n",
    " 'cloudfetch',\n",
    " 'sindresorhus (SindreSorhus)',\n",
    " 'tensorflow',\n",
    " 'apache (TheApacheSoftwareFoundation)',\n",
    " 'DevonCrawford (DevonCrawford)',\n",
    " 'ARMmbed (ArmMbed)',\n",
    " 'vuejs (vuejs)',\n",
    " 'fastai (fast.ai)',\n",
    " 'QiShaoXuan (Qi)',\n",
    " 'joelparkerhenderson (JoelParkerHenderson)',\n",
    " 'torvalds (LinusTorvalds)',\n",
    " 'CyC2018',\n",
    " 'komeiji-satori (神楽坂覚々)',\n",
    " 'script-8']\n",
    " ```"
   ]
  },
  {
   "cell_type": "code",
   "execution_count": 3,
   "metadata": {},
   "outputs": [],
   "source": [
    "html=req.get(url).content\n",
    "\n",
    "soup=bs(html, 'html.parser')\n"
   ]
  },
  {
   "cell_type": "markdown",
   "metadata": {},
   "source": [
    "Identificamos que todas las cajas con el nombre del usuarios son un h1 de clase \"h3 lh-condensed\". Asi que los buscamos todos y los añadimos a una lista (find_all) y guardamos esta lista en una variable (users)."
   ]
  },
  {
   "cell_type": "code",
   "execution_count": 4,
   "metadata": {},
   "outputs": [
    {
     "data": {
      "text/plain": [
       "[<h1 class=\"h3 lh-condensed\">\n",
       " <a data-hydro-click='{\"event_type\":\"explore.click\",\"payload\":{\"click_context\":\"TRENDING_DEVELOPERS_PAGE\",\"click_target\":\"OWNER\",\"click_visual_representation\":\"TRENDING_DEVELOPER\",\"actor_id\":null,\"record_id\":1148717,\"originating_url\":\"https://github.com/trending/developers\",\"user_id\":null}}' data-hydro-click-hmac=\"e63714fba102c81161256026f733701b107c533357596fd3a9b8b0ccdb58acba\" data-view-component=\"true\" href=\"/emilk\">\n",
       "             Emil Ernerfeldt\n",
       " </a> </h1>,\n",
       " <h1 class=\"h3 lh-condensed\">\n",
       " <a data-hydro-click='{\"event_type\":\"explore.click\",\"payload\":{\"click_context\":\"TRENDING_DEVELOPERS_PAGE\",\"click_target\":\"OWNER\",\"click_visual_representation\":\"TRENDING_DEVELOPER\",\"actor_id\":null,\"record_id\":40610,\"originating_url\":\"https://github.com/trending/developers\",\"user_id\":null}}' data-hydro-click-hmac=\"a89d6b5a4c2d109b974e13cd420c0b82704b6785bb03c83e25090ee5468fe8d6\" data-view-component=\"true\" href=\"/kishikawakatsumi\">\n",
       "             Kishikawa Katsumi\n",
       " </a> </h1>,\n",
       " <h1 class=\"h3 lh-condensed\">\n",
       " <a data-hydro-click='{\"event_type\":\"explore.click\",\"payload\":{\"click_context\":\"TRENDING_DEVELOPERS_PAGE\",\"click_target\":\"OWNER\",\"click_visual_representation\":\"TRENDING_DEVELOPER\",\"actor_id\":null,\"record_id\":474794,\"originating_url\":\"https://github.com/trending/developers\",\"user_id\":null}}' data-hydro-click-hmac=\"8908c1ea3892ccd03a33f025615c9f8ffd0ce6f495bf3608ef32bc788b88ecd4\" data-view-component=\"true\" href=\"/jpsim\">\n",
       "             JP Simard\n",
       " </a> </h1>,\n",
       " <h1 class=\"h3 lh-condensed\">\n",
       " <a data-hydro-click='{\"event_type\":\"explore.click\",\"payload\":{\"click_context\":\"TRENDING_DEVELOPERS_PAGE\",\"click_target\":\"OWNER\",\"click_visual_representation\":\"TRENDING_DEVELOPER\",\"actor_id\":null,\"record_id\":3676859,\"originating_url\":\"https://github.com/trending/developers\",\"user_id\":null}}' data-hydro-click-hmac=\"745755604f563e1935167affeedb1c4754e75ea6bb4a30fdab3e461977a1ab18\" data-view-component=\"true\" href=\"/shuding\">\n",
       "             Shu Ding\n",
       " </a> </h1>,\n",
       " <h1 class=\"h3 lh-condensed\">\n",
       " <a data-hydro-click='{\"event_type\":\"explore.click\",\"payload\":{\"click_context\":\"TRENDING_DEVELOPERS_PAGE\",\"click_target\":\"OWNER\",\"click_visual_representation\":\"TRENDING_DEVELOPER\",\"actor_id\":null,\"record_id\":1774000,\"originating_url\":\"https://github.com/trending/developers\",\"user_id\":null}}' data-hydro-click-hmac=\"a55ca418c24c09f10eaddf06e856ac6db7167dde03f521d4456ffe493b7a6ef9\" data-view-component=\"true\" href=\"/agnivade\">\n",
       "             Agniva De Sarker\n",
       " </a> </h1>,\n",
       " <h1 class=\"h3 lh-condensed\">\n",
       " <a data-hydro-click='{\"event_type\":\"explore.click\",\"payload\":{\"click_context\":\"TRENDING_DEVELOPERS_PAGE\",\"click_target\":\"OWNER\",\"click_visual_representation\":\"TRENDING_DEVELOPER\",\"actor_id\":null,\"record_id\":46163555,\"originating_url\":\"https://github.com/trending/developers\",\"user_id\":null}}' data-hydro-click-hmac=\"abbdcaa4b10ff886672e6a4fab326dd216bb3d8535e0e00a7db560e221f3c718\" data-view-component=\"true\" href=\"/PySimpleGUI\">\n",
       "             PySimpleGUI\n",
       " </a> </h1>,\n",
       " <h1 class=\"h3 lh-condensed\">\n",
       " <a data-hydro-click='{\"event_type\":\"explore.click\",\"payload\":{\"click_context\":\"TRENDING_DEVELOPERS_PAGE\",\"click_target\":\"OWNER\",\"click_visual_representation\":\"TRENDING_DEVELOPER\",\"actor_id\":null,\"record_id\":5022927,\"originating_url\":\"https://github.com/trending/developers\",\"user_id\":null}}' data-hydro-click-hmac=\"265c3a274381ff35509586165fdc3ba02550de6a0caefa479c9b533c34bcdb64\" data-view-component=\"true\" href=\"/yujincheng08\">\n",
       "             LoveSy\n",
       " </a> </h1>,\n",
       " <h1 class=\"h3 lh-condensed\">\n",
       " <a data-hydro-click='{\"event_type\":\"explore.click\",\"payload\":{\"click_context\":\"TRENDING_DEVELOPERS_PAGE\",\"click_target\":\"OWNER\",\"click_visual_representation\":\"TRENDING_DEVELOPER\",\"actor_id\":null,\"record_id\":28706372,\"originating_url\":\"https://github.com/trending/developers\",\"user_id\":null}}' data-hydro-click-hmac=\"a23cc2d70ce116e79d3330e827ec8196dd1af9e67e339982cb1263867e267dc4\" data-view-component=\"true\" href=\"/danielroe\">\n",
       "             Daniel Roe\n",
       " </a> </h1>,\n",
       " <h1 class=\"h3 lh-condensed\">\n",
       " <a data-hydro-click='{\"event_type\":\"explore.click\",\"payload\":{\"click_context\":\"TRENDING_DEVELOPERS_PAGE\",\"click_target\":\"OWNER\",\"click_visual_representation\":\"TRENDING_DEVELOPER\",\"actor_id\":null,\"record_id\":3806031,\"originating_url\":\"https://github.com/trending/developers\",\"user_id\":null}}' data-hydro-click-hmac=\"bdbbcdee7e414cd18f0904ce0ec96193342e826de290d25fce9a27489e6ace8c\" data-view-component=\"true\" href=\"/jsjoeio\">\n",
       "             Joe Previte\n",
       " </a> </h1>,\n",
       " <h1 class=\"h3 lh-condensed\">\n",
       " <a data-hydro-click='{\"event_type\":\"explore.click\",\"payload\":{\"click_context\":\"TRENDING_DEVELOPERS_PAGE\",\"click_target\":\"OWNER\",\"click_visual_representation\":\"TRENDING_DEVELOPER\",\"actor_id\":null,\"record_id\":35901082,\"originating_url\":\"https://github.com/trending/developers\",\"user_id\":null}}' data-hydro-click-hmac=\"a1fd06b9662bb743066f3b339044909ad25599bba4d8997a776e4deaa8275c6e\" data-view-component=\"true\" href=\"/sgugger\">\n",
       "             Sylvain Gugger\n",
       " </a> </h1>,\n",
       " <h1 class=\"h3 lh-condensed\">\n",
       " <a data-hydro-click='{\"event_type\":\"explore.click\",\"payload\":{\"click_context\":\"TRENDING_DEVELOPERS_PAGE\",\"click_target\":\"OWNER\",\"click_visual_representation\":\"TRENDING_DEVELOPER\",\"actor_id\":null,\"record_id\":1940490,\"originating_url\":\"https://github.com/trending/developers\",\"user_id\":null}}' data-hydro-click-hmac=\"89def6e9543bf32cce55ead89a00babff7927795940f70f8bba2876fcb925be2\" data-view-component=\"true\" href=\"/dtolnay\">\n",
       "             David Tolnay\n",
       " </a> </h1>,\n",
       " <h1 class=\"h3 lh-condensed\">\n",
       " <a data-hydro-click='{\"event_type\":\"explore.click\",\"payload\":{\"click_context\":\"TRENDING_DEVELOPERS_PAGE\",\"click_target\":\"OWNER\",\"click_visual_representation\":\"TRENDING_DEVELOPER\",\"actor_id\":null,\"record_id\":4209276,\"originating_url\":\"https://github.com/trending/developers\",\"user_id\":null}}' data-hydro-click-hmac=\"37c66dc589172f29cd7759c8a13d784f09d1a04de0ae2d0b251140e20e5c6250\" data-view-component=\"true\" href=\"/sharkdp\">\n",
       "             David Peter\n",
       " </a> </h1>,\n",
       " <h1 class=\"h3 lh-condensed\">\n",
       " <a data-hydro-click='{\"event_type\":\"explore.click\",\"payload\":{\"click_context\":\"TRENDING_DEVELOPERS_PAGE\",\"click_target\":\"OWNER\",\"click_visual_representation\":\"TRENDING_DEVELOPER\",\"actor_id\":null,\"record_id\":2851492,\"originating_url\":\"https://github.com/trending/developers\",\"user_id\":null}}' data-hydro-click-hmac=\"c7179e8a97281b2154c24cc6350c399f7adc6c6c7bb1262d08bcf62e3766eed2\" data-view-component=\"true\" href=\"/Neo23x0\">\n",
       "             Florian Roth\n",
       " </a> </h1>,\n",
       " <h1 class=\"h3 lh-condensed\">\n",
       " <a data-hydro-click='{\"event_type\":\"explore.click\",\"payload\":{\"click_context\":\"TRENDING_DEVELOPERS_PAGE\",\"click_target\":\"OWNER\",\"click_visual_representation\":\"TRENDING_DEVELOPER\",\"actor_id\":null,\"record_id\":20448157,\"originating_url\":\"https://github.com/trending/developers\",\"user_id\":null}}' data-hydro-click-hmac=\"c1457406be44ef0d9684a9aa853640140cc7b8b4f83ac6501e76c215f9dedbde\" data-view-component=\"true\" href=\"/klaasnicolaas\">\n",
       "             Klaas Schoute\n",
       " </a> </h1>,\n",
       " <h1 class=\"h3 lh-condensed\">\n",
       " <a data-hydro-click='{\"event_type\":\"explore.click\",\"payload\":{\"click_context\":\"TRENDING_DEVELOPERS_PAGE\",\"click_target\":\"OWNER\",\"click_visual_representation\":\"TRENDING_DEVELOPER\",\"actor_id\":null,\"record_id\":11790789,\"originating_url\":\"https://github.com/trending/developers\",\"user_id\":null}}' data-hydro-click-hmac=\"28a2cce8fe548a0a5c2e169b89ae8a3614ee70f1eed246194ef425331866342e\" data-view-component=\"true\" href=\"/gammazero\">\n",
       "             Andrew Gillis\n",
       " </a> </h1>,\n",
       " <h1 class=\"h3 lh-condensed\">\n",
       " <a data-hydro-click='{\"event_type\":\"explore.click\",\"payload\":{\"click_context\":\"TRENDING_DEVELOPERS_PAGE\",\"click_target\":\"OWNER\",\"click_visual_representation\":\"TRENDING_DEVELOPER\",\"actor_id\":null,\"record_id\":146378,\"originating_url\":\"https://github.com/trending/developers\",\"user_id\":null}}' data-hydro-click-hmac=\"db6ce6ad61062d09df4eeade2a987bc7b4c44a7fe07e38f95e16ec5a147ede57\" data-view-component=\"true\" href=\"/muesli\">\n",
       "             Christian Muehlhaeuser\n",
       " </a> </h1>,\n",
       " <h1 class=\"h3 lh-condensed\">\n",
       " <a data-hydro-click='{\"event_type\":\"explore.click\",\"payload\":{\"click_context\":\"TRENDING_DEVELOPERS_PAGE\",\"click_target\":\"OWNER\",\"click_visual_representation\":\"TRENDING_DEVELOPER\",\"actor_id\":null,\"record_id\":35742643,\"originating_url\":\"https://github.com/trending/developers\",\"user_id\":null}}' data-hydro-click-hmac=\"c5ec431393753392904c38f896e76125bcef33299fd9e67967ec49f69850fc09\" data-view-component=\"true\" href=\"/jonataslaw\">\n",
       "             Jonny Borges\n",
       " </a> </h1>,\n",
       " <h1 class=\"h3 lh-condensed\">\n",
       " <a data-hydro-click='{\"event_type\":\"explore.click\",\"payload\":{\"click_context\":\"TRENDING_DEVELOPERS_PAGE\",\"click_target\":\"OWNER\",\"click_visual_representation\":\"TRENDING_DEVELOPER\",\"actor_id\":null,\"record_id\":1323708,\"originating_url\":\"https://github.com/trending/developers\",\"user_id\":null}}' data-hydro-click-hmac=\"623567c707e9c62539cbf93d8e37bb52c89dcf527aafa8f58c8da05309bdd242\" data-view-component=\"true\" href=\"/JLLeitschuh\">\n",
       "             Jonathan Leitschuh\n",
       " </a> </h1>,\n",
       " <h1 class=\"h3 lh-condensed\">\n",
       " <a data-hydro-click='{\"event_type\":\"explore.click\",\"payload\":{\"click_context\":\"TRENDING_DEVELOPERS_PAGE\",\"click_target\":\"OWNER\",\"click_visual_representation\":\"TRENDING_DEVELOPER\",\"actor_id\":null,\"record_id\":4060,\"originating_url\":\"https://github.com/trending/developers\",\"user_id\":null}}' data-hydro-click-hmac=\"10aacb8e8dd86b005606b4e182e17bc5864287061b6f57b69fad7f771a3d8e95\" data-view-component=\"true\" href=\"/derailed\">\n",
       "             Fernand Galiana\n",
       " </a> </h1>,\n",
       " <h1 class=\"h3 lh-condensed\">\n",
       " <a data-hydro-click='{\"event_type\":\"explore.click\",\"payload\":{\"click_context\":\"TRENDING_DEVELOPERS_PAGE\",\"click_target\":\"OWNER\",\"click_visual_representation\":\"TRENDING_DEVELOPER\",\"actor_id\":null,\"record_id\":5663952,\"originating_url\":\"https://github.com/trending/developers\",\"user_id\":null}}' data-hydro-click-hmac=\"58445f5676f06bac71d0cd946352e868ed4cee088171a9818477b1be7d7b20df\" data-view-component=\"true\" href=\"/klauspost\">\n",
       "             Klaus Post\n",
       " </a> </h1>,\n",
       " <h1 class=\"h3 lh-condensed\">\n",
       " <a data-hydro-click='{\"event_type\":\"explore.click\",\"payload\":{\"click_context\":\"TRENDING_DEVELOPERS_PAGE\",\"click_target\":\"OWNER\",\"click_visual_representation\":\"TRENDING_DEVELOPER\",\"actor_id\":null,\"record_id\":97088,\"originating_url\":\"https://github.com/trending/developers\",\"user_id\":null}}' data-hydro-click-hmac=\"f68e03dfcd3fbf1ca4517328fdcbaa2202f0eef2880f3d4e76f7ec2bdcbb6d7a\" data-view-component=\"true\" href=\"/mrdoob\">\n",
       "             mrdoob\n",
       " </a> </h1>,\n",
       " <h1 class=\"h3 lh-condensed\">\n",
       " <a data-hydro-click='{\"event_type\":\"explore.click\",\"payload\":{\"click_context\":\"TRENDING_DEVELOPERS_PAGE\",\"click_target\":\"OWNER\",\"click_visual_representation\":\"TRENDING_DEVELOPER\",\"actor_id\":null,\"record_id\":663378,\"originating_url\":\"https://github.com/trending/developers\",\"user_id\":null}}' data-hydro-click-hmac=\"bda425adbb555b1e90466af8baa6ed649d3db0de1bc0cade46a6cc3c2352be4a\" data-view-component=\"true\" href=\"/jrfnl\">\n",
       "             Juliette\n",
       " </a> </h1>,\n",
       " <h1 class=\"h3 lh-condensed\">\n",
       " <a data-hydro-click='{\"event_type\":\"explore.click\",\"payload\":{\"click_context\":\"TRENDING_DEVELOPERS_PAGE\",\"click_target\":\"OWNER\",\"click_visual_representation\":\"TRENDING_DEVELOPER\",\"actor_id\":null,\"record_id\":2946214,\"originating_url\":\"https://github.com/trending/developers\",\"user_id\":null}}' data-hydro-click-hmac=\"55e07c34899559d6bb5b4882c61526c40816d6e8990f6854e05af2dd2c6eb662\" data-view-component=\"true\" href=\"/unknwon\">\n",
       "             Joe Chen\n",
       " </a> </h1>,\n",
       " <h1 class=\"h3 lh-condensed\">\n",
       " <a data-hydro-click='{\"event_type\":\"explore.click\",\"payload\":{\"click_context\":\"TRENDING_DEVELOPERS_PAGE\",\"click_target\":\"OWNER\",\"click_visual_representation\":\"TRENDING_DEVELOPER\",\"actor_id\":null,\"record_id\":36044436,\"originating_url\":\"https://github.com/trending/developers\",\"user_id\":null}}' data-hydro-click-hmac=\"2a82a3f13e711970166da89873c715417909585ae2cbe99b13ee96364d85c09a\" data-view-component=\"true\" href=\"/nomi9995\">\n",
       "             Numan\n",
       " </a> </h1>,\n",
       " <h1 class=\"h3 lh-condensed\">\n",
       " <a data-hydro-click='{\"event_type\":\"explore.click\",\"payload\":{\"click_context\":\"TRENDING_DEVELOPERS_PAGE\",\"click_target\":\"OWNER\",\"click_visual_representation\":\"TRENDING_DEVELOPER\",\"actor_id\":null,\"record_id\":13170022,\"originating_url\":\"https://github.com/trending/developers\",\"user_id\":null}}' data-hydro-click-hmac=\"12222dfa6c187aebeccd2a7823832fd11a524a3b7c9c4ba7fac1fb3fbb416b63\" data-view-component=\"true\" href=\"/Ebazhanov\">\n",
       "             Zhenja\n",
       " </a> </h1>]"
      ]
     },
     "execution_count": 4,
     "metadata": {},
     "output_type": "execute_result"
    }
   ],
   "source": [
    "users = soup.find_all('h1', class_='h3 lh-condensed')\n",
    "\n",
    "users"
   ]
  },
  {
   "cell_type": "markdown",
   "metadata": {},
   "source": [
    "Ahora, dentro de users, queremos acceder a la información que nos interesa."
   ]
  },
  {
   "cell_type": "code",
   "execution_count": 5,
   "metadata": {
    "scrolled": true
   },
   "outputs": [
    {
     "name": "stdout",
     "output_type": "stream",
     "text": [
      "['/emilk\\n            Emil Ernerfeldt\\n', '/kishikawakatsumi\\n            Kishikawa Katsumi\\n', '/jpsim\\n            JP Simard\\n', '/shuding\\n            Shu Ding\\n', '/agnivade\\n            Agniva De Sarker\\n', '/PySimpleGUI\\n            PySimpleGUI\\n', '/yujincheng08\\n            LoveSy\\n', '/danielroe\\n            Daniel Roe\\n', '/jsjoeio\\n            Joe Previte\\n', '/sgugger\\n            Sylvain Gugger\\n', '/dtolnay\\n            David Tolnay\\n', '/sharkdp\\n            David Peter\\n', '/Neo23x0\\n            Florian Roth\\n', '/klaasnicolaas\\n            Klaas Schoute\\n', '/gammazero\\n            Andrew Gillis\\n', '/muesli\\n            Christian Muehlhaeuser\\n', '/jonataslaw\\n            Jonny Borges\\n', '/JLLeitschuh\\n            Jonathan Leitschuh\\n', '/derailed\\n            Fernand Galiana\\n', '/klauspost\\n            Klaus Post\\n', '/mrdoob\\n            mrdoob\\n', '/jrfnl\\n            Juliette\\n', '/unknwon\\n            Joe Chen\\n', '/nomi9995\\n            Numan\\n', '/Ebazhanov\\n            Zhenja\\n']\n"
     ]
    }
   ],
   "source": [
    "user_names = []\n",
    "\n",
    "for e in users:                  \n",
    "    user_name_individual = (e.a['href'])+(e.a.text)              \n",
    "    user_names.append(user_name_individual)\n",
    "print(user_names)"
   ]
  },
  {
   "cell_type": "code",
   "execution_count": 28,
   "metadata": {},
   "outputs": [
    {
     "name": "stdout",
     "output_type": "stream",
     "text": [
      "['emilk (Emil Ernerfeldt)', 'kishikawakatsumi (Kishikawa Katsumi)', 'jpsim (JP Simard)', 'shuding (Shu Ding)', 'agnivade (Agniva De Sarker)', 'PySimpleGUI (PySimpleGUI)', 'yujincheng08 (LoveSy)', 'danielroe (Daniel Roe)', 'jsjoeio (Joe Previte)', 'sgugger (Sylvain Gugger)', 'dtolnay (David Tolnay)', 'sharkdp (David Peter)', 'Neo23x0 (Florian Roth)', 'klaasnicolaas (Klaas Schoute)', 'gammazero (Andrew Gillis)', 'muesli (Christian Muehlhaeuser)', 'jonataslaw (Jonny Borges)', 'JLLeitschuh (Jonathan Leitschuh)', 'derailed (Fernand Galiana)', 'klauspost (Klaus Post)', 'mrdoob (mrdoob)', 'jrfnl (Juliette)', 'unknwon (Joe Chen)', 'nomi9995 (Numan)', 'Ebazhanov (Zhenja)']\n"
     ]
    },
    {
     "data": {
      "text/plain": [
       "\"Construcción de user_name_individual:\\nEstamos accediendo al contenido y limpiándolo a la vez (daba problemas haciéndolo por separado)\\n\\nPrimero accedemos al usuario --> Valor del atributo 'href', dentro del tag 'a'.\\nLimpiamos el usuario --> Usamos .lstrip() para elminar '/'.\\n\\nAccedemos al nombre --> texto al final del tag 'a'. El nombre está incluido en el tag 'a', pero no corresponde a ningún atributo. Es simplemente texto y a esto accedemos a través del .text\\nLimpiamos el nombre --> Usamos .strip para eliminar '\\n' y todos los espacio que haya (hasta encontrar otro caracter por izquierza y derecha del string)\\n\\nConstrucción del elemento en user_names ---> Añadimos lo necesario para obtener el formato que queremos: añadimos el espacio entre usuario y nombre y los paréntisis en nombre.\""
      ]
     },
     "execution_count": 28,
     "metadata": {},
     "output_type": "execute_result"
    }
   ],
   "source": [
    "user_names = []\n",
    "\n",
    "for e in users:\n",
    "    user_name_individual = (e.a['href'].lstrip('/'))+\" \"+\"(\"+(e.a.text.strip('\\n '))+\")\"      \n",
    "    user_names.append(user_name_individual)\n",
    "\n",
    "print(user_names)\n",
    "\n",
    "\"\"\"Construcción de user_name_individual:\n",
    "Estamos accediendo al contenido y limpiándolo a la vez (daba problemas haciéndolo por separado)\n",
    "\n",
    "Primero accedemos al usuario --> Valor del atributo 'href', dentro del tag 'a'.\n",
    "Limpiamos el usuario --> Usamos .lstrip() para elminar '/'.\n",
    "\n",
    "Accedemos al nombre --> texto al final del tag 'a'. El nombre está incluido en el tag 'a', pero no corresponde a ningún atributo. Es simplemente texto y a esto accedemos a través del .text\n",
    "Limpiamos el nombre --> Usamos .strip para eliminar '\\n' y todos los espacio que haya (hasta encontrar otro caracter por izquierza y derecha del string)\n",
    "\n",
    "Construcción del elemento en user_names ---> Añadimos lo necesario para obtener el formato que queremos: añadimos el espacio entre usuario y nombre y los paréntisis en nombre.\"\"\""
   ]
  },
  {
   "cell_type": "markdown",
   "metadata": {},
   "source": [
    "####  Challenge 2 - Display the trending Python repositories in GitHub\n",
    "\n",
    "The steps to solve this problem is similar to the previous one except that you need to find out the repository names instead of developer names."
   ]
  },
  {
   "cell_type": "code",
   "execution_count": 29,
   "metadata": {},
   "outputs": [],
   "source": [
    "# This is the url you will scrape in this exercise\n",
    "url = 'https://github.com/trending/python?since=daily'"
   ]
  },
  {
   "cell_type": "code",
   "execution_count": 30,
   "metadata": {},
   "outputs": [],
   "source": [
    "html=req.get(url).content\n",
    "\n",
    "soup=bs(html, 'html.parser')"
   ]
  },
  {
   "cell_type": "code",
   "execution_count": 38,
   "metadata": {},
   "outputs": [],
   "source": [
    "repos = soup.find_all('h1', class_='h3 lh-condensed')"
   ]
  },
  {
   "cell_type": "code",
   "execution_count": 47,
   "metadata": {
    "scrolled": true
   },
   "outputs": [
    {
     "data": {
      "text/plain": [
       "['RunaCapital/awesome-oss-alternatives',\n",
       " 'jackfrued/Python-100-Days',\n",
       " 'github/copilot-docs',\n",
       " 'ansible/ansible',\n",
       " 'TheAlgorithms/Python',\n",
       " 'facebookresearch/mae',\n",
       " 'scikit-learn/scikit-learn',\n",
       " 'pymc-devs/pymc',\n",
       " 'Jxck-S/plane-notify',\n",
       " 'deepset-ai/haystack',\n",
       " 'joeammond/CVE-2021-4034',\n",
       " 'sinwindie/OSINT',\n",
       " 'KurtBestor/Hitomi-Downloader',\n",
       " 'joke2k/faker',\n",
       " 'bottlesdevs/Bottles',\n",
       " 'huggingface/transformers',\n",
       " 'zulip/zulip',\n",
       " 'ranger/ranger',\n",
       " 'feast-dev/feast',\n",
       " 'facebookresearch/detr',\n",
       " 'dmlc/dgl',\n",
       " 'NVlabs/imaginaire',\n",
       " 'nftdevs/NFTs-Upload-to-OpenSea',\n",
       " 'thumbor/thumbor',\n",
       " 'yetao0806/NodeNote']"
      ]
     },
     "execution_count": 47,
     "metadata": {},
     "output_type": "execute_result"
    }
   ],
   "source": [
    "repos_names = []\n",
    "\n",
    "for e in repos:\n",
    "    repos_names.append(e.a['href'].strip('/'))   # Accedemos al contenido, limpiamos y añadimos a la lista en la misma línea de código.\n",
    "\n",
    "repos_names\n"
   ]
  },
  {
   "cell_type": "markdown",
   "metadata": {},
   "source": [
    "#### Challenge 3 - Display all the image links from Walt Disney wikipedia page"
   ]
  },
  {
   "cell_type": "code",
   "execution_count": 48,
   "metadata": {},
   "outputs": [],
   "source": [
    "# This is the url you will scrape in this exercise\n",
    "url = 'https://en.wikipedia.org/wiki/Walt_Disney'"
   ]
  },
  {
   "cell_type": "code",
   "execution_count": 49,
   "metadata": {},
   "outputs": [],
   "source": [
    "html=req.get(url).content\n",
    "\n",
    "soup=bs(html, 'html.parser')"
   ]
  },
  {
   "cell_type": "code",
   "execution_count": 77,
   "metadata": {},
   "outputs": [],
   "source": [
    "images = soup.find_all('a', class_='image') # Accedemos a la caja anterior ('a') al tag que nos interesa ('img')"
   ]
  },
  {
   "cell_type": "code",
   "execution_count": 78,
   "metadata": {},
   "outputs": [
    {
     "data": {
      "text/plain": [
       "['//upload.wikimedia.org/wikipedia/commons/thumb/d/df/Walt_Disney_1946.JPG/220px-Walt_Disney_1946.JPG',\n",
       " '//upload.wikimedia.org/wikipedia/commons/thumb/8/87/Walt_Disney_1942_signature.svg/150px-Walt_Disney_1942_signature.svg.png',\n",
       " '//upload.wikimedia.org/wikipedia/commons/thumb/c/c4/Walt_Disney_envelope_ca._1921.jpg/220px-Walt_Disney_envelope_ca._1921.jpg',\n",
       " '//upload.wikimedia.org/wikipedia/commons/thumb/0/0d/Trolley_Troubles_poster.jpg/170px-Trolley_Troubles_poster.jpg',\n",
       " '//upload.wikimedia.org/wikipedia/en/thumb/4/4e/Steamboat-willie.jpg/170px-Steamboat-willie.jpg',\n",
       " '//upload.wikimedia.org/wikipedia/commons/thumb/5/57/Walt_Disney_1935.jpg/170px-Walt_Disney_1935.jpg',\n",
       " '//upload.wikimedia.org/wikipedia/commons/thumb/c/cd/Walt_Disney_Snow_white_1937_trailer_screenshot_%2813%29.jpg/220px-Walt_Disney_Snow_white_1937_trailer_screenshot_%2813%29.jpg',\n",
       " '//upload.wikimedia.org/wikipedia/commons/thumb/1/15/Disney_drawing_goofy.jpg/170px-Disney_drawing_goofy.jpg',\n",
       " '//upload.wikimedia.org/wikipedia/commons/thumb/1/13/DisneySchiphol1951.jpg/220px-DisneySchiphol1951.jpg',\n",
       " '//upload.wikimedia.org/wikipedia/commons/thumb/8/8c/WaltDisneyplansDisneylandDec1954.jpg/220px-WaltDisneyplansDisneylandDec1954.jpg',\n",
       " '//upload.wikimedia.org/wikipedia/commons/thumb/f/ff/Walt_disney_portrait_right.jpg/170px-Walt_disney_portrait_right.jpg',\n",
       " '//upload.wikimedia.org/wikipedia/commons/thumb/1/1a/Walt_Disney_Grave.JPG/170px-Walt_Disney_Grave.JPG',\n",
       " '//upload.wikimedia.org/wikipedia/commons/thumb/2/2d/Roy_O._Disney_with_Company_at_Press_Conference.jpg/170px-Roy_O._Disney_with_Company_at_Press_Conference.jpg',\n",
       " '//upload.wikimedia.org/wikipedia/commons/thumb/b/b0/Disney_Oscar_1953_%28cropped%29.jpg/170px-Disney_Oscar_1953_%28cropped%29.jpg',\n",
       " '//upload.wikimedia.org/wikipedia/commons/thumb/6/6c/Disney1968.jpg/170px-Disney1968.jpg',\n",
       " '//upload.wikimedia.org/wikipedia/commons/thumb/e/e3/Disneyland_Resort_logo.svg/135px-Disneyland_Resort_logo.svg.png',\n",
       " '//upload.wikimedia.org/wikipedia/commons/thumb/d/da/Animation_disc.svg/20px-Animation_disc.svg.png',\n",
       " '//upload.wikimedia.org/wikipedia/en/thumb/6/69/P_vip.svg/19px-P_vip.svg.png',\n",
       " '//upload.wikimedia.org/wikipedia/commons/thumb/1/1a/Magic_Kingdom_castle.jpg/15px-Magic_Kingdom_castle.jpg',\n",
       " '//upload.wikimedia.org/wikipedia/en/thumb/e/e7/Video-x-generic.svg/19px-Video-x-generic.svg.png',\n",
       " '//upload.wikimedia.org/wikipedia/commons/thumb/a/a3/Flag_of_Los_Angeles_County%2C_California.svg/21px-Flag_of_Los_Angeles_County%2C_California.svg.png',\n",
       " '//upload.wikimedia.org/wikipedia/commons/thumb/8/8c/Blank_television_set.svg/21px-Blank_television_set.svg.png',\n",
       " '//upload.wikimedia.org/wikipedia/en/thumb/a/a4/Flag_of_the_United_States.svg/21px-Flag_of_the_United_States.svg.png']"
      ]
     },
     "execution_count": 78,
     "metadata": {},
     "output_type": "execute_result"
    }
   ],
   "source": [
    "img_links = []\n",
    "\n",
    "for e in images:\n",
    "    img_links.append(e.img['src']) # Accedemos al tag que nos interesa ('img') y añadimos a la lista el atributo que queremos ('src' --> contiene el link de la imagen)\n",
    "\n",
    "img_links"
   ]
  },
  {
   "cell_type": "markdown",
   "metadata": {},
   "source": [
    "#### Challenge 4 - Retrieve all links to pages on Wikipedia that refer to some kind of Python."
   ]
  },
  {
   "cell_type": "code",
   "execution_count": 79,
   "metadata": {},
   "outputs": [],
   "source": [
    "# This is the url you will scrape in this exercise\n",
    "url ='https://en.wikipedia.org/wiki/Python' "
   ]
  },
  {
   "cell_type": "code",
   "execution_count": 80,
   "metadata": {},
   "outputs": [],
   "source": [
    "html=req.get(url).content\n",
    "\n",
    "soup=bs(html, 'html.parser')"
   ]
  },
  {
   "cell_type": "code",
   "execution_count": 119,
   "metadata": {},
   "outputs": [],
   "source": [
    "lis = soup.find_all('li')"
   ]
  },
  {
   "cell_type": "code",
   "execution_count": 120,
   "metadata": {},
   "outputs": [
    {
     "data": {
      "text/plain": [
       "['/wiki/Pythonidae',\n",
       " '/wiki/Python_(genus)',\n",
       " '#Computing',\n",
       " '#People',\n",
       " '#Roller_coasters',\n",
       " '#Vehicles',\n",
       " '#Weaponry',\n",
       " '#Other_uses',\n",
       " '#See_also',\n",
       " '/wiki/Python_(programming_language)',\n",
       " '/wiki/CMU_Common_Lisp',\n",
       " '/wiki/PERQ#PERQ_3',\n",
       " '/wiki/Python_of_Aenus',\n",
       " '/wiki/Python_(painter)',\n",
       " '/wiki/Python_of_Byzantium',\n",
       " '/wiki/Python_of_Catana',\n",
       " '/wiki/Python_Anghelo',\n",
       " '/wiki/Python_(Efteling)',\n",
       " '/wiki/Python_(Busch_Gardens_Tampa_Bay)',\n",
       " '/wiki/Python_(Coney_Island,_Cincinnati,_Ohio)',\n",
       " '/wiki/Python_(automobile_maker)',\n",
       " '/wiki/Python_(Ford_prototype)',\n",
       " '/wiki/Python_(missile)',\n",
       " '/wiki/Python_(nuclear_primary)',\n",
       " '/wiki/Colt_Python',\n",
       " '/wiki/PYTHON',\n",
       " '/wiki/Python_(film)',\n",
       " '/wiki/Python_(mythology)',\n",
       " '/wiki/Monty_Python',\n",
       " '/wiki/Python_(Monty)_Pictures',\n",
       " '/wiki/Timon_of_Phlius',\n",
       " '/wiki/Cython',\n",
       " '/wiki/Pyton',\n",
       " '/wiki/Pithon',\n",
       " '/wiki/Category:Disambiguation_pages',\n",
       " '/wiki/Category:Human_name_disambiguation_pages',\n",
       " '/wiki/Category:Disambiguation_pages_with_given-name-holder_lists',\n",
       " '/wiki/Category:Disambiguation_pages_with_short_descriptions',\n",
       " '/wiki/Category:Short_description_is_different_from_Wikidata',\n",
       " '/wiki/Category:All_article_disambiguation_pages',\n",
       " '/wiki/Category:All_disambiguation_pages',\n",
       " '/wiki/Category:Animal_common_name_disambiguation_pages',\n",
       " '/wiki/Special:MyTalk',\n",
       " '/wiki/Special:MyContributions',\n",
       " '/w/index.php?title=Special:CreateAccount&returnto=Python',\n",
       " '/w/index.php?title=Special:UserLogin&returnto=Python',\n",
       " '/wiki/Python',\n",
       " '/wiki/Talk:Python',\n",
       " '/wiki/Python',\n",
       " '/w/index.php?title=Python&action=edit',\n",
       " '/w/index.php?title=Python&action=history',\n",
       " '/wiki/Main_Page',\n",
       " '/wiki/Wikipedia:Contents',\n",
       " '/wiki/Portal:Current_events',\n",
       " '/wiki/Special:Random',\n",
       " '/wiki/Wikipedia:About',\n",
       " '//en.wikipedia.org/wiki/Wikipedia:Contact_us',\n",
       " 'https://donate.wikimedia.org/wiki/Special:FundraiserRedirector?utm_source=donate&utm_medium=sidebar&utm_campaign=C13_en.wikipedia.org&uselang=en',\n",
       " '/wiki/Help:Contents',\n",
       " '/wiki/Help:Introduction',\n",
       " '/wiki/Wikipedia:Community_portal',\n",
       " '/wiki/Special:RecentChanges',\n",
       " '/wiki/Wikipedia:File_Upload_Wizard',\n",
       " '/wiki/Special:WhatLinksHere/Python',\n",
       " '/wiki/Special:RecentChangesLinked/Python',\n",
       " '/wiki/Wikipedia:File_Upload_Wizard',\n",
       " '/wiki/Special:SpecialPages',\n",
       " '/w/index.php?title=Python&oldid=1066781297',\n",
       " '/w/index.php?title=Python&action=info',\n",
       " '/w/index.php?title=Special:CiteThisPage&page=Python&id=1066781297&wpFormIdentifier=titleform',\n",
       " 'https://www.wikidata.org/wiki/Special:EntityPage/Q747452',\n",
       " '/w/index.php?title=Special:DownloadAsPdf&page=Python&action=show-download-screen',\n",
       " '/w/index.php?title=Python&printable=yes',\n",
       " 'https://commons.wikimedia.org/wiki/Category:Python',\n",
       " 'https://af.wikipedia.org/wiki/Python',\n",
       " 'https://als.wikipedia.org/wiki/Python',\n",
       " 'https://ar.wikipedia.org/wiki/%D8%A8%D8%A7%D9%8A%D8%AB%D9%88%D9%86_(%D8%AA%D9%88%D8%B6%D9%8A%D8%AD)',\n",
       " 'https://az.wikipedia.org/wiki/Python',\n",
       " 'https://bn.wikipedia.org/wiki/%E0%A6%AA%E0%A6%BE%E0%A6%87%E0%A6%A5%E0%A6%A8_(%E0%A6%A6%E0%A7%8D%E0%A6%AC%E0%A7%8D%E0%A6%AF%E0%A6%B0%E0%A7%8D%E0%A6%A5%E0%A6%A4%E0%A6%BE_%E0%A6%A8%E0%A6%BF%E0%A6%B0%E0%A6%B8%E0%A6%A8)',\n",
       " 'https://be.wikipedia.org/wiki/Python',\n",
       " 'https://bg.wikipedia.org/wiki/%D0%9F%D0%B8%D1%82%D0%BE%D0%BD_(%D0%BF%D0%BE%D1%8F%D1%81%D0%BD%D0%B5%D0%BD%D0%B8%D0%B5)',\n",
       " 'https://cs.wikipedia.org/wiki/Python_(rozcestn%C3%ADk)',\n",
       " 'https://da.wikipedia.org/wiki/Python',\n",
       " 'https://de.wikipedia.org/wiki/Python',\n",
       " 'https://eo.wikipedia.org/wiki/Pitono_(apartigilo)',\n",
       " 'https://eu.wikipedia.org/wiki/Python_(argipena)',\n",
       " 'https://fa.wikipedia.org/wiki/%D9%BE%D8%A7%DB%8C%D8%AA%D9%88%D9%86',\n",
       " 'https://fr.wikipedia.org/wiki/Python',\n",
       " 'https://ko.wikipedia.org/wiki/%ED%8C%8C%EC%9D%B4%EC%84%A0',\n",
       " 'https://hr.wikipedia.org/wiki/Python_(razdvojba)',\n",
       " 'https://io.wikipedia.org/wiki/Pitono',\n",
       " 'https://id.wikipedia.org/wiki/Python',\n",
       " 'https://ia.wikipedia.org/wiki/Python_(disambiguation)',\n",
       " 'https://is.wikipedia.org/wiki/Python_(a%C3%B0greining)',\n",
       " 'https://it.wikipedia.org/wiki/Python_(disambigua)',\n",
       " 'https://he.wikipedia.org/wiki/%D7%A4%D7%99%D7%AA%D7%95%D7%9F',\n",
       " 'https://ka.wikipedia.org/wiki/%E1%83%9E%E1%83%98%E1%83%97%E1%83%9D%E1%83%9C%E1%83%98_(%E1%83%9B%E1%83%A0%E1%83%90%E1%83%95%E1%83%90%E1%83%9A%E1%83%9B%E1%83%9C%E1%83%98%E1%83%A8%E1%83%95%E1%83%9C%E1%83%94%E1%83%9A%E1%83%9D%E1%83%95%E1%83%90%E1%83%9C%E1%83%98)',\n",
       " 'https://kg.wikipedia.org/wiki/Mboma_(nyoka)',\n",
       " 'https://la.wikipedia.org/wiki/Python_(discretiva)',\n",
       " 'https://lb.wikipedia.org/wiki/Python',\n",
       " 'https://hu.wikipedia.org/wiki/Python_(egy%C3%A9rtelm%C5%B1s%C3%ADt%C5%91_lap)',\n",
       " 'https://mr.wikipedia.org/wiki/%E0%A4%AA%E0%A4%BE%E0%A4%AF%E0%A4%A5%E0%A5%89%E0%A4%A8_(%E0%A4%86%E0%A4%9C%E0%A5%8D%E0%A4%9E%E0%A4%BE%E0%A4%B5%E0%A4%B2%E0%A5%80_%E0%A4%AD%E0%A4%BE%E0%A4%B7%E0%A4%BE)',\n",
       " 'https://nl.wikipedia.org/wiki/Python',\n",
       " 'https://ja.wikipedia.org/wiki/%E3%83%91%E3%82%A4%E3%82%BD%E3%83%B3',\n",
       " 'https://no.wikipedia.org/wiki/Pyton',\n",
       " 'https://pl.wikipedia.org/wiki/Pyton',\n",
       " 'https://pt.wikipedia.org/wiki/Python_(desambigua%C3%A7%C3%A3o)',\n",
       " 'https://ru.wikipedia.org/wiki/Python_(%D0%B7%D0%BD%D0%B0%D1%87%D0%B5%D0%BD%D0%B8%D1%8F)',\n",
       " 'https://sk.wikipedia.org/wiki/Python',\n",
       " 'https://sr.wikipedia.org/wiki/%D0%9F%D0%B8%D1%82%D0%BE%D0%BD_(%D0%B2%D0%B8%D1%88%D0%B5%D0%B7%D0%BD%D0%B0%D1%87%D0%BD%D0%B0_%D0%BE%D0%B4%D1%80%D0%B5%D0%B4%D0%BD%D0%B8%D1%86%D0%B0)',\n",
       " 'https://sh.wikipedia.org/wiki/Python',\n",
       " 'https://fi.wikipedia.org/wiki/Python',\n",
       " 'https://sv.wikipedia.org/wiki/Pyton',\n",
       " 'https://th.wikipedia.org/wiki/%E0%B9%84%E0%B8%9E%E0%B8%97%E0%B8%AD%E0%B8%99',\n",
       " 'https://tr.wikipedia.org/wiki/Python_(anlam_ayr%C4%B1m%C4%B1)',\n",
       " 'https://uk.wikipedia.org/wiki/%D0%9F%D1%96%D1%84%D0%BE%D0%BD',\n",
       " 'https://ur.wikipedia.org/wiki/%D9%BE%D8%A7%D8%A6%DB%8C%D8%AA%DA%BE%D9%88%D9%86',\n",
       " 'https://vi.wikipedia.org/wiki/Python',\n",
       " 'https://zh.wikipedia.org/wiki/Python_(%E6%B6%88%E6%AD%A7%E4%B9%89)',\n",
       " '//en.wikipedia.org/wiki/Wikipedia:Text_of_Creative_Commons_Attribution-ShareAlike_3.0_Unported_License',\n",
       " 'https://foundation.wikimedia.org/wiki/Privacy_policy',\n",
       " '/wiki/Wikipedia:About',\n",
       " '/wiki/Wikipedia:General_disclaimer',\n",
       " '//en.wikipedia.org/wiki/Wikipedia:Contact_us',\n",
       " '//en.m.wikipedia.org/w/index.php?title=Python&mobileaction=toggle_view_mobile',\n",
       " 'https://www.mediawiki.org/wiki/Special:MyLanguage/How_to_contribute',\n",
       " 'https://stats.wikimedia.org/#/en.wikipedia.org',\n",
       " 'https://foundation.wikimedia.org/wiki/Cookie_statement',\n",
       " 'https://wikimediafoundation.org/',\n",
       " 'https://www.mediawiki.org/']"
      ]
     },
     "execution_count": 120,
     "metadata": {},
     "output_type": "execute_result"
    }
   ],
   "source": [
    "links = []\n",
    "\n",
    "for e in lis:\n",
    "    if e.a:\n",
    "        links.append(e.a['href'])\n",
    "\n",
    "links"
   ]
  },
  {
   "cell_type": "markdown",
   "metadata": {},
   "source": [
    "Nos damos cuenta de que los links obtenidos en la lista anterior (python_links) puede no ser exactamente lo que queremos.\n",
    "\n",
    "    - Hay links que llevan a páginas de Wikipedia que no están relacionadas con Python.\n",
    "    - Hay links \"repetidos\" en diferentes versiones (misma página en diferentes idiomas, por ejemplo).\n",
    "\n",
    "Podríamos quedarnos solo con aquellos en los que aparece 'Python' y en los que se trata de la parte específica de la url para ese site (https://en.wikipedia.org (url base) + parte específica).\n",
    "\n",
    "Una vez tengamos lo anterior, podemos añadirlo a la url base (https://en.wikipedia.org) y construir una lista con estos elementos.\n",
    "\n",
    "También nos damos cuenta de que en estos resultados filtrados, hay algunas urls que no nos interesan realmente. Estas urls son aquellas que contienen 'index' (se corresponden con links a páginas de wikipedia relacionadas con 'Python', pero que realmente no sirven para mostrar contenido, si no para otras funciones como editar el contenido, por ejemplo). También descartaremos estos links a la hora de construir nuestra lista definitiva."
   ]
  },
  {
   "cell_type": "code",
   "execution_count": 122,
   "metadata": {},
   "outputs": [
    {
     "data": {
      "text/plain": [
       "['https://en.wikipedia.org/wiki/Pythonidae',\n",
       " 'https://en.wikipedia.org/wiki/Python_(genus)',\n",
       " 'https://en.wikipedia.org/wiki/Python_(programming_language)',\n",
       " 'https://en.wikipedia.org/wiki/Python_of_Aenus',\n",
       " 'https://en.wikipedia.org/wiki/Python_(painter)',\n",
       " 'https://en.wikipedia.org/wiki/Python_of_Byzantium',\n",
       " 'https://en.wikipedia.org/wiki/Python_of_Catana',\n",
       " 'https://en.wikipedia.org/wiki/Python_Anghelo',\n",
       " 'https://en.wikipedia.org/wiki/Python_(Efteling)',\n",
       " 'https://en.wikipedia.org/wiki/Python_(Busch_Gardens_Tampa_Bay)',\n",
       " 'https://en.wikipedia.org/wiki/Python_(Coney_Island,_Cincinnati,_Ohio)',\n",
       " 'https://en.wikipedia.org/wiki/Python_(automobile_maker)',\n",
       " 'https://en.wikipedia.org/wiki/Python_(Ford_prototype)',\n",
       " 'https://en.wikipedia.org/wiki/Python_(missile)',\n",
       " 'https://en.wikipedia.org/wiki/Python_(nuclear_primary)',\n",
       " 'https://en.wikipedia.org/wiki/Colt_Python',\n",
       " 'https://en.wikipedia.org/wiki/Python_(film)',\n",
       " 'https://en.wikipedia.org/wiki/Python_(mythology)',\n",
       " 'https://en.wikipedia.org/wiki/Monty_Python',\n",
       " 'https://en.wikipedia.org/wiki/Python_(Monty)_Pictures',\n",
       " 'https://en.wikipedia.org/wiki/Python',\n",
       " 'https://en.wikipedia.org/wiki/Talk:Python',\n",
       " 'https://en.wikipedia.org/wiki/Python',\n",
       " 'https://en.wikipedia.org/wiki/Special:WhatLinksHere/Python',\n",
       " 'https://en.wikipedia.org/wiki/Special:RecentChangesLinked/Python']"
      ]
     },
     "execution_count": 122,
     "metadata": {},
     "output_type": "execute_result"
    }
   ],
   "source": [
    "python_links = []\n",
    "\n",
    "for e in links:\n",
    "    if 'Python' in e and 'http' not in e and 'index' not in e:     # Filtramos para quedarnos únicamente con los links que nos interesan (contenido sobre 'Python')\n",
    "        python_links.append('https://en.wikipedia.org'+e)\n",
    "\n",
    "python_links"
   ]
  },
  {
   "cell_type": "markdown",
   "metadata": {},
   "source": [
    "#### Challenge 5 - Number of Titles that have changed in the United States Code since its last release point "
   ]
  },
  {
   "cell_type": "code",
   "execution_count": 123,
   "metadata": {},
   "outputs": [],
   "source": [
    "# This is the url you will scrape in this exercise\n",
    "url = 'http://uscode.house.gov/download/download.shtml'"
   ]
  },
  {
   "cell_type": "code",
   "execution_count": 124,
   "metadata": {},
   "outputs": [],
   "source": [
    "html=req.get(url).content\n",
    "\n",
    "soup=bs(html, 'html.parser')"
   ]
  },
  {
   "cell_type": "code",
   "execution_count": 127,
   "metadata": {},
   "outputs": [
    {
     "data": {
      "text/plain": [
       "24"
      ]
     },
     "execution_count": 127,
     "metadata": {},
     "output_type": "execute_result"
    }
   ],
   "source": [
    "changed = soup.find_all('div', class_='usctitlechanged')    # Todos los Titles que han cambiado corresponden a la clase 'usctitlechanged'.\n",
    "\n",
    "len(changed)"
   ]
  },
  {
   "cell_type": "markdown",
   "metadata": {},
   "source": [
    "#### Challenge 6 - A Python list with the top ten FBI's Most Wanted names "
   ]
  },
  {
   "cell_type": "code",
   "execution_count": 128,
   "metadata": {},
   "outputs": [],
   "source": [
    "# This is the url you will scrape in this exercise\n",
    "url = 'https://www.fbi.gov/wanted/topten'"
   ]
  },
  {
   "cell_type": "code",
   "execution_count": 129,
   "metadata": {},
   "outputs": [],
   "source": [
    "html=req.get(url).content\n",
    "\n",
    "soup=bs(html, 'html.parser')"
   ]
  },
  {
   "cell_type": "code",
   "execution_count": 137,
   "metadata": {},
   "outputs": [
    {
     "data": {
      "text/plain": [
       "['YULAN ADONAY ARCHAGA CARIAS',\n",
       " 'EUGENE PALMER',\n",
       " 'BHADRESHKUMAR CHETANBHAI PATEL',\n",
       " 'ALEJANDRO ROSALES CASTILLO',\n",
       " 'ARNOLDO JIMENEZ',\n",
       " 'JASON DEREK BROWN',\n",
       " 'ALEXIS FLORES',\n",
       " 'JOSE RODOLFO VILLARREAL-HERNANDEZ',\n",
       " 'OCTAVIANO JUAREZ-CORRO',\n",
       " 'RAFAEL CARO-QUINTERO']"
      ]
     },
     "execution_count": 137,
     "metadata": {},
     "output_type": "execute_result"
    }
   ],
   "source": [
    "top10 = soup.find_all('h3', class_='title')\n",
    "\n",
    "top10_names = []\n",
    "\n",
    "for e in top10:\n",
    "    top10_names.append(e.text.strip('\\n'))\n",
    "top10_names"
   ]
  },
  {
   "cell_type": "markdown",
   "metadata": {},
   "source": [
    "#### Challenge 7 - List all language names and number of related articles in the order they appear in wikipedia.org"
   ]
  },
  {
   "cell_type": "code",
   "execution_count": 142,
   "metadata": {},
   "outputs": [],
   "source": [
    "# This is the url you will scrape in this exercise\n",
    "url = 'https://www.wikipedia.org/'"
   ]
  },
  {
   "cell_type": "code",
   "execution_count": 143,
   "metadata": {},
   "outputs": [],
   "source": [
    "html=req.get(url).content\n",
    "\n",
    "soup=bs(html, 'html.parser')"
   ]
  },
  {
   "cell_type": "code",
   "execution_count": 172,
   "metadata": {},
   "outputs": [
    {
     "data": {
      "text/plain": [
       "[<a class=\"link-box\" data-slogan=\"The Free Encyclopedia\" href=\"//en.wikipedia.org/\" id=\"js-link-box-en\" title=\"English — Wikipedia — The Free Encyclopedia\">\n",
       " <strong>English</strong>\n",
       " <small><bdi dir=\"ltr\">6 383 000+</bdi> <span>articles</span></small>\n",
       " </a>,\n",
       " <a class=\"link-box\" data-slogan=\"フリー百科事典\" href=\"//ja.wikipedia.org/\" id=\"js-link-box-ja\" title=\"Nihongo — ウィキペディア — フリー百科事典\">\n",
       " <strong>日本語</strong>\n",
       " <small><bdi dir=\"ltr\">1 292 000+</bdi> <span>記事</span></small>\n",
       " </a>,\n",
       " <a class=\"link-box\" data-slogan=\"Свободная энциклопедия\" href=\"//ru.wikipedia.org/\" id=\"js-link-box-ru\" title=\"Russkiy — Википедия — Свободная энциклопедия\">\n",
       " <strong>Русский</strong>\n",
       " <small><bdi dir=\"ltr\">1 756 000+</bdi> <span>статей</span></small>\n",
       " </a>,\n",
       " <a class=\"link-box\" data-slogan=\"Die freie Enzyklopädie\" href=\"//de.wikipedia.org/\" id=\"js-link-box-de\" title=\"Deutsch — Wikipedia — Die freie Enzyklopädie\">\n",
       " <strong>Deutsch</strong>\n",
       " <small><bdi dir=\"ltr\">2 617 000+</bdi> <span>Artikel</span></small>\n",
       " </a>,\n",
       " <a class=\"link-box\" data-slogan=\"La enciclopedia libre\" href=\"//es.wikipedia.org/\" id=\"js-link-box-es\" title=\"Español — Wikipedia — La enciclopedia libre\">\n",
       " <strong>Español</strong>\n",
       " <small><bdi dir=\"ltr\">1 717 000+</bdi> <span>artículos</span></small>\n",
       " </a>,\n",
       " <a class=\"link-box\" data-slogan=\"L’encyclopédie libre\" href=\"//fr.wikipedia.org/\" id=\"js-link-box-fr\" title=\"Français — Wikipédia — L’encyclopédie libre\">\n",
       " <strong>Français</strong>\n",
       " <small><bdi dir=\"ltr\">2 362 000+</bdi> <span>articles</span></small>\n",
       " </a>,\n",
       " <a class=\"link-box\" data-slogan=\"L'enciclopedia libera\" href=\"//it.wikipedia.org/\" id=\"js-link-box-it\" title=\"Italiano — Wikipedia — L'enciclopedia libera\">\n",
       " <strong>Italiano</strong>\n",
       " <small><bdi dir=\"ltr\">1 718 000+</bdi> <span>voci</span></small>\n",
       " </a>,\n",
       " <a class=\"link-box\" data-converttitle-hans=\"Zhōngwén — 维基百科 — 自由的百科全书\" data-slogan=\"自由的百科全書\" href=\"//zh.wikipedia.org/\" id=\"js-link-box-zh\" title=\"Zhōngwén — 維基百科 — 自由的百科全書\">\n",
       " <strong>中文</strong>\n",
       " <small><bdi dir=\"ltr\">1 231 000+</bdi> <span data-convert-hans=\"条目\" id=\"zh_art\">條目</span></small>\n",
       " </a>,\n",
       " <a class=\"link-box\" data-slogan=\"Wolna encyklopedia\" href=\"//pl.wikipedia.org/\" id=\"js-link-box-pl\" title=\"Polski — Wikipedia — Wolna encyklopedia\">\n",
       " <strong>Polski</strong>\n",
       " <small><bdi dir=\"ltr\">1 490 000+</bdi> <span>haseł</span></small>\n",
       " </a>,\n",
       " <a class=\"link-box\" data-slogan=\"A enciclopédia livre\" href=\"//pt.wikipedia.org/\" id=\"js-link-box-pt\" title=\"Português — Wikipédia — A enciclopédia livre\">\n",
       " <strong>Português</strong>\n",
       " <small><bdi dir=\"ltr\">1 074 000+</bdi> <span>artigos</span></small>\n",
       " </a>,\n",
       " <a href=\"//pl.wikipedia.org/\" lang=\"pl\">Polski</a>,\n",
       " <a href=\"//ar.wikipedia.org/\" lang=\"ar\" title=\"Al-ʿArabīyah\"><bdi dir=\"rtl\">العربية</bdi></a>,\n",
       " <a href=\"//de.wikipedia.org/\" lang=\"de\">Deutsch</a>,\n",
       " <a href=\"//en.wikipedia.org/\" lang=\"en\" title=\"English\">English</a>,\n",
       " <a href=\"//es.wikipedia.org/\" lang=\"es\">Español</a>,\n",
       " <a href=\"//fr.wikipedia.org/\" lang=\"fr\">Français</a>,\n",
       " <a href=\"//it.wikipedia.org/\" lang=\"it\">Italiano</a>,\n",
       " <a href=\"//arz.wikipedia.org/\" lang=\"arz\" title=\"Maṣrī\"><bdi dir=\"rtl\">مصرى</bdi></a>,\n",
       " <a href=\"//nl.wikipedia.org/\" lang=\"nl\">Nederlands</a>,\n",
       " <a href=\"//ja.wikipedia.org/\" lang=\"ja\" title=\"Nihongo\">日本語</a>,\n",
       " <a href=\"//pt.wikipedia.org/\" lang=\"pt\">Português</a>,\n",
       " <a href=\"//ru.wikipedia.org/\" lang=\"ru\" title=\"Russkiy\">Русский</a>,\n",
       " <a href=\"//ceb.wikipedia.org/\" lang=\"ceb\">Sinugboanong Binisaya</a>,\n",
       " <a href=\"//sv.wikipedia.org/\" lang=\"sv\">Svenska</a>,\n",
       " <a href=\"//uk.wikipedia.org/\" lang=\"uk\" title=\"Ukrayins’ka\">Українська</a>,\n",
       " <a href=\"//vi.wikipedia.org/\" lang=\"vi\">Tiếng Việt</a>,\n",
       " <a href=\"//war.wikipedia.org/\" lang=\"war\">Winaray</a>,\n",
       " <a href=\"//zh.wikipedia.org/\" lang=\"zh\" title=\"Zhōngwén\">中文</a>,\n",
       " <a href=\"//af.wikipedia.org/\" lang=\"af\">Afrikaans</a>,\n",
       " <a href=\"//sk.wikipedia.org/\" lang=\"sk\" title=\"Angličtina\">Slovenčina</a>,\n",
       " <a href=\"//ast.wikipedia.org/\" lang=\"ast\">Asturianu</a>,\n",
       " <a href=\"//az.wikipedia.org/\" lang=\"az\">Azərbaycanca</a>,\n",
       " <a href=\"//bg.wikipedia.org/\" lang=\"bg\" title=\"Bǎlgarski\">Български</a>,\n",
       " <a href=\"//zh-min-nan.wikipedia.org/\" lang=\"nan\">Bân-lâm-gú / Hō-ló-oē</a>,\n",
       " <a href=\"//bn.wikipedia.org/\" lang=\"bn\" title=\"Bangla\">বাংলা</a>,\n",
       " <a href=\"//be.wikipedia.org/\" lang=\"be\" title=\"Belaruskaya\">Беларуская</a>,\n",
       " <a href=\"//ca.wikipedia.org/\" lang=\"ca\">Català</a>,\n",
       " <a href=\"//cs.wikipedia.org/\" lang=\"cs\" title=\"čeština\">Čeština</a>,\n",
       " <a href=\"//cy.wikipedia.org/\" lang=\"cy\" title=\"Cymraeg\">Cymraeg</a>,\n",
       " <a href=\"//da.wikipedia.org/\" lang=\"da\">Dansk</a>,\n",
       " <a href=\"//et.wikipedia.org/\" lang=\"et\">Eesti</a>,\n",
       " <a href=\"//el.wikipedia.org/\" lang=\"el\" title=\"Ellīniká\">Ελληνικά</a>,\n",
       " <a href=\"//eo.wikipedia.org/\" lang=\"eo\">Esperanto</a>,\n",
       " <a href=\"//eu.wikipedia.org/\" lang=\"eu\">Euskara</a>,\n",
       " <a href=\"//fa.wikipedia.org/\" lang=\"fa\" title=\"Fārsi\"><bdi dir=\"rtl\">فارسی</bdi></a>,\n",
       " <a href=\"//gl.wikipedia.org/\" lang=\"gl\">Galego</a>,\n",
       " <a href=\"//ko.wikipedia.org/\" lang=\"ko\" title=\"Hangugeo\">한국어</a>,\n",
       " <a href=\"//hy.wikipedia.org/\" lang=\"hy\" title=\"Hayeren\">Հայերեն</a>,\n",
       " <a href=\"//hi.wikipedia.org/\" lang=\"hi\" title=\"Hindī\">हिन्दी</a>,\n",
       " <a href=\"//hr.wikipedia.org/\" lang=\"hr\">Hrvatski</a>,\n",
       " <a href=\"//id.wikipedia.org/\" lang=\"id\">Bahasa Indonesia</a>,\n",
       " <a href=\"//he.wikipedia.org/\" lang=\"he\" title=\"Ivrit\"><bdi dir=\"rtl\">עברית</bdi></a>,\n",
       " <a href=\"//ka.wikipedia.org/\" lang=\"ka\" title=\"Kartuli\">ქართული</a>,\n",
       " <a href=\"//la.wikipedia.org/\" lang=\"la\">Latina</a>,\n",
       " <a href=\"//lv.wikipedia.org/\" lang=\"lv\">Latviešu</a>,\n",
       " <a href=\"//lt.wikipedia.org/\" lang=\"lt\">Lietuvių</a>,\n",
       " <a href=\"//hu.wikipedia.org/\" lang=\"hu\">Magyar</a>,\n",
       " <a href=\"//mk.wikipedia.org/\" lang=\"mk\" title=\"Makedonski\">Македонски</a>,\n",
       " <a href=\"//ms.wikipedia.org/\" lang=\"ms\">Bahasa Melayu</a>,\n",
       " <a href=\"//min.wikipedia.org/\" lang=\"min\">Bahaso Minangkabau</a>,\n",
       " <a href=\"//no.wikipedia.org/\" lang=\"nb\">bokmål</a>,\n",
       " <a href=\"//nn.wikipedia.org/\" lang=\"nn\">nynorsk</a>,\n",
       " <a href=\"//ce.wikipedia.org/\" lang=\"ce\" title=\"Noxçiyn\">Нохчийн</a>,\n",
       " <a href=\"//uz.wikipedia.org/\" lang=\"uz\">Oʻzbekcha / Ўзбекча</a>,\n",
       " <a href=\"//kk.wikipedia.org/\" lang=\"kk\"><span lang=\"kk-Cyrl\">Қазақша</span> / <span lang=\"kk-Latn\">Qazaqşa</span> / <bdi dir=\"rtl\" lang=\"kk-Arab\">قازاقشا</bdi></a>,\n",
       " <a href=\"//ro.wikipedia.org/\" lang=\"ro\" title=\"Română\">Română</a>,\n",
       " <a href=\"//simple.wikipedia.org/\" lang=\"en\">Simple English</a>,\n",
       " <a href=\"//sl.wikipedia.org/\" lang=\"sl\">Slovenščina</a>,\n",
       " <a href=\"//sr.wikipedia.org/\" lang=\"sr\">Српски / Srpski</a>,\n",
       " <a href=\"//sh.wikipedia.org/\" lang=\"sh\">Srpskohrvatski / Српскохрватски</a>,\n",
       " <a href=\"//fi.wikipedia.org/\" lang=\"fi\" title=\"suomi\">Suomi</a>,\n",
       " <a href=\"//ta.wikipedia.org/\" lang=\"ta\" title=\"Tamiḻ\">தமிழ்</a>,\n",
       " <a href=\"//tt.wikipedia.org/\" lang=\"tt\">Татарча / Tatarça</a>,\n",
       " <a href=\"//th.wikipedia.org/\" lang=\"th\" title=\"Phasa Thai\">ภาษาไทย</a>,\n",
       " <a href=\"//tg.wikipedia.org/\" lang=\"tg\" title=\"Tojikī\">Тоҷикӣ</a>,\n",
       " <a href=\"//azb.wikipedia.org/\" lang=\"azb\" title=\"Türkce\"><bdi dir=\"rtl\">تۆرکجه</bdi></a>,\n",
       " <a href=\"//tr.wikipedia.org/\" lang=\"tr\" title=\"Türkçe\">Türkçe</a>,\n",
       " <a href=\"//ur.wikipedia.org/\" lang=\"ur\" title=\"Urdu\"><bdi dir=\"rtl\">اردو</bdi></a>,\n",
       " <a href=\"//vo.wikipedia.org/\" lang=\"vo\">Volapük</a>,\n",
       " <a data-convert-hans=\"粤语\" href=\"//zh-yue.wikipedia.org/\" id=\"zh-yue_wiki\" lang=\"yue\" title=\"Yuht Yúh / Jyut6 jyu5\">粵語</a>,\n",
       " <a href=\"//my.wikipedia.org/\" lang=\"my\" title=\"Myanmarsar\">မြန်မာဘာသာ</a>,\n",
       " <a href=\"//ace.wikipedia.org/\" lang=\"ace\">Bahsa Acèh</a>,\n",
       " <a href=\"//als.wikipedia.org/\" lang=\"gsw\">Alemannisch</a>,\n",
       " <a href=\"//am.wikipedia.org/\" lang=\"am\" title=\"Āmariññā\">አማርኛ</a>,\n",
       " <a href=\"//an.wikipedia.org/\" lang=\"an\">Aragonés</a>,\n",
       " <a href=\"//map-bms.wikipedia.org/\" lang=\"map-x-bms\">Basa Banyumasan</a>,\n",
       " <a href=\"//ba.wikipedia.org/\" lang=\"ba\" title=\"Başqortsa\">Башҡортса</a>,\n",
       " <a href=\"//be-tarask.wikipedia.org/\" lang=\"be\" title=\"Belaruskaya (Taraškievica)\">Беларуская (Тарашкевіца)</a>,\n",
       " <a href=\"//bcl.wikipedia.org/\" lang=\"bcl\">Bikol Central</a>,\n",
       " <a href=\"//bpy.wikipedia.org/\" lang=\"bpy\" title=\"Bishnupriya Manipuri\">বিষ্ণুপ্রিয়া মণিপুরী</a>,\n",
       " <a href=\"//bar.wikipedia.org/\" lang=\"bar\">Boarisch</a>,\n",
       " <a href=\"//bs.wikipedia.org/\" lang=\"bs\">Bosanski</a>,\n",
       " <a href=\"//br.wikipedia.org/\" lang=\"br\">Brezhoneg</a>,\n",
       " <a href=\"//cv.wikipedia.org/\" lang=\"cv\" title=\"Čăvašla\">Чӑвашла</a>,\n",
       " <a href=\"//nv.wikipedia.org/\" lang=\"nv\">Diné Bizaad</a>,\n",
       " <a href=\"//eml.wikipedia.org/\" lang=\"roa-x-eml\">Emigliàn–Rumagnòl</a>,\n",
       " <a href=\"//fo.wikipedia.org/\" lang=\"fo\">Føroyskt</a>,\n",
       " <a href=\"//fy.wikipedia.org/\" lang=\"fy\">Frysk</a>,\n",
       " <a href=\"//ga.wikipedia.org/\" lang=\"ga\">Gaeilge</a>,\n",
       " <a href=\"//gd.wikipedia.org/\" lang=\"gd\">Gàidhlig</a>,\n",
       " <a href=\"//gu.wikipedia.org/\" lang=\"gu\" title=\"Gujarati\">ગુજરાતી</a>,\n",
       " <a href=\"//ha.wikipedia.org/\" lang=\"ha\" title=\"Hausa\">Hausa</a>,\n",
       " <a href=\"//hsb.wikipedia.org/\" lang=\"hsb\">Hornjoserbsce</a>,\n",
       " <a href=\"//io.wikipedia.org/\" lang=\"io\" title=\"Ido\">Ido</a>,\n",
       " <a href=\"//ilo.wikipedia.org/\" lang=\"ilo\">Ilokano</a>,\n",
       " <a href=\"//ia.wikipedia.org/\" lang=\"ia\">Interlingua</a>,\n",
       " <a href=\"//os.wikipedia.org/\" lang=\"os\" title=\"Iron Ævzag\">Ирон æвзаг</a>,\n",
       " <a href=\"//is.wikipedia.org/\" lang=\"is\">Íslenska</a>,\n",
       " <a href=\"//jv.wikipedia.org/\" lang=\"jv\" title=\"Jawa\">Jawa</a>,\n",
       " <a href=\"//kn.wikipedia.org/\" lang=\"kn\" title=\"Kannada\">ಕನ್ನಡ</a>,\n",
       " <a href=\"//ht.wikipedia.org/\" lang=\"ht\">Kreyòl Ayisyen</a>,\n",
       " <a href=\"//ku.wikipedia.org/\" lang=\"ku\"><span lang=\"ku-Latn\">Kurdî</span> / <bdi dir=\"rtl\" lang=\"ku-Arab\">كوردی</bdi></a>,\n",
       " <a href=\"//ckb.wikipedia.org/\" lang=\"ckb\" title=\"Kurdîy Nawendî\"><bdi dir=\"rtl\">کوردیی ناوەندی</bdi></a>,\n",
       " <a href=\"//ky.wikipedia.org/\" lang=\"ky\" title=\"Kyrgyzča\">Кыргызча</a>,\n",
       " <a href=\"//mrj.wikipedia.org/\" lang=\"mjr\" title=\"Kyryk Mary\">Кырык Мары</a>,\n",
       " <a href=\"//lb.wikipedia.org/\" lang=\"lb\">Lëtzebuergesch</a>,\n",
       " <a href=\"//li.wikipedia.org/\" lang=\"li\">Limburgs</a>,\n",
       " <a href=\"//lmo.wikipedia.org/\" lang=\"lmo\">Lombard</a>,\n",
       " <a href=\"//lij.wikipedia.org/\" lang=\"lij\">Lìgure</a>,\n",
       " <a href=\"//mai.wikipedia.org/\" lang=\"mai\" title=\"Maithilī\">मैथिली</a>,\n",
       " <a href=\"//mg.wikipedia.org/\" lang=\"mg\">Malagasy</a>,\n",
       " <a href=\"//ml.wikipedia.org/\" lang=\"ml\" title=\"Malayalam\">മലയാളം</a>,\n",
       " <a href=\"//zh-classical.wikipedia.org/\" lang=\"lzh\" title=\"Man4jin4 / Wényán\">文言</a>,\n",
       " <a href=\"//mr.wikipedia.org/\" lang=\"mr\" title=\"Marathi\">मराठी</a>,\n",
       " <a href=\"//xmf.wikipedia.org/\" lang=\"xmf\" title=\"Margaluri\">მარგალური</a>,\n",
       " <a href=\"//mzn.wikipedia.org/\" lang=\"mzn\" title=\"Mäzeruni\"><bdi dir=\"rtl\">مازِرونی</bdi></a>,\n",
       " <a href=\"//cdo.wikipedia.org/\" lang=\"cdo\" title=\"Ming-deng-ngu\">Mìng-dĕ̤ng-ngṳ̄ / 閩東語</a>,\n",
       " <a href=\"//mn.wikipedia.org/\" lang=\"mn\" title=\"Mongol\">Монгол</a>,\n",
       " <a href=\"//new.wikipedia.org/\" lang=\"new\" title=\"Nepal Bhasa\">नेपाल भाषा</a>,\n",
       " <a href=\"//ne.wikipedia.org/\" lang=\"ne\" title=\"Nepālī\">नेपाली</a>,\n",
       " <a href=\"//nap.wikipedia.org/\" lang=\"nap\">Nnapulitano</a>,\n",
       " <a href=\"//frr.wikipedia.org/\" lang=\"frr\">Nordfriisk</a>,\n",
       " <a href=\"//oc.wikipedia.org/\" lang=\"oc\">Occitan</a>,\n",
       " <a href=\"//mhr.wikipedia.org/\" lang=\"mhr\" title=\"Olyk Marij\">Марий</a>,\n",
       " <a href=\"//or.wikipedia.org/\" lang=\"or\" title=\"Oṛiā\">ଓଡି଼ଆ</a>,\n",
       " <a href=\"//pa.wikipedia.org/\" lang=\"pa\" title=\"Pañjābī (Gurmukhī)\">ਪੰਜਾਬੀ (ਗੁਰਮੁਖੀ)</a>,\n",
       " <a href=\"//pnb.wikipedia.org/\" lang=\"pnb\" title=\"Pañjābī (Shāhmukhī)\"><bdi dir=\"rtl\">پنجابی (شاہ مکھی)</bdi></a>,\n",
       " <a href=\"//ps.wikipedia.org/\" lang=\"ps\" title=\"Paʂto\"><bdi dir=\"rtl\">پښتو</bdi></a>,\n",
       " <a href=\"//pms.wikipedia.org/\" lang=\"pms\">Piemontèis</a>,\n",
       " <a href=\"//nds.wikipedia.org/\" lang=\"nds\">Plattdüütsch</a>,\n",
       " <a href=\"//crh.wikipedia.org/\" lang=\"crh\">Qırımtatarca</a>,\n",
       " <a href=\"//qu.wikipedia.org/\" lang=\"qu\">Runa Simi</a>,\n",
       " <a href=\"//sa.wikipedia.org/\" lang=\"sa\" title=\"Saṃskṛtam\">संस्कृतम्</a>,\n",
       " <a href=\"//sah.wikipedia.org/\" lang=\"sah\" title=\"Saxa Tyla\">Саха Тыла</a>,\n",
       " <a href=\"//sco.wikipedia.org/\" lang=\"sco\">Scots</a>,\n",
       " <a href=\"//sq.wikipedia.org/\" lang=\"sq\">Shqip</a>,\n",
       " <a href=\"//scn.wikipedia.org/\" lang=\"scn\">Sicilianu</a>,\n",
       " <a href=\"//si.wikipedia.org/\" lang=\"si\" title=\"Siṃhala\">සිංහල</a>,\n",
       " <a href=\"//sd.wikipedia.org/\" lang=\"sd\" title=\"Sindhī\"><bdi dir=\"rtl\">سنڌي</bdi></a>,\n",
       " <a href=\"//szl.wikipedia.org/\" lang=\"szl\">Ślůnski</a>,\n",
       " <a href=\"//su.wikipedia.org/\" lang=\"su\">Basa Sunda</a>,\n",
       " <a href=\"//sw.wikipedia.org/\" lang=\"sw\">Kiswahili</a>,\n",
       " <a href=\"//tl.wikipedia.org/\" lang=\"tl\">Tagalog</a>,\n",
       " <a href=\"//te.wikipedia.org/\" lang=\"te\" title=\"Telugu\">తెలుగు</a>,\n",
       " <a href=\"//bug.wikipedia.org/\" lang=\"bug\">ᨅᨔ ᨕᨙᨁᨗ / Basa Ugi</a>,\n",
       " <a href=\"//vec.wikipedia.org/\" lang=\"vec\">Vèneto</a>,\n",
       " <a href=\"//wa.wikipedia.org/\" lang=\"wa\">Walon</a>,\n",
       " <a data-convert-hans=\"吴语\" href=\"//wuu.wikipedia.org/\" id=\"wuu_wiki\" lang=\"wuu\" title=\"Wú Yǔ\">吳語</a>,\n",
       " <a href=\"//yi.wikipedia.org/\" lang=\"yi\" title=\"Yidiš\"><bdi dir=\"rtl\">ייִדיש</bdi></a>,\n",
       " <a href=\"//yo.wikipedia.org/\" lang=\"yo\">Yorùbá</a>,\n",
       " <a href=\"//diq.wikipedia.org/\" lang=\"diq\" title=\"Zazaki\">Zazaki</a>,\n",
       " <a href=\"//bat-smg.wikipedia.org/\" lang=\"sgs\">Žemaitėška</a>,\n",
       " <a href=\"//zu.wikipedia.org/\" lang=\"zu\">isiZulu</a>,\n",
       " <a href=\"//kbd.wikipedia.org/\" lang=\"kbd\" title=\"Adighabze\">Адыгэбзэ</a>,\n",
       " <a href=\"//ang.wikipedia.org/\" lang=\"ang\">Ænglisc</a>,\n",
       " <a href=\"//ak.wikipedia.org/\" lang=\"ak\">Akan</a>,\n",
       " <a href=\"//ab.wikipedia.org/\" lang=\"ab\" title=\"aṗsshwa\">аԥсшәа</a>,\n",
       " <a href=\"//hyw.wikipedia.org/\" lang=\"hyw\" title=\"Arevmdahayeren\">Արեւմտահայերէն</a>,\n",
       " <a href=\"//roa-rup.wikipedia.org/\" lang=\"roa-rup\">Armãneashce</a>,\n",
       " <a href=\"//frp.wikipedia.org/\" lang=\"frp\">Arpitan</a>,\n",
       " <a href=\"//arc.wikipedia.org/\" lang=\"arc\" title=\"Ātûrāyâ\"><bdi dir=\"rtl\">ܐܬܘܪܝܐ</bdi></a>,\n",
       " <a href=\"//gn.wikipedia.org/\" lang=\"gn\">Avañe’ẽ</a>,\n",
       " <a href=\"//av.wikipedia.org/\" lang=\"av\" title=\"Avar\">Авар</a>,\n",
       " <a href=\"//ay.wikipedia.org/\" lang=\"ay\">Aymar</a>,\n",
       " <a href=\"//ban.wikipedia.org/\" lang=\"ban\" title=\"Basa Bali\">Basa Bali</a>,\n",
       " <a href=\"//bjn.wikipedia.org/\" lang=\"bjn\">Bahasa Banjar</a>,\n",
       " <a href=\"//bh.wikipedia.org/\" lang=\"bh\" title=\"Bhōjapurī\">भोजपुरी</a>,\n",
       " <a href=\"//bi.wikipedia.org/\" lang=\"bi\">Bislama</a>,\n",
       " <a href=\"//bo.wikipedia.org/\" lang=\"bo\" title=\"Bod Skad\">བོད་ཡིག</a>,\n",
       " <a href=\"//bxr.wikipedia.org/\" lang=\"bxr\" title=\"Buryad\">Буряад</a>,\n",
       " <a href=\"//cbk-zam.wikipedia.org/\" lang=\"cbk-x-zam\">Chavacano de Zamboanga</a>,\n",
       " <a href=\"//co.wikipedia.org/\" lang=\"co\">Corsu</a>,\n",
       " <a href=\"//za.wikipedia.org/\" lang=\"za\">Vahcuengh / 話僮</a>,\n",
       " <a href=\"//se.wikipedia.org/\" lang=\"se\">Davvisámegiella</a>,\n",
       " <a href=\"//pdc.wikipedia.org/\" lang=\"pdc\">Deitsch</a>,\n",
       " <a href=\"//dv.wikipedia.org/\" lang=\"dv\" title=\"Divehi\"><bdi dir=\"rtl\">ދިވެހިބަސް</bdi></a>,\n",
       " <a href=\"//dsb.wikipedia.org/\" lang=\"dsb\">Dolnoserbski</a>,\n",
       " <a href=\"//myv.wikipedia.org/\" lang=\"myv\" title=\"Erzjanj\">Эрзянь</a>,\n",
       " <a href=\"//ext.wikipedia.org/\" lang=\"ext\">Estremeñu</a>,\n",
       " <a href=\"//hif.wikipedia.org/\" lang=\"hif\">Fiji Hindi</a>,\n",
       " <a href=\"//fur.wikipedia.org/\" lang=\"fur\">Furlan</a>,\n",
       " <a href=\"//gv.wikipedia.org/\" lang=\"gv\">Gaelg</a>,\n",
       " <a href=\"//gag.wikipedia.org/\" lang=\"gag\">Gagauz</a>,\n",
       " <a href=\"//ki.wikipedia.org/\" lang=\"ki\">Gĩkũyũ</a>,\n",
       " <a href=\"//glk.wikipedia.org/\" lang=\"glk\" title=\"Giləki\"><bdi dir=\"rtl\">گیلکی</bdi></a>,\n",
       " <a data-convert-hans=\"赣语\" href=\"//gan.wikipedia.org/\" id=\"gan_wiki\" lang=\"gan\" title=\"Gon ua\">贛語</a>,\n",
       " <a href=\"//hak.wikipedia.org/\" lang=\"hak\">Hak-kâ-ngî / 客家語</a>,\n",
       " <a href=\"//xal.wikipedia.org/\" lang=\"xal\" title=\"Halʹmg\">Хальмг</a>,\n",
       " <a href=\"//haw.wikipedia.org/\" lang=\"haw\">ʻŌlelo Hawaiʻi</a>,\n",
       " <a href=\"//ig.wikipedia.org/\" lang=\"ig\">Igbo</a>,\n",
       " <a href=\"//ie.wikipedia.org/\" lang=\"ie\">Interlingue</a>,\n",
       " <a href=\"//kbp.wikipedia.org/\" lang=\"kbp\">Kabɩyɛ</a>,\n",
       " <a href=\"//pam.wikipedia.org/\" lang=\"pam\">Kapampangan</a>,\n",
       " <a href=\"//csb.wikipedia.org/\" lang=\"csb\">Kaszëbsczi</a>,\n",
       " <a href=\"//kw.wikipedia.org/\" lang=\"kw\">Kernewek</a>,\n",
       " <a href=\"//km.wikipedia.org/\" lang=\"km\" title=\"Phéasa Khmér\">ភាសាខ្មែរ</a>,\n",
       " <a href=\"//rw.wikipedia.org/\" lang=\"rw\">Kinyarwanda</a>,\n",
       " <a href=\"//kv.wikipedia.org/\" lang=\"kv\" title=\"Komi\">Коми</a>,\n",
       " <a href=\"//kg.wikipedia.org/\" lang=\"kg\">Kongo</a>,\n",
       " <a href=\"//gom.wikipedia.org/\" lang=\"gom\">कोंकणी / Konknni</a>,\n",
       " <a href=\"//gcr.wikipedia.org/\" lang=\"gcr\" title=\"Kriyòl Gwiyannen\">Kriyòl Gwiyannen</a>,\n",
       " <a href=\"//lo.wikipedia.org/\" lang=\"lo\" title=\"Phaasaa Laao\">ພາສາລາວ</a>,\n",
       " <a href=\"//lad.wikipedia.org/\" lang=\"lad\" title=\"Ladino\"><span lang=\"lad-Latn\">Dzhudezmo</span> / <bdi dir=\"rtl\" lang=\"lad-Hebr\">לאדינו</bdi></a>,\n",
       " <a href=\"//lbe.wikipedia.org/\" lang=\"lbe\" title=\"Lakːu\">Лакку</a>,\n",
       " <a href=\"//ltg.wikipedia.org/\" lang=\"ltg\">Latgaļu</a>,\n",
       " <a href=\"//lez.wikipedia.org/\" lang=\"lez\" title=\"Lezgi\">Лезги</a>,\n",
       " <a href=\"//ln.wikipedia.org/\" lang=\"ln\">Lingála</a>,\n",
       " <a href=\"//jbo.wikipedia.org/\" lang=\"jbo\">lojban</a>,\n",
       " <a href=\"//lg.wikipedia.org/\" lang=\"lg\">Luganda</a>,\n",
       " <a href=\"//mt.wikipedia.org/\" lang=\"mt\">Malti</a>,\n",
       " <a href=\"//ty.wikipedia.org/\" lang=\"ty\">Reo Mā’ohi</a>,\n",
       " <a href=\"//mi.wikipedia.org/\" lang=\"mi\">Māori</a>,\n",
       " <a href=\"//mwl.wikipedia.org/\" lang=\"mwl\">Mirandés</a>,\n",
       " <a href=\"//mdf.wikipedia.org/\" lang=\"mdf\" title=\"Mokšenj\">Мокшень</a>,\n",
       " <a href=\"//nqo.wikipedia.org/\" lang=\"nqo\" title=\"N'Ko\">ߒߞߏ</a>,\n",
       " <a href=\"//fj.wikipedia.org/\" lang=\"fj\">Na Vosa Vaka-Viti</a>,\n",
       " <a href=\"//nah.wikipedia.org/\" lang=\"nah\">Nāhuatlahtōlli</a>,\n",
       " <a href=\"//na.wikipedia.org/\" lang=\"na\">Dorerin Naoero</a>,\n",
       " <a href=\"//nds-nl.wikipedia.org/\" lang=\"nds-nl\">Nedersaksisch</a>,\n",
       " <a href=\"//nrm.wikipedia.org/\" lang=\"roa-x-nrm\">Nouormand / Normaund</a>,\n",
       " <a href=\"//nov.wikipedia.org/\" lang=\"nov\">Novial</a>,\n",
       " <a href=\"//om.wikipedia.org/\" lang=\"om\" title=\"Ingiliffaa\">Afaan Oromoo</a>,\n",
       " <a href=\"//as.wikipedia.org/\" lang=\"as\" title=\"Ôxômiya\">অসমীযা়</a>,\n",
       " <a href=\"//pi.wikipedia.org/\" lang=\"pi\" title=\"Pāḷi\">पालि</a>,\n",
       " <a href=\"//pag.wikipedia.org/\" lang=\"pag\">Pangasinán</a>,\n",
       " <a href=\"//pap.wikipedia.org/\" lang=\"pap\">Papiamentu</a>,\n",
       " <a href=\"//koi.wikipedia.org/\" lang=\"koi\" title=\"Perem Komi\">Перем Коми</a>,\n",
       " <a href=\"//pfl.wikipedia.org/\" lang=\"pfl\">Pfälzisch</a>,\n",
       " <a href=\"//pcd.wikipedia.org/\" lang=\"pcd\">Picard</a>,\n",
       " <a href=\"//krc.wikipedia.org/\" lang=\"krc\" title=\"Qaraçay–Malqar\">Къарачай–Малкъар</a>,\n",
       " <a href=\"//kaa.wikipedia.org/\" lang=\"kaa\">Qaraqalpaqsha</a>,\n",
       " <a href=\"//ksh.wikipedia.org/\" lang=\"ksh\">Ripoarisch</a>,\n",
       " <a href=\"//rm.wikipedia.org/\" lang=\"rm\">Rumantsch</a>,\n",
       " <a href=\"//rue.wikipedia.org/\" lang=\"rue\" title=\"Rusin’skyj Yazyk\">Русиньскый Язык</a>,\n",
       " <a href=\"//sm.wikipedia.org/\" lang=\"sm\">Gagana Sāmoa</a>,\n",
       " <a href=\"//sc.wikipedia.org/\" lang=\"sc\">Sardu</a>,\n",
       " <a href=\"//stq.wikipedia.org/\" lang=\"stq\">Seeltersk</a>,\n",
       " <a href=\"//nso.wikipedia.org/\" lang=\"nso\">Sesotho sa Leboa</a>,\n",
       " <a href=\"//sn.wikipedia.org/\" lang=\"sn\">ChiShona</a>,\n",
       " <a href=\"//so.wikipedia.org/\" lang=\"so\">Soomaaliga</a>,\n",
       " <a href=\"//srn.wikipedia.org/\" lang=\"srn\">Sranantongo</a>,\n",
       " <a href=\"//kab.wikipedia.org/\" lang=\"kab\" title=\"Taqbaylit\">Taqbaylit</a>,\n",
       " <a href=\"//roa-tara.wikipedia.org/\" lang=\"roa\">Tarandíne</a>,\n",
       " <a href=\"//tet.wikipedia.org/\" lang=\"tet\">Tetun</a>,\n",
       " <a href=\"//tpi.wikipedia.org/\" lang=\"tpi\">Tok Pisin</a>,\n",
       " <a href=\"//to.wikipedia.org/\" lang=\"to\">faka Tonga</a>,\n",
       " <a href=\"//tk.wikipedia.org/\" lang=\"tk\">Türkmençe</a>,\n",
       " <a href=\"//tyv.wikipedia.org/\" lang=\"tyv\" title=\"Tyva dyl\">Тыва дыл</a>,\n",
       " <a href=\"//udm.wikipedia.org/\" lang=\"udm\" title=\"Udmurt\">Удмурт</a>,\n",
       " <a href=\"//ug.wikipedia.org/\" lang=\"ug\"><bdi dir=\"rtl\">ئۇيغۇرچه</bdi></a>,\n",
       " <a href=\"//vep.wikipedia.org/\" lang=\"vep\">Vepsän</a>,\n",
       " <a href=\"//fiu-vro.wikipedia.org/\" lang=\"fiu-vro\">Võro</a>,\n",
       " <a href=\"//vls.wikipedia.org/\" lang=\"vls\">West-Vlams</a>,\n",
       " <a href=\"//wo.wikipedia.org/\" lang=\"wo\">Wolof</a>,\n",
       " <a href=\"//xh.wikipedia.org/\" lang=\"xh\">isiXhosa</a>,\n",
       " <a href=\"//zea.wikipedia.org/\" lang=\"zea\">Zeêuws</a>,\n",
       " <a href=\"//bm.wikipedia.org/\" lang=\"bm\">Bamanankan</a>,\n",
       " <a href=\"//ch.wikipedia.org/\" lang=\"ch\">Chamoru</a>,\n",
       " <a href=\"//ny.wikipedia.org/\" lang=\"ny\">Chichewa</a>,\n",
       " <a href=\"//ee.wikipedia.org/\" lang=\"ee\">Eʋegbe</a>,\n",
       " <a href=\"//ff.wikipedia.org/\" lang=\"ff\">Fulfulde</a>,\n",
       " <a href=\"//got.wikipedia.org/\" lang=\"got\" title=\"Gutisk\">𐌲𐌿𐍄𐌹𐍃𐌺</a>,\n",
       " <a href=\"//iu.wikipedia.org/\" lang=\"iu\">ᐃᓄᒃᑎᑐᑦ / Inuktitut</a>,\n",
       " <a href=\"//ik.wikipedia.org/\" lang=\"ik\">Iñupiak</a>,\n",
       " <a href=\"//kl.wikipedia.org/\" lang=\"kl\">Kalaallisut</a>,\n",
       " <a href=\"//ks.wikipedia.org/\" lang=\"ks\" title=\"Koshur\"><bdi dir=\"rtl\">كٲشُر</bdi></a>,\n",
       " <a href=\"//nia.wikipedia.org/\" lang=\"nia\">Li Niha</a>,\n",
       " <a href=\"//cr.wikipedia.org/\" lang=\"cr\">Nēhiyawēwin / ᓀᐦᐃᔭᐍᐏᐣ</a>,\n",
       " <a href=\"//pih.wikipedia.org/\" lang=\"pih\">Norfuk / Pitkern</a>,\n",
       " <a href=\"//pnt.wikipedia.org/\" lang=\"pnt\" title=\"Pontiaká\">Ποντιακά</a>,\n",
       " <a href=\"//dz.wikipedia.org/\" lang=\"dz\" title=\"Rdzong-Kha\">རྫོང་ཁ</a>,\n",
       " <a href=\"//rmy.wikipedia.org/\" lang=\"rmy\">Romani</a>,\n",
       " <a href=\"//rn.wikipedia.org/\" lang=\"rn\">Kirundi</a>,\n",
       " <a href=\"//sg.wikipedia.org/\" lang=\"sg\">Sängö</a>,\n",
       " <a href=\"//st.wikipedia.org/\" lang=\"st\">Sesotho</a>,\n",
       " <a href=\"//tn.wikipedia.org/\" lang=\"tn\">Setswana</a>,\n",
       " <a href=\"//cu.wikipedia.org/\" lang=\"cu\" title=\"Slověnĭskŭ\">Словѣ́ньскъ / ⰔⰎⰑⰂⰡⰐⰠⰔⰍⰟ</a>,\n",
       " <a href=\"//ss.wikipedia.org/\" lang=\"ss\">SiSwati</a>,\n",
       " <a href=\"//din.wikipedia.org/\" lang=\"din\">Thuɔŋjäŋ</a>,\n",
       " <a href=\"//chr.wikipedia.org/\" lang=\"chr\" title=\"Tsalagi\">ᏣᎳᎩ</a>,\n",
       " <a href=\"//chy.wikipedia.org/\" lang=\"chy\">Tsėhesenėstsestotse</a>,\n",
       " <a href=\"//ve.wikipedia.org/\" lang=\"ve\">Tshivenḓa</a>,\n",
       " <a href=\"//ts.wikipedia.org/\" lang=\"ts\">Xitsonga</a>,\n",
       " <a href=\"//tum.wikipedia.org/\" lang=\"tum\">chiTumbuka</a>,\n",
       " <a href=\"//tw.wikipedia.org/\" lang=\"tw\">Twi</a>,\n",
       " <a href=\"//ti.wikipedia.org/\" lang=\"ti\" title=\"Təgərəña\">ትግርኛ</a>,\n",
       " <a href=\"//mnw.wikipedia.org/\" lang=\"mnw\">ဘာသာ မန်</a>,\n",
       " <a data-jsl10n=\"other-languages-label\" href=\"https://meta.wikimedia.org/wiki/Special:MyLanguage/List_of_Wikipedias\" lang=\"\"></a>,\n",
       " <a class=\"banner__button banner__button--progressive\" href=\"#\">\n",
       " Donate now\n",
       " </a>,\n",
       " <a class=\"banner__button banner__button--progressive\" href=\"#\">\n",
       " Donate now\n",
       " </a>,\n",
       " <a class=\"banner__button banner__button--progressive\" href=\"#\">\n",
       " Donate now\n",
       " </a>,\n",
       " <a class=\"banner__button banner__button--progressive\" href=\"#\">\n",
       " Donate now\n",
       " </a>,\n",
       " <a href=\"https://donate.wikimedia.org/?utm_medium=portal&amp;utm_campaign=portalFooter&amp;utm_source=portalFooter\" target=\"_blank\">\n",
       " <span class=\"jsl10n\" data-jsl10n=\"footer-donate\">You can support our work with a donation.</span>\n",
       " </a>,\n",
       " <a class=\"jsl10n\" data-jsl10n=\"portal.app-links.url\" href=\"https://en.wikipedia.org/wiki/List_of_Wikipedia_mobile_applications\">\n",
       " Download Wikipedia for Android or iOS\n",
       " </a>,\n",
       " <a href=\"https://play.google.com/store/apps/details?id=org.wikipedia&amp;referrer=utm_source%3Dportal%26utm_medium%3Dbutton%26anid%3Dadmob\" rel=\"noreferrer\" target=\"_blank\">\n",
       " <span class=\"jsl10n sprite svg-badge_google_play_store\" data-jsl10n=\"portal.app-links.google-store\">Google Play Store</span>\n",
       " </a>,\n",
       " <a href=\"https://itunes.apple.com/app/apple-store/id324715238?pt=208305&amp;ct=portal&amp;mt=8\" rel=\"noreferrer\" target=\"_blank\">\n",
       " <span class=\"jsl10n sprite svg-badge_ios_app_store\" data-jsl10n=\"portal.app-links.apple-store\">Apple App Store</span>\n",
       " </a>,\n",
       " <a class=\"other-project-link\" href=\"//commons.wikimedia.org/\">\n",
       " <div class=\"other-project-icon\">\n",
       " <div class=\"sprite svg-Commons-logo_sister\"></div>\n",
       " </div>\n",
       " <div class=\"other-project-text\">\n",
       " <span class=\"other-project-title jsl10n\" data-jsl10n=\"commons.name\">Commons</span>\n",
       " <span class=\"other-project-tagline jsl10n\" data-jsl10n=\"commons.slogan\">Freely usable photos &amp; more</span>\n",
       " </div>\n",
       " </a>,\n",
       " <a class=\"other-project-link\" href=\"//www.wikivoyage.org/\">\n",
       " <div class=\"other-project-icon\">\n",
       " <div class=\"sprite svg-Wikivoyage-logo_sister\"></div>\n",
       " </div>\n",
       " <div class=\"other-project-text\">\n",
       " <span class=\"other-project-title jsl10n\" data-jsl10n=\"wikivoyage.name\">Wikivoyage</span>\n",
       " <span class=\"other-project-tagline jsl10n\" data-jsl10n=\"wikivoyage.slogan\">Free travel guide</span>\n",
       " </div>\n",
       " </a>,\n",
       " <a class=\"other-project-link\" href=\"//www.wiktionary.org/\">\n",
       " <div class=\"other-project-icon\">\n",
       " <div class=\"sprite svg-Wiktionary-logo_sister\"></div>\n",
       " </div>\n",
       " <div class=\"other-project-text\">\n",
       " <span class=\"other-project-title jsl10n\" data-jsl10n=\"wiktionary.name\">Wiktionary</span>\n",
       " <span class=\"other-project-tagline jsl10n\" data-jsl10n=\"wiktionary.slogan\">Free dictionary</span>\n",
       " </div>\n",
       " </a>,\n",
       " <a class=\"other-project-link\" href=\"//www.wikibooks.org/\">\n",
       " <div class=\"other-project-icon\">\n",
       " <div class=\"sprite svg-Wikibooks-logo_sister\"></div>\n",
       " </div>\n",
       " <div class=\"other-project-text\">\n",
       " <span class=\"other-project-title jsl10n\" data-jsl10n=\"wikibooks.name\">Wikibooks</span>\n",
       " <span class=\"other-project-tagline jsl10n\" data-jsl10n=\"wikibooks.slogan\">Free textbooks</span>\n",
       " </div>\n",
       " </a>,\n",
       " <a class=\"other-project-link\" href=\"//www.wikinews.org/\">\n",
       " <div class=\"other-project-icon\">\n",
       " <div class=\"sprite svg-Wikinews-logo_sister\"></div>\n",
       " </div>\n",
       " <div class=\"other-project-text\">\n",
       " <span class=\"other-project-title jsl10n\" data-jsl10n=\"wikinews.name\">Wikinews</span>\n",
       " <span class=\"other-project-tagline jsl10n\" data-jsl10n=\"wikinews.slogan\">Free news source</span>\n",
       " </div>\n",
       " </a>,\n",
       " <a class=\"other-project-link\" href=\"//www.wikidata.org/\">\n",
       " <div class=\"other-project-icon\">\n",
       " <div class=\"sprite svg-Wikidata-logo_sister\"></div>\n",
       " </div>\n",
       " <div class=\"other-project-text\">\n",
       " <span class=\"other-project-title jsl10n\" data-jsl10n=\"wikidata.name\">Wikidata</span>\n",
       " <span class=\"other-project-tagline jsl10n\" data-jsl10n=\"wikidata.slogan\">Free knowledge base</span>\n",
       " </div>\n",
       " </a>,\n",
       " <a class=\"other-project-link\" href=\"//www.wikiversity.org/\">\n",
       " <div class=\"other-project-icon\">\n",
       " <div class=\"sprite svg-Wikiversity-logo_sister\"></div>\n",
       " </div>\n",
       " <div class=\"other-project-text\">\n",
       " <span class=\"other-project-title jsl10n\" data-jsl10n=\"wikiversity.name\">Wikiversity</span>\n",
       " <span class=\"other-project-tagline jsl10n\" data-jsl10n=\"wikiversity.slogan\">Free course materials</span>\n",
       " </div>\n",
       " </a>,\n",
       " <a class=\"other-project-link\" href=\"//www.wikiquote.org/\">\n",
       " <div class=\"other-project-icon\">\n",
       " <div class=\"sprite svg-Wikiquote-logo_sister\"></div>\n",
       " </div>\n",
       " <div class=\"other-project-text\">\n",
       " <span class=\"other-project-title jsl10n\" data-jsl10n=\"wikiquote.name\">Wikiquote</span>\n",
       " <span class=\"other-project-tagline jsl10n\" data-jsl10n=\"wikiquote.slogan\">Free quote compendium</span>\n",
       " </div>\n",
       " </a>,\n",
       " <a class=\"other-project-link\" href=\"//www.mediawiki.org/\">\n",
       " <div class=\"other-project-icon\">\n",
       " <div class=\"sprite svg-MediaWiki-logo_sister\"></div>\n",
       " </div>\n",
       " <div class=\"other-project-text\">\n",
       " <span class=\"other-project-title jsl10n\" data-jsl10n=\"mediawiki.name\">MediaWiki</span>\n",
       " <span class=\"other-project-tagline jsl10n\" data-jsl10n=\"mediawiki.slogan\">Free &amp; open wiki application</span>\n",
       " </div>\n",
       " </a>,\n",
       " <a class=\"other-project-link\" href=\"//www.wikisource.org/\">\n",
       " <div class=\"other-project-icon\">\n",
       " <div class=\"sprite svg-Wikisource-logo_sister\"></div>\n",
       " </div>\n",
       " <div class=\"other-project-text\">\n",
       " <span class=\"other-project-title jsl10n\" data-jsl10n=\"wikisource.name\">Wikisource</span>\n",
       " <span class=\"other-project-tagline jsl10n\" data-jsl10n=\"wikisource.slogan\">Free library</span>\n",
       " </div>\n",
       " </a>,\n",
       " <a class=\"other-project-link\" href=\"//species.wikimedia.org/\">\n",
       " <div class=\"other-project-icon\">\n",
       " <div class=\"sprite svg-Wikispecies-logo_sister\"></div>\n",
       " </div>\n",
       " <div class=\"other-project-text\">\n",
       " <span class=\"other-project-title jsl10n\" data-jsl10n=\"wikispecies.name\">Wikispecies</span>\n",
       " <span class=\"other-project-tagline jsl10n\" data-jsl10n=\"wikispecies.slogan\">Free species directory</span>\n",
       " </div>\n",
       " </a>,\n",
       " <a class=\"other-project-link\" href=\"//meta.wikimedia.org/\">\n",
       " <div class=\"other-project-icon\">\n",
       " <div class=\"sprite svg-Meta-Wiki-logo_sister\"></div>\n",
       " </div>\n",
       " <div class=\"other-project-text\">\n",
       " <span class=\"other-project-title jsl10n\" data-jsl10n=\"metawiki.name\">Meta-Wiki</span>\n",
       " <span class=\"other-project-tagline jsl10n\" data-jsl10n=\"metawiki.slogan\">Community coordination &amp; documentation</span>\n",
       " </div>\n",
       " </a>,\n",
       " <a href=\"https://creativecommons.org/licenses/by-sa/3.0/\">Creative Commons Attribution-ShareAlike License</a>,\n",
       " <a href=\"https://meta.wikimedia.org/wiki/Terms_of_use\">Terms of Use</a>,\n",
       " <a href=\"https://meta.wikimedia.org/wiki/Privacy_policy\">Privacy Policy</a>]"
      ]
     },
     "execution_count": 172,
     "metadata": {},
     "output_type": "execute_result"
    }
   ],
   "source": [
    "all_info = soup.find_all('a') # Caja cque contiene toda la info que queremos extraer."
   ]
  },
  {
   "cell_type": "code",
   "execution_count": 197,
   "metadata": {},
   "outputs": [
    {
     "data": {
      "text/plain": [
       "['English',\n",
       " '6.383.000+ articles',\n",
       " '日本語',\n",
       " '1.292.000+ 記事',\n",
       " 'Русский',\n",
       " '1.756.000+ статей',\n",
       " 'Deutsch',\n",
       " '2.617.000+ Artikel',\n",
       " 'Español',\n",
       " '1.717.000+ artículos',\n",
       " 'Français',\n",
       " '2.362.000+ articles',\n",
       " 'Italiano',\n",
       " '1.718.000+ voci',\n",
       " '中文',\n",
       " '1.231.000+ 條目',\n",
       " 'Polski',\n",
       " '1.490.000+ haseł',\n",
       " 'Português',\n",
       " '1.074.000+ artigos']"
      ]
     },
     "execution_count": 197,
     "metadata": {},
     "output_type": "execute_result"
    }
   ],
   "source": [
    "lang = []\n",
    "for e in all_info:\n",
    "    l = e.strong   # El tag 'strong' contiene el idioma.\n",
    "    if l:\n",
    "        lang.append(l.text)\n",
    "        \n",
    "    x = e.small    # El tag 'small' contiene el número de artículos.\n",
    "    if x:\n",
    "        lang.append(x.text[0]+'.'+x.text[2:5]+'.'+x.text[6:])    # EL texto incluye caracteres extraños (''\\xa') que equivales a los espacios (donde hay un espacio en wikipedia, hay \\xa  en el html). Eliminamos estos caracteres y añadimos puntos para obtener el número de artículos limpio.\n",
    "lang"
   ]
  },
  {
   "cell_type": "markdown",
   "metadata": {},
   "source": [
    "#### Challenge 8 - A list with the different kind of datasets available in data.gov.uk "
   ]
  },
  {
   "cell_type": "code",
   "execution_count": 198,
   "metadata": {},
   "outputs": [],
   "source": [
    "# This is the url you will scrape in this exercise\n",
    "url = 'https://data.gov.uk/'"
   ]
  },
  {
   "cell_type": "code",
   "execution_count": 199,
   "metadata": {},
   "outputs": [],
   "source": [
    "html=req.get(url).content\n",
    "\n",
    "soup=bs(html, 'html.parser')"
   ]
  },
  {
   "cell_type": "code",
   "execution_count": 212,
   "metadata": {
    "scrolled": true
   },
   "outputs": [
    {
     "data": {
      "text/plain": [
       "['cookies to collect information',\n",
       " 'View cookies',\n",
       " 'change your cookie settings',\n",
       " 'feedback',\n",
       " 'Business and economy',\n",
       " 'Crime and justice',\n",
       " 'Defence',\n",
       " 'Education',\n",
       " 'Environment',\n",
       " 'Government',\n",
       " 'Government spending',\n",
       " 'Health',\n",
       " 'Mapping',\n",
       " 'Society',\n",
       " 'Towns and cities',\n",
       " 'Transport',\n",
       " 'Digital service performance',\n",
       " 'Government reference data']"
      ]
     },
     "execution_count": 212,
     "metadata": {},
     "output_type": "execute_result"
    }
   ],
   "source": [
    "datasets = [e.text for e in soup.find_all('a', class_= 'govuk-link')]    # Hacemos el bucle y generamos la lista en la misma línea (conseguimos un código mucho más fino que los anteriores, ahora que tenemos más soltura)\n",
    "datasets"
   ]
  },
  {
   "cell_type": "markdown",
   "metadata": {},
   "source": [
    "Nos damos cuenta de que hay 4 links que están incluidos en la misma clase que los links a datasets, pero que no es lo que estamos buscando.\n",
    "\n",
    "Eliminamos estos elementos para  obtener la lista definitiva."
   ]
  },
  {
   "cell_type": "code",
   "execution_count": 214,
   "metadata": {},
   "outputs": [
    {
     "name": "stdout",
     "output_type": "stream",
     "text": [
      "['Business and economy', 'Crime and justice', 'Defence', 'Education', 'Environment', 'Government', 'Government spending', 'Health', 'Mapping', 'Society', 'Towns and cities', 'Transport', 'Digital service performance', 'Government reference data']\n"
     ]
    }
   ],
   "source": [
    "datasets = datasets[4:]\n",
    "\n",
    "print(datasets)"
   ]
  },
  {
   "cell_type": "markdown",
   "metadata": {},
   "source": [
    "#### Challenge 9 - Top 10 languages by number of native speakers stored in a Pandas Dataframe"
   ]
  },
  {
   "cell_type": "code",
   "execution_count": 313,
   "metadata": {},
   "outputs": [],
   "source": [
    "# This is the url you will scrape in this exercise\n",
    "url = 'https://en.wikipedia.org/wiki/List_of_languages_by_number_of_native_speakers'"
   ]
  },
  {
   "cell_type": "code",
   "execution_count": 314,
   "metadata": {},
   "outputs": [],
   "source": [
    "html=req.get(url).content\n",
    "\n",
    "soup=bs(html, 'html.parser')"
   ]
  },
  {
   "cell_type": "code",
   "execution_count": 340,
   "metadata": {
    "scrolled": true
   },
   "outputs": [
    {
     "name": "stdout",
     "output_type": "stream",
     "text": [
      "[]\n"
     ]
    },
    {
     "data": {
      "text/plain": [
       "\"No nos encuentra nada para 'table', class_= 'wikitable sortable jquery-tablesorter' y desconozco el motivo.\\nDespués de mil pruebas (incluso intentando ir accediendo una a uno a todos los tags), no consigo acceder a la tabla que nos interesa.\""
      ]
     },
     "execution_count": 340,
     "metadata": {},
     "output_type": "execute_result"
    }
   ],
   "source": [
    "tablas = content.find_all('table', class_= 'wikitable sortable jquery-tablesorter')\n",
    "\n",
    "print(tablas)  \n",
    "\n",
    "'''No nos encuentra nada para 'table', class_= 'wikitable sortable jquery-tablesorter' y desconozco el motivo.\n",
    "Después de mil pruebas (incluso intentando ir accediendo una a uno a todos los tags), no consigo acceder a la tabla que nos interesa.'''\n"
   ]
  },
  {
   "cell_type": "markdown",
   "metadata": {},
   "source": [
    "### Stepping up the game"
   ]
  },
  {
   "cell_type": "markdown",
   "metadata": {},
   "source": [
    "####  Challenge 10 - The 20 latest earthquakes info (date, time, latitude, longitude and region name) by the EMSC as a pandas dataframe"
   ]
  },
  {
   "cell_type": "code",
   "execution_count": null,
   "metadata": {},
   "outputs": [],
   "source": [
    "# This is the url you will scrape in this exercise\n",
    "url = 'https://www.emsc-csem.org/Earthquake/'"
   ]
  },
  {
   "cell_type": "markdown",
   "metadata": {},
   "source": [
    "#### Challenge 11 - IMDB's Top 250 data (movie name, Initial release, director name and stars) as a pandas dataframe"
   ]
  },
  {
   "cell_type": "code",
   "execution_count": null,
   "metadata": {},
   "outputs": [],
   "source": [
    "# This is the url you will scrape in this exercise \n",
    "url = 'https://www.imdb.com/chart/top'"
   ]
  },
  {
   "cell_type": "code",
   "execution_count": null,
   "metadata": {},
   "outputs": [],
   "source": []
  },
  {
   "cell_type": "markdown",
   "metadata": {},
   "source": [
    "#### Challenge 12 - Movie name, year and a brief summary of the top 10 random movies (IMDB) as a pandas dataframe."
   ]
  },
  {
   "cell_type": "code",
   "execution_count": null,
   "metadata": {},
   "outputs": [],
   "source": [
    "#This is the url you will scrape in this exercise\n",
    "url = 'http://www.imdb.com/chart/top'"
   ]
  },
  {
   "cell_type": "code",
   "execution_count": null,
   "metadata": {},
   "outputs": [],
   "source": []
  },
  {
   "cell_type": "markdown",
   "metadata": {},
   "source": [
    "#### Challenge 13 - Find the live weather report (temperature, wind speed, description and weather) of a given city."
   ]
  },
  {
   "cell_type": "code",
   "execution_count": null,
   "metadata": {},
   "outputs": [],
   "source": [
    "#https://openweathermap.org/current"
   ]
  },
  {
   "cell_type": "code",
   "execution_count": null,
   "metadata": {},
   "outputs": [],
   "source": [
    "def weather(city):\n",
    "    pass"
   ]
  },
  {
   "cell_type": "markdown",
   "metadata": {},
   "source": [
    "#### Challenge 14 - Book name,price and stock availability as a pandas dataframe."
   ]
  },
  {
   "cell_type": "code",
   "execution_count": null,
   "metadata": {},
   "outputs": [],
   "source": [
    "# This is the url you will scrape in this exercise. \n",
    "# It is a fictional bookstore created to be scraped. \n",
    "url = 'http://books.toscrape.com/'"
   ]
  },
  {
   "cell_type": "code",
   "execution_count": null,
   "metadata": {},
   "outputs": [],
   "source": []
  },
  {
   "cell_type": "markdown",
   "metadata": {},
   "source": [
    "**Did you limit your output? Thank you! 🙂**"
   ]
  }
 ],
 "metadata": {
  "kernelspec": {
   "display_name": "selenium",
   "language": "python",
   "name": "selenium"
  },
  "language_info": {
   "codemirror_mode": {
    "name": "ipython",
    "version": 3
   },
   "file_extension": ".py",
   "mimetype": "text/x-python",
   "name": "python",
   "nbconvert_exporter": "python",
   "pygments_lexer": "ipython3",
   "version": "3.8.12"
  }
 },
 "nbformat": 4,
 "nbformat_minor": 2
}
