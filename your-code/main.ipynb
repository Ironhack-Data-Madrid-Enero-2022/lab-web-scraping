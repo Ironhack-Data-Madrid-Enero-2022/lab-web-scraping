{
 "cells": [
  {
   "cell_type": "markdown",
   "metadata": {},
   "source": [
    "# Web Scraping Lab\n",
    "\n",
    "You will find in this notebook some web scraping exercises to practice your scraping skills using `requests` and `Beautiful Soup`.\n",
    "\n",
    "**Tips:**\n",
    "\n",
    "- Check the [response status code](https://http.cat/) for each request to ensure you have obtained the intended content.\n",
    "- Look at the HTML code in each request to understand the kind of info you are getting and its format.\n",
    "- Check for patterns in the response text to extract the data/info requested in each question.\n",
    "- Visit each url and take a look at its source through Chrome DevTools. You'll need to identify the html tags, special class names etc. used for the html content you are expected to extract.\n",
    "- Check out the css selectors."
   ]
  },
  {
   "cell_type": "markdown",
   "metadata": {},
   "source": [
    "### Useful Resources\n",
    "- [Requests library](http://docs.python-requests.org/en/master/#the-user-guide) documentation \n",
    "- [Beautiful Soup Doc](https://www.crummy.com/software/BeautifulSoup/bs4/doc/)\n",
    "- [List of HTTP status codes](https://en.wikipedia.org/wiki/List_of_HTTP_status_codes)\n",
    "- [HTML basics](http://www.simplehtmlguide.com/cheatsheet.php)\n",
    "- [CSS basics](https://www.cssbasics.com/#page_start)"
   ]
  },
  {
   "cell_type": "markdown",
   "metadata": {},
   "source": [
    "#### First of all, gathering our tools."
   ]
  },
  {
   "cell_type": "code",
   "execution_count": 1,
   "metadata": {},
   "outputs": [],
   "source": [
    "import requests as req\n",
    "from bs4 import BeautifulSoup as bs\n",
    "import pandas as pd\n",
    "import json"
   ]
  },
  {
   "cell_type": "markdown",
   "metadata": {},
   "source": [
    "⚠️ **Again, please remember to limit your output before submission so that your code doesn't get lost in the output.**"
   ]
  },
  {
   "cell_type": "markdown",
   "metadata": {},
   "source": [
    "#### Challenge 1 - Download, parse (using BeautifulSoup), and print the content from the Trending Developers page from GitHub:"
   ]
  },
  {
   "cell_type": "code",
   "execution_count": 2,
   "metadata": {},
   "outputs": [],
   "source": [
    "# This is the url you will scrape in this exercise\n",
    "url = 'https://github.com/trending/developers'"
   ]
  },
  {
   "cell_type": "code",
   "execution_count": 3,
   "metadata": {},
   "outputs": [],
   "source": [
    "html_a=req.get(url).content\n",
    "html_b=bs(html_a, 'html.parser')"
   ]
  },
  {
   "cell_type": "markdown",
   "metadata": {},
   "source": [
    "#### Display the names of the trending developers retrieved in the previous step.\n",
    "\n",
    "Your output should be a Python list of developer names. Each name should not contain any html tag.\n",
    "\n",
    "**Instructions:**\n",
    "\n",
    "1. Find out the html tag and class names used for the developer names. You can achieve this using Chrome DevTools.\n",
    "\n",
    "1. Use BeautifulSoup to extract all the html elements that contain the developer names.\n",
    "\n",
    "1. Use string manipulation techniques to replace whitespaces and linebreaks (i.e. `\\n`) in the *text* of each html element. Use a list to store the clean names.\n",
    "\n",
    "1. Print the list of names.\n",
    "\n",
    "Your output should look like below (with different names):\n",
    "\n",
    "```\n",
    "['trimstray (@trimstray)',\n",
    " 'joewalnes (JoeWalnes)',\n",
    " 'charlax (Charles-AxelDein)',\n",
    " 'ForrestKnight (ForrestKnight)',\n",
    " 'revery-ui (revery-ui)',\n",
    " 'alibaba (Alibaba)',\n",
    " 'Microsoft (Microsoft)',\n",
    " 'github (GitHub)',\n",
    " 'facebook (Facebook)',\n",
    " 'boazsegev (Bo)',\n",
    " 'google (Google)',\n",
    " 'cloudfetch',\n",
    " 'sindresorhus (SindreSorhus)',\n",
    " 'tensorflow',\n",
    " 'apache (TheApacheSoftwareFoundation)',\n",
    " 'DevonCrawford (DevonCrawford)',\n",
    " 'ARMmbed (ArmMbed)',\n",
    " 'vuejs (vuejs)',\n",
    " 'fastai (fast.ai)',\n",
    " 'QiShaoXuan (Qi)',\n",
    " 'joelparkerhenderson (JoelParkerHenderson)',\n",
    " 'torvalds (LinusTorvalds)',\n",
    " 'CyC2018',\n",
    " 'komeiji-satori (神楽坂覚々)',\n",
    " 'script-8']\n",
    " ```"
   ]
  },
  {
   "cell_type": "code",
   "execution_count": 4,
   "metadata": {},
   "outputs": [
    {
     "data": {
      "text/plain": [
       "['Yann Collet',\n",
       " 'Arvid Norberg',\n",
       " 'Emil Ernerfeldt',\n",
       " 'Mathias Fußenegger',\n",
       " 'David Peter',\n",
       " 'Koen Kanters',\n",
       " 'Markus Unterwaditzer',\n",
       " 'Mike Penz',\n",
       " 'LoveSy',\n",
       " 'David Sherret',\n",
       " 'mrdoob',\n",
       " 'Joe Previte',\n",
       " 'Earle F. Philhower, III',\n",
       " 'MichaIng',\n",
       " 'Chris Caron',\n",
       " 'Jaco',\n",
       " 'vis2k',\n",
       " 'Max Desiatov',\n",
       " 'Stephan Dilly',\n",
       " 'Timothy',\n",
       " 'Shu Ding',\n",
       " 'Jonathan Neal',\n",
       " 'Gwendal Roué',\n",
       " 'Mikael Finstad',\n",
       " 'Jared Palmer']"
      ]
     },
     "execution_count": 4,
     "metadata": {},
     "output_type": "execute_result"
    }
   ],
   "source": [
    "devs = html_b.find_all('h1',{'class':'h3 lh-condensed'})\n",
    "\n",
    "trend_users =[]\n",
    "\n",
    "for i in devs:\n",
    "    x = i.text.strip()\n",
    "    trend_users.append(x)\n",
    "    \n",
    "trend_users\n"
   ]
  },
  {
   "cell_type": "markdown",
   "metadata": {},
   "source": [
    "####  Challenge 2 - Display the trending Python repositories in GitHub\n",
    "\n",
    "The steps to solve this problem is similar to the previous one except that you need to find out the repository names instead of developer names."
   ]
  },
  {
   "cell_type": "code",
   "execution_count": 5,
   "metadata": {},
   "outputs": [],
   "source": [
    "# This is the url you will scrape in this exercise\n",
    "url = 'https://github.com/trending/python?since=daily'"
   ]
  },
  {
   "cell_type": "code",
   "execution_count": 6,
   "metadata": {},
   "outputs": [],
   "source": [
    "html_a=req.get(url).content\n",
    "html_b=bs(html_a, 'html.parser')"
   ]
  },
  {
   "cell_type": "code",
   "execution_count": 7,
   "metadata": {},
   "outputs": [
    {
     "data": {
      "text/plain": [
       "['RunaCapital / awesome-oss-alternatives',\n",
       " 'Jxck-S / plane-notify',\n",
       " 'freqtrade / freqtrade-strategies',\n",
       " 'home-assistant / core',\n",
       " 'sherlock-project / sherlock',\n",
       " 'ytdl-org / youtube-dl',\n",
       " 'yt-dlp / yt-dlp',\n",
       " 'TheAlgorithms / Python',\n",
       " 'slingamn / mureq',\n",
       " 'zhzyker / exphub',\n",
       " 'bilibili / ailab',\n",
       " 'vinta / awesome-python',\n",
       " 'feast-dev / feast',\n",
       " 'kivy / kivy',\n",
       " 'psf / black',\n",
       " 'Chia-Network / chia-blockchain',\n",
       " 'github / copilot-docs',\n",
       " 'nonebot / nonebot2',\n",
       " 'rougier / scientific-visualization-book',\n",
       " 'miguelgrinberg / flasky',\n",
       " 'binance / binance-connector-python',\n",
       " 'arc298 / instagram-scraper',\n",
       " 'patrikzudel / PatrikZeros-CSGO-Sound-Fix',\n",
       " 'NotReallyShikhar / YukkiMusicBot',\n",
       " 'KurtBestor / Hitomi-Downloader']"
      ]
     },
     "execution_count": 7,
     "metadata": {},
     "output_type": "execute_result"
    }
   ],
   "source": [
    "repos = html_b.find_all('h1',{'class':'h3 lh-condensed'})\n",
    "\n",
    "trend_repos =[]\n",
    "trend_repos_clean = []\n",
    "\n",
    "for i in repos:\n",
    "    x = i.text.strip()\n",
    "    trend_repos.append(x)\n",
    "\n",
    "for i in trend_repos:\n",
    "    trend_repos_clean.append(i.replace('\\n\\n     ', ''))\n",
    "    \n",
    "trend_repos_clean\n"
   ]
  },
  {
   "cell_type": "markdown",
   "metadata": {},
   "source": [
    "#### Challenge 3 - Display all the image links from Walt Disney wikipedia page"
   ]
  },
  {
   "cell_type": "code",
   "execution_count": 8,
   "metadata": {},
   "outputs": [],
   "source": [
    "# This is the url you will scrape in this exercise\n",
    "url = 'https://en.wikipedia.org/wiki/Walt_Disney'"
   ]
  },
  {
   "cell_type": "code",
   "execution_count": 9,
   "metadata": {},
   "outputs": [],
   "source": [
    "html_a=req.get(url).content\n",
    "html_b=bs(html_a, 'html.parser')\n"
   ]
  },
  {
   "cell_type": "code",
   "execution_count": 10,
   "metadata": {},
   "outputs": [
    {
     "data": {
      "text/plain": [
       "['https://upload.wikimedia.org/wikipedia/en/thumb/e/e7/Cscr-featured.svg/20px-Cscr-featured.svg.png',\n",
       " 'https://upload.wikimedia.org/wikipedia/en/thumb/8/8c/Extended-protection-shackle.svg/20px-Extended-protection-shackle.svg.png',\n",
       " 'https://upload.wikimedia.org/wikipedia/commons/thumb/d/df/Walt_Disney_1946.JPG/220px-Walt_Disney_1946.JPG',\n",
       " 'https://upload.wikimedia.org/wikipedia/commons/thumb/8/87/Walt_Disney_1942_signature.svg/150px-Walt_Disney_1942_signature.svg.png',\n",
       " 'https://upload.wikimedia.org/wikipedia/commons/thumb/c/c4/Walt_Disney_envelope_ca._1921.jpg/220px-Walt_Disney_envelope_ca._1921.jpg',\n",
       " 'https://upload.wikimedia.org/wikipedia/commons/thumb/4/4d/Newman_Laugh-O-Gram_%281921%29.webm/220px-seek%3D2-Newman_Laugh-O-Gram_%281921%29.webm.jpg',\n",
       " 'https://upload.wikimedia.org/wikipedia/commons/thumb/0/0d/Trolley_Troubles_poster.jpg/170px-Trolley_Troubles_poster.jpg',\n",
       " 'https://upload.wikimedia.org/wikipedia/en/thumb/4/4e/Steamboat-willie.jpg/170px-Steamboat-willie.jpg',\n",
       " 'https://upload.wikimedia.org/wikipedia/commons/thumb/5/57/Walt_Disney_1935.jpg/170px-Walt_Disney_1935.jpg',\n",
       " 'https://upload.wikimedia.org/wikipedia/commons/thumb/c/cd/Walt_Disney_Snow_white_1937_trailer_screenshot_%2813%29.jpg/220px-Walt_Disney_Snow_white_1937_trailer_screenshot_%2813%29.jpg',\n",
       " 'https://upload.wikimedia.org/wikipedia/commons/thumb/1/15/Disney_drawing_goofy.jpg/170px-Disney_drawing_goofy.jpg',\n",
       " 'https://upload.wikimedia.org/wikipedia/commons/thumb/1/13/DisneySchiphol1951.jpg/220px-DisneySchiphol1951.jpg',\n",
       " 'https://upload.wikimedia.org/wikipedia/commons/thumb/8/8c/WaltDisneyplansDisneylandDec1954.jpg/220px-WaltDisneyplansDisneylandDec1954.jpg',\n",
       " 'https://upload.wikimedia.org/wikipedia/commons/thumb/f/ff/Walt_disney_portrait_right.jpg/170px-Walt_disney_portrait_right.jpg',\n",
       " 'https://upload.wikimedia.org/wikipedia/commons/thumb/1/1a/Walt_Disney_Grave.JPG/170px-Walt_Disney_Grave.JPG',\n",
       " 'https://upload.wikimedia.org/wikipedia/commons/thumb/2/2d/Roy_O._Disney_with_Company_at_Press_Conference.jpg/170px-Roy_O._Disney_with_Company_at_Press_Conference.jpg',\n",
       " 'https://upload.wikimedia.org/wikipedia/commons/thumb/b/b0/Disney_Oscar_1953_%28cropped%29.jpg/170px-Disney_Oscar_1953_%28cropped%29.jpg',\n",
       " 'https://upload.wikimedia.org/wikipedia/commons/thumb/6/6c/Disney1968.jpg/170px-Disney1968.jpg',\n",
       " 'https://upload.wikimedia.org/wikipedia/en/thumb/8/8a/OOjs_UI_icon_edit-ltr-progressive.svg/10px-OOjs_UI_icon_edit-ltr-progressive.svg.png',\n",
       " 'https://upload.wikimedia.org/wikipedia/commons/thumb/e/e3/Disneyland_Resort_logo.svg/135px-Disneyland_Resort_logo.svg.png',\n",
       " 'https://upload.wikimedia.org/wikipedia/commons/thumb/d/da/Animation_disc.svg/20px-Animation_disc.svg.png',\n",
       " 'https://upload.wikimedia.org/wikipedia/en/thumb/6/69/P_vip.svg/19px-P_vip.svg.png',\n",
       " 'https://upload.wikimedia.org/wikipedia/commons/thumb/1/1a/Magic_Kingdom_castle.jpg/15px-Magic_Kingdom_castle.jpg',\n",
       " 'https://upload.wikimedia.org/wikipedia/en/thumb/e/e7/Video-x-generic.svg/19px-Video-x-generic.svg.png',\n",
       " 'https://upload.wikimedia.org/wikipedia/commons/thumb/a/a3/Flag_of_Los_Angeles_County%2C_California.svg/21px-Flag_of_Los_Angeles_County%2C_California.svg.png',\n",
       " 'https://upload.wikimedia.org/wikipedia/commons/thumb/8/8c/Blank_television_set.svg/21px-Blank_television_set.svg.png',\n",
       " 'https://upload.wikimedia.org/wikipedia/en/thumb/a/a4/Flag_of_the_United_States.svg/21px-Flag_of_the_United_States.svg.png',\n",
       " 'https://upload.wikimedia.org/wikipedia/en/thumb/4/4a/Commons-logo.svg/14px-Commons-logo.svg.png',\n",
       " 'https://upload.wikimedia.org/wikipedia/commons/thumb/f/fa/Wikiquote-logo.svg/16px-Wikiquote-logo.svg.png',\n",
       " 'https://upload.wikimedia.org/wikipedia/commons/thumb/f/ff/Wikidata-logo.svg/21px-Wikidata-logo.svg.png',\n",
       " 'https://upload.wikimedia.org/wikipedia/en/thumb/8/8a/OOjs_UI_icon_edit-ltr-progressive.svg/10px-OOjs_UI_icon_edit-ltr-progressive.svg.png',\n",
       " 'https://en.wikipedia.org/wiki/Special:CentralAutoLogin/start?type=1x1',\n",
       " 'https:/static/images/footer/wikimedia-button.png',\n",
       " 'https:/static/images/footer/poweredby_mediawiki_88x31.png']"
      ]
     },
     "execution_count": 10,
     "metadata": {},
     "output_type": "execute_result"
    }
   ],
   "source": [
    "images = html_b.find_all('img')\n",
    "\n",
    "img_links = []\n",
    "\n",
    "for i in images:\n",
    "    img_links.append('https:' + i['src'])\n",
    "\n",
    "img_links\n",
    "    "
   ]
  },
  {
   "cell_type": "markdown",
   "metadata": {},
   "source": [
    "#### Challenge 4 - Retrieve all links to pages on Wikipedia that refer to some kind of Python."
   ]
  },
  {
   "cell_type": "code",
   "execution_count": 11,
   "metadata": {},
   "outputs": [],
   "source": [
    "# This is the url you will scrape in this exercise\n",
    "url ='https://en.wikipedia.org/wiki/Python' "
   ]
  },
  {
   "cell_type": "code",
   "execution_count": 12,
   "metadata": {},
   "outputs": [],
   "source": [
    "html_a=req.get(url).content\n",
    "html_b=bs(html_a, 'html.parser')"
   ]
  },
  {
   "cell_type": "code",
   "execution_count": 13,
   "metadata": {},
   "outputs": [],
   "source": [
    "   \n",
    "###########\n",
    "#NO ACABADO\n",
    "###########"
   ]
  },
  {
   "cell_type": "markdown",
   "metadata": {},
   "source": [
    "#### Challenge 5 - Number of Titles that have changed in the United States Code since its last release point "
   ]
  },
  {
   "cell_type": "code",
   "execution_count": 14,
   "metadata": {},
   "outputs": [],
   "source": [
    "# This is the url you will scrape in this exercise\n",
    "url = 'http://uscode.house.gov/download/download.shtml'"
   ]
  },
  {
   "cell_type": "code",
   "execution_count": 15,
   "metadata": {},
   "outputs": [],
   "source": [
    "html_a=req.get(url).content\n",
    "html_b=bs(html_a, 'html.parser')"
   ]
  },
  {
   "cell_type": "code",
   "execution_count": 16,
   "metadata": {},
   "outputs": [
    {
     "data": {
      "text/plain": [
       "['Title 1 - General Provisions ٭',\n",
       " 'Title 2 - The Congress',\n",
       " 'Title 5 - Government Organization and Employees ٭',\n",
       " 'Title 6 - Domestic Security',\n",
       " 'Title 7 - Agriculture',\n",
       " 'Title 12 - Banks and Banking',\n",
       " 'Title 15 - Commerce and Trade',\n",
       " 'Title 16 - Conservation',\n",
       " 'Title 19 - Customs Duties',\n",
       " 'Title 23 - Highways ٭',\n",
       " 'Title 25 - Indians',\n",
       " 'Title 26 - Internal Revenue Code',\n",
       " 'Title 29 - Labor',\n",
       " 'Title 30 - Mineral Lands and Mining',\n",
       " 'Title 33 - Navigation and Navigable Waters',\n",
       " 'Title 40 - Public Buildings, Property, and Works ٭',\n",
       " 'Title 41 - Public Contracts ٭',\n",
       " 'Title 42 - The Public Health and Welfare',\n",
       " 'Title 43 - Public Lands',\n",
       " 'Title 45 - Railroads',\n",
       " 'Title 46 - Shipping ٭',\n",
       " 'Title 47 - Telecommunications',\n",
       " 'Title 49 - Transportation ٭',\n",
       " 'Title 54 - National Park Service and Related Programs ٭']"
      ]
     },
     "execution_count": 16,
     "metadata": {},
     "output_type": "execute_result"
    }
   ],
   "source": [
    "titles_ch = html_b.find_all('div',{'class':'usctitlechanged'})\n",
    "\n",
    "changed_titles = []\n",
    "\n",
    "for i in titles_ch:\n",
    "    x = i.text.strip()\n",
    "    changed_titles.append(x)\n",
    "    \n",
    "changed_titles"
   ]
  },
  {
   "cell_type": "markdown",
   "metadata": {},
   "source": [
    "#### Challenge 6 - A Python list with the top ten FBI's Most Wanted names "
   ]
  },
  {
   "cell_type": "code",
   "execution_count": 17,
   "metadata": {},
   "outputs": [],
   "source": [
    "# This is the url you will scrape in this exercise\n",
    "url = 'https://www.fbi.gov/wanted/topten'"
   ]
  },
  {
   "cell_type": "code",
   "execution_count": 18,
   "metadata": {},
   "outputs": [],
   "source": [
    "html_a=req.get(url).content\n",
    "html_b=bs(html_a, 'html.parser')"
   ]
  },
  {
   "cell_type": "code",
   "execution_count": 19,
   "metadata": {},
   "outputs": [
    {
     "data": {
      "text/plain": [
       "[]"
      ]
     },
     "execution_count": 19,
     "metadata": {},
     "output_type": "execute_result"
    }
   ],
   "source": [
    "most_wanted = html_b.find_all(\"h3\", {\"class\":\"title\"})\n",
    "most_wanted\n",
    "\n",
    "#por algún motivo no consigo que el código funcione, pese a haber visto que lo que es en esencia el mismo código\n",
    "#le funciona a otros compañeros... :(\n",
    "\n",
    "#Most wanted está vacío cuando debería devolverme fragmentos de html "
   ]
  },
  {
   "cell_type": "markdown",
   "metadata": {},
   "source": [
    "#### Challenge 7 - List all language names and number of related articles in the order they appear in wikipedia.org"
   ]
  },
  {
   "cell_type": "code",
   "execution_count": 20,
   "metadata": {},
   "outputs": [],
   "source": [
    "# This is the url you will scrape in this exercise\n",
    "url = 'https://www.wikipedia.org/'"
   ]
  },
  {
   "cell_type": "code",
   "execution_count": 21,
   "metadata": {},
   "outputs": [],
   "source": [
    "html_a=req.get(url).content\n",
    "html_b=bs(html_a, 'html.parser')"
   ]
  },
  {
   "cell_type": "code",
   "execution_count": 27,
   "metadata": {},
   "outputs": [
    {
     "data": {
      "text/plain": [
       "['English 6383000+ articles',\n",
       " '日本語 1292000+ 記事',\n",
       " 'Русский 1756000+ статей',\n",
       " 'Deutsch 2617000+ Artikel',\n",
       " 'Español 1717000+ artículos',\n",
       " 'Français 2362000+ articles',\n",
       " 'Italiano 1718000+ voci',\n",
       " '中文 1231000+ 條目',\n",
       " 'Polski 1490000+ haseł',\n",
       " 'Português 1074000+ artigos']"
      ]
     },
     "execution_count": 27,
     "metadata": {},
     "output_type": "execute_result"
    }
   ],
   "source": [
    "langs = html_b.find_all(\"div\", {\"class\":\"central-featured-lang\"})\n",
    "\n",
    "langs_list = []\n",
    "\n",
    "for i in langs:\n",
    "    x = i.text.strip()\n",
    "    langs_list.append(x)\n",
    "\n",
    "trend_repos_clean=[]\n",
    "trend_repos_clean_2=[]\n",
    "\n",
    "for i in langs_list:\n",
    "    trend_repos_clean.append(i.replace('\\n', ' '))\n",
    "\n",
    "trend_repos_clean\n",
    "\n",
    "for i in trend_repos_clean:\n",
    "    trend_repos_clean_2.append(i.replace('\\xa0',''))    \n",
    "\n",
    "trend_repos_clean_2"
   ]
  },
  {
   "cell_type": "markdown",
   "metadata": {},
   "source": [
    "#### Challenge 8 - A list with the different kind of datasets available in data.gov.uk "
   ]
  },
  {
   "cell_type": "code",
   "execution_count": 28,
   "metadata": {},
   "outputs": [],
   "source": [
    "# This is the url you will scrape in this exercise\n",
    "url = 'https://data.gov.uk/'"
   ]
  },
  {
   "cell_type": "code",
   "execution_count": 34,
   "metadata": {},
   "outputs": [],
   "source": [
    "html_a=req.get(url).content\n",
    "html_b=bs(html_a, 'html.parser')"
   ]
  },
  {
   "cell_type": "code",
   "execution_count": 45,
   "metadata": {},
   "outputs": [
    {
     "data": {
      "text/plain": [
       "['Business and economy',\n",
       " 'Crime and justice',\n",
       " 'Defence',\n",
       " 'Education',\n",
       " 'Environment',\n",
       " 'Government',\n",
       " 'Government spending',\n",
       " 'Health',\n",
       " 'Mapping',\n",
       " 'Society',\n",
       " 'Towns and cities',\n",
       " 'Transport',\n",
       " 'Digital service performance',\n",
       " 'Government reference data']"
      ]
     },
     "execution_count": 45,
     "metadata": {},
     "output_type": "execute_result"
    }
   ],
   "source": [
    "kinds = html_b.find_all(\"h3\", {\"class\":\"govuk-heading-s dgu-topics__heading\"})\n",
    "\n",
    "kinds_list=[]\n",
    "\n",
    "for i in kinds:\n",
    "    x = i.text.strip()\n",
    "    kinds_list.append(x)   \n",
    "\n",
    "kinds_list"
   ]
  },
  {
   "cell_type": "markdown",
   "metadata": {},
   "source": [
    "#### Challenge 9 - Top 10 languages by number of native speakers stored in a Pandas Dataframe"
   ]
  },
  {
   "cell_type": "code",
   "execution_count": 46,
   "metadata": {},
   "outputs": [],
   "source": [
    "# This is the url you will scrape in this exercise\n",
    "url = 'https://en.wikipedia.org/wiki/List_of_languages_by_number_of_native_speakers'"
   ]
  },
  {
   "cell_type": "code",
   "execution_count": 47,
   "metadata": {},
   "outputs": [],
   "source": [
    "html_a=req.get(url).content\n",
    "html_b=bs(html_a, 'html.parser')"
   ]
  },
  {
   "cell_type": "code",
   "execution_count": 69,
   "metadata": {},
   "outputs": [
    {
     "data": {
      "text/html": [
       "<div>\n",
       "<style scoped>\n",
       "    .dataframe tbody tr th:only-of-type {\n",
       "        vertical-align: middle;\n",
       "    }\n",
       "\n",
       "    .dataframe tbody tr th {\n",
       "        vertical-align: top;\n",
       "    }\n",
       "\n",
       "    .dataframe thead th {\n",
       "        text-align: right;\n",
       "    }\n",
       "</style>\n",
       "<table border=\"1\" class=\"dataframe\">\n",
       "  <thead>\n",
       "    <tr style=\"text-align: right;\">\n",
       "      <th></th>\n",
       "      <th>Rank</th>\n",
       "      <th></th>\n",
       "      <th>Language</th>\n",
       "      <th></th>\n",
       "      <th>Speakers(millions)</th>\n",
       "      <th></th>\n",
       "      <th>Percentageof world pop.(March 2019)[10]</th>\n",
       "      <th></th>\n",
       "      <th>Language family</th>\n",
       "      <th></th>\n",
       "      <th>Branch</th>\n",
       "    </tr>\n",
       "  </thead>\n",
       "  <tbody>\n",
       "    <tr>\n",
       "      <th>1</th>\n",
       "      <td>1</td>\n",
       "      <td></td>\n",
       "      <td>Mandarin Chinese</td>\n",
       "      <td></td>\n",
       "      <td>918</td>\n",
       "      <td></td>\n",
       "      <td>11.922%</td>\n",
       "      <td></td>\n",
       "      <td>Sino-Tibetan</td>\n",
       "      <td></td>\n",
       "      <td>Sinitic</td>\n",
       "    </tr>\n",
       "    <tr>\n",
       "      <th>2</th>\n",
       "      <td>2</td>\n",
       "      <td></td>\n",
       "      <td>Spanish</td>\n",
       "      <td></td>\n",
       "      <td>480</td>\n",
       "      <td></td>\n",
       "      <td>5.994%</td>\n",
       "      <td></td>\n",
       "      <td>Indo-European</td>\n",
       "      <td></td>\n",
       "      <td>Romance</td>\n",
       "    </tr>\n",
       "    <tr>\n",
       "      <th>3</th>\n",
       "      <td>3</td>\n",
       "      <td></td>\n",
       "      <td>English</td>\n",
       "      <td></td>\n",
       "      <td>379</td>\n",
       "      <td></td>\n",
       "      <td>4.922%</td>\n",
       "      <td></td>\n",
       "      <td>Indo-European</td>\n",
       "      <td></td>\n",
       "      <td>Germanic</td>\n",
       "    </tr>\n",
       "    <tr>\n",
       "      <th>4</th>\n",
       "      <td>4</td>\n",
       "      <td></td>\n",
       "      <td>Hindi (sanskritised Hindustani)[11]</td>\n",
       "      <td></td>\n",
       "      <td>341</td>\n",
       "      <td></td>\n",
       "      <td>4.429%</td>\n",
       "      <td></td>\n",
       "      <td>Indo-European</td>\n",
       "      <td></td>\n",
       "      <td>Indo-Aryan</td>\n",
       "    </tr>\n",
       "    <tr>\n",
       "      <th>5</th>\n",
       "      <td>5</td>\n",
       "      <td></td>\n",
       "      <td>Bengali</td>\n",
       "      <td></td>\n",
       "      <td>300</td>\n",
       "      <td></td>\n",
       "      <td>4.000%</td>\n",
       "      <td></td>\n",
       "      <td>Indo-European</td>\n",
       "      <td></td>\n",
       "      <td>Indo-Aryan</td>\n",
       "    </tr>\n",
       "    <tr>\n",
       "      <th>...</th>\n",
       "      <td>...</td>\n",
       "      <td>...</td>\n",
       "      <td>...</td>\n",
       "      <td>...</td>\n",
       "      <td>...</td>\n",
       "      <td>...</td>\n",
       "      <td>...</td>\n",
       "      <td>...</td>\n",
       "      <td>...</td>\n",
       "      <td>...</td>\n",
       "      <td>...</td>\n",
       "    </tr>\n",
       "    <tr>\n",
       "      <th>87</th>\n",
       "      <td>87</td>\n",
       "      <td></td>\n",
       "      <td>Czech</td>\n",
       "      <td></td>\n",
       "      <td>10.7</td>\n",
       "      <td></td>\n",
       "      <td>0.139%</td>\n",
       "      <td></td>\n",
       "      <td>Indo-European</td>\n",
       "      <td></td>\n",
       "      <td>Balto-Slavic</td>\n",
       "    </tr>\n",
       "    <tr>\n",
       "      <th>88</th>\n",
       "      <td>88</td>\n",
       "      <td></td>\n",
       "      <td>Taʽizzi-Adeni Arabic</td>\n",
       "      <td></td>\n",
       "      <td>10.5</td>\n",
       "      <td></td>\n",
       "      <td>0.136%</td>\n",
       "      <td></td>\n",
       "      <td>Afroasiatic</td>\n",
       "      <td></td>\n",
       "      <td>Semitic</td>\n",
       "    </tr>\n",
       "    <tr>\n",
       "      <th>89</th>\n",
       "      <td>89</td>\n",
       "      <td></td>\n",
       "      <td>Uyghur</td>\n",
       "      <td></td>\n",
       "      <td>10.4</td>\n",
       "      <td></td>\n",
       "      <td>0.135%</td>\n",
       "      <td></td>\n",
       "      <td>Turkic</td>\n",
       "      <td></td>\n",
       "      <td>Karluk</td>\n",
       "    </tr>\n",
       "    <tr>\n",
       "      <th>90</th>\n",
       "      <td>90</td>\n",
       "      <td></td>\n",
       "      <td>Eastern Min</td>\n",
       "      <td></td>\n",
       "      <td>10.3</td>\n",
       "      <td></td>\n",
       "      <td>0.134%</td>\n",
       "      <td></td>\n",
       "      <td>Sino-Tibetan</td>\n",
       "      <td></td>\n",
       "      <td>Sinitic</td>\n",
       "    </tr>\n",
       "    <tr>\n",
       "      <th>91</th>\n",
       "      <td>91</td>\n",
       "      <td></td>\n",
       "      <td>Sylheti</td>\n",
       "      <td></td>\n",
       "      <td>10.3</td>\n",
       "      <td></td>\n",
       "      <td>0.134%</td>\n",
       "      <td></td>\n",
       "      <td>Indo-European</td>\n",
       "      <td></td>\n",
       "      <td>Indo-Aryan</td>\n",
       "    </tr>\n",
       "  </tbody>\n",
       "</table>\n",
       "<p>91 rows × 11 columns</p>\n",
       "</div>"
      ],
      "text/plain": [
       "0  Rank                                Language    Speakers(millions)     \\\n",
       "1     1                        Mandarin Chinese                   918      \n",
       "2     2                                 Spanish                   480      \n",
       "3     3                                 English                   379      \n",
       "4     4     Hindi (sanskritised Hindustani)[11]                   341      \n",
       "5     5                                 Bengali                   300      \n",
       "..  ... ..                                  ... ..                ... ..   \n",
       "87   87                                   Czech                  10.7      \n",
       "88   88                    Taʽizzi-Adeni Arabic                  10.5      \n",
       "89   89                                  Uyghur                  10.4      \n",
       "90   90                             Eastern Min                  10.3      \n",
       "91   91                                 Sylheti                  10.3      \n",
       "\n",
       "0  Percentageof world pop.(March 2019)[10]    Language family           Branch  \n",
       "1                                  11.922%       Sino-Tibetan          Sinitic  \n",
       "2                                   5.994%      Indo-European          Romance  \n",
       "3                                   4.922%      Indo-European         Germanic  \n",
       "4                                   4.429%      Indo-European       Indo-Aryan  \n",
       "5                                   4.000%      Indo-European       Indo-Aryan  \n",
       "..                                     ... ..             ... ..           ...  \n",
       "87                                  0.139%      Indo-European     Balto-Slavic  \n",
       "88                                  0.136%        Afroasiatic          Semitic  \n",
       "89                                  0.135%             Turkic           Karluk  \n",
       "90                                  0.134%       Sino-Tibetan          Sinitic  \n",
       "91                                  0.134%      Indo-European       Indo-Aryan  \n",
       "\n",
       "[91 rows x 11 columns]"
      ]
     },
     "metadata": {},
     "output_type": "display_data"
    }
   ],
   "source": [
    "toung = html_b.find(\"table\",{'class':'wikitable'})\n",
    "toung2 = toung.find_all('tr')\n",
    "\n",
    "tounges_list=[]\n",
    "\n",
    "for i in toung2:\n",
    "    x = i.text.strip().split(\"\\n\")\n",
    "    tounges_list.append(x)   \n",
    "\n",
    "tounges_list\n",
    "\n",
    "tounges_df = pd.DataFrame(tounges_list)\n",
    "\n",
    "tounges_df.columns = tounges_df.iloc[0]\n",
    "tounges_df = tounges_df[1:]\n",
    "\n",
    "display(tounges_df)"
   ]
  },
  {
   "cell_type": "markdown",
   "metadata": {},
   "source": [
    "### Stepping up the game"
   ]
  },
  {
   "cell_type": "markdown",
   "metadata": {},
   "source": [
    "####  Challenge 10 - The 20 latest earthquakes info (date, time, latitude, longitude and region name) by the EMSC as a pandas dataframe"
   ]
  },
  {
   "cell_type": "code",
   "execution_count": 70,
   "metadata": {},
   "outputs": [],
   "source": [
    "# This is the url you will scrape in this exercise\n",
    "url = 'https://www.emsc-csem.org/Earthquake/'"
   ]
  },
  {
   "cell_type": "code",
   "execution_count": 71,
   "metadata": {},
   "outputs": [],
   "source": [
    "html_a=req.get(url).content\n",
    "html_b=bs(html_a, 'html.parser')"
   ]
  },
  {
   "cell_type": "code",
   "execution_count": 100,
   "metadata": {},
   "outputs": [
    {
     "name": "stdout",
     "output_type": "stream",
     "text": [
      "['1Fearthquake2022-01-30\\xa0\\xa0\\xa020:47:35.711min ago35.78\\xa0N\\xa0\\xa0120.33\\xa0W\\xa0\\xa08Md3.0\\xa0CENTRAL CALIFORNIA2022-01-30 20:49', '1Fearthquake2022-01-30\\xa0\\xa0\\xa020:47:35.711min ago35.78\\xa0N\\xa0\\xa0120.33\\xa0W\\xa0\\xa08Md3.0\\xa0CENTRAL CALIFORNIA2022-01-30 20:49', '1Fearthquake2022-01-30\\xa0\\xa0\\xa020:47:35.711min ago35.78\\xa0N\\xa0\\xa0120.33\\xa0W\\xa0\\xa08Md3.0\\xa0CENTRAL CALIFORNIA2022-01-30 20:49', '1Fearthquake2022-01-30\\xa0\\xa0\\xa020:47:35.711min ago35.78\\xa0N\\xa0\\xa0120.33\\xa0W\\xa0\\xa08Md3.0\\xa0CENTRAL CALIFORNIA2022-01-30 20:49', '1Fearthquake2022-01-30\\xa0\\xa0\\xa020:47:35.711min ago35.78\\xa0N\\xa0\\xa0120.33\\xa0W\\xa0\\xa08Md3.0\\xa0CENTRAL CALIFORNIA2022-01-30 20:49', '1Fearthquake2022-01-30\\xa0\\xa0\\xa020:47:35.711min ago35.78\\xa0N\\xa0\\xa0120.33\\xa0W\\xa0\\xa08Md3.0\\xa0CENTRAL CALIFORNIA2022-01-30 20:49', '1Fearthquake2022-01-30\\xa0\\xa0\\xa020:47:35.711min ago35.78\\xa0N\\xa0\\xa0120.33\\xa0W\\xa0\\xa08Md3.0\\xa0CENTRAL CALIFORNIA2022-01-30 20:49', '1Fearthquake2022-01-30\\xa0\\xa0\\xa020:47:35.711min ago35.78\\xa0N\\xa0\\xa0120.33\\xa0W\\xa0\\xa08Md3.0\\xa0CENTRAL CALIFORNIA2022-01-30 20:49', '1Fearthquake2022-01-30\\xa0\\xa0\\xa020:47:35.711min ago35.78\\xa0N\\xa0\\xa0120.33\\xa0W\\xa0\\xa08Md3.0\\xa0CENTRAL CALIFORNIA2022-01-30 20:49', '1Fearthquake2022-01-30\\xa0\\xa0\\xa020:47:35.711min ago35.78\\xa0N\\xa0\\xa0120.33\\xa0W\\xa0\\xa08Md3.0\\xa0CENTRAL CALIFORNIA2022-01-30 20:49', '1Fearthquake2022-01-30\\xa0\\xa0\\xa020:47:35.711min ago35.78\\xa0N\\xa0\\xa0120.33\\xa0W\\xa0\\xa08Md3.0\\xa0CENTRAL CALIFORNIA2022-01-30 20:49', '1Fearthquake2022-01-30\\xa0\\xa0\\xa020:47:35.711min ago35.78\\xa0N\\xa0\\xa0120.33\\xa0W\\xa0\\xa08Md3.0\\xa0CENTRAL CALIFORNIA2022-01-30 20:49', '1Fearthquake2022-01-30\\xa0\\xa0\\xa020:47:35.711min ago35.78\\xa0N\\xa0\\xa0120.33\\xa0W\\xa0\\xa08Md3.0\\xa0CENTRAL CALIFORNIA2022-01-30 20:49', '1Fearthquake2022-01-30\\xa0\\xa0\\xa020:47:35.711min ago35.78\\xa0N\\xa0\\xa0120.33\\xa0W\\xa0\\xa08Md3.0\\xa0CENTRAL CALIFORNIA2022-01-30 20:49', '1Fearthquake2022-01-30\\xa0\\xa0\\xa020:47:35.711min ago35.78\\xa0N\\xa0\\xa0120.33\\xa0W\\xa0\\xa08Md3.0\\xa0CENTRAL CALIFORNIA2022-01-30 20:49', '1Fearthquake2022-01-30\\xa0\\xa0\\xa020:47:35.711min ago35.78\\xa0N\\xa0\\xa0120.33\\xa0W\\xa0\\xa08Md3.0\\xa0CENTRAL CALIFORNIA2022-01-30 20:49', '1Fearthquake2022-01-30\\xa0\\xa0\\xa020:47:35.711min ago35.78\\xa0N\\xa0\\xa0120.33\\xa0W\\xa0\\xa08Md3.0\\xa0CENTRAL CALIFORNIA2022-01-30 20:49', '1Fearthquake2022-01-30\\xa0\\xa0\\xa020:47:35.711min ago35.78\\xa0N\\xa0\\xa0120.33\\xa0W\\xa0\\xa08Md3.0\\xa0CENTRAL CALIFORNIA2022-01-30 20:49', '1Fearthquake2022-01-30\\xa0\\xa0\\xa020:47:35.711min ago35.78\\xa0N\\xa0\\xa0120.33\\xa0W\\xa0\\xa08Md3.0\\xa0CENTRAL CALIFORNIA2022-01-30 20:49', '1Fearthquake2022-01-30\\xa0\\xa0\\xa020:47:35.711min ago35.78\\xa0N\\xa0\\xa0120.33\\xa0W\\xa0\\xa08Md3.0\\xa0CENTRAL CALIFORNIA2022-01-30 20:49']\n"
     ]
    },
    {
     "data": {
      "text/plain": [
       "20"
      ]
     },
     "execution_count": 100,
     "metadata": {},
     "output_type": "execute_result"
    }
   ],
   "source": [
    "earthq = html_b.find(\"tbody\",{'id':'tbody'})\n",
    "quake = []\n",
    "\n",
    "for i in range:\n",
    "    earthq2 = earthq.find('tr')\n",
    "    x = earthq2.text.strip()\n",
    "    quake.append(x)\n",
    "    \n",
    "print(quake)\n",
    "len(quake)\n",
    "#\n",
    "#for i in quake:\n",
    "#    x = i.text.strip()\n",
    "#    earthq_list.append(x)\n",
    "#    \n",
    "#earthq_list"
   ]
  },
  {
   "cell_type": "markdown",
   "metadata": {},
   "source": [
    "#### Challenge 11 - IMDB's Top 250 data (movie name, Initial release, director name and stars) as a pandas dataframe"
   ]
  },
  {
   "cell_type": "code",
   "execution_count": null,
   "metadata": {},
   "outputs": [],
   "source": [
    "# This is the url you will scrape in this exercise \n",
    "url = 'https://www.imdb.com/chart/top'"
   ]
  },
  {
   "cell_type": "code",
   "execution_count": null,
   "metadata": {},
   "outputs": [],
   "source": []
  },
  {
   "cell_type": "markdown",
   "metadata": {},
   "source": [
    "#### Challenge 12 - Movie name, year and a brief summary of the top 10 random movies (IMDB) as a pandas dataframe."
   ]
  },
  {
   "cell_type": "code",
   "execution_count": null,
   "metadata": {},
   "outputs": [],
   "source": [
    "#This is the url you will scrape in this exercise\n",
    "url = 'http://www.imdb.com/chart/top'"
   ]
  },
  {
   "cell_type": "code",
   "execution_count": null,
   "metadata": {},
   "outputs": [],
   "source": []
  },
  {
   "cell_type": "markdown",
   "metadata": {},
   "source": [
    "#### Challenge 13 - Find the live weather report (temperature, wind speed, description and weather) of a given city."
   ]
  },
  {
   "cell_type": "code",
   "execution_count": null,
   "metadata": {},
   "outputs": [],
   "source": [
    "#https://openweathermap.org/current"
   ]
  },
  {
   "cell_type": "code",
   "execution_count": null,
   "metadata": {},
   "outputs": [],
   "source": [
    "def weather(city):\n",
    "    pass"
   ]
  },
  {
   "cell_type": "markdown",
   "metadata": {},
   "source": [
    "#### Challenge 14 - Book name,price and stock availability as a pandas dataframe."
   ]
  },
  {
   "cell_type": "code",
   "execution_count": null,
   "metadata": {},
   "outputs": [],
   "source": [
    "# This is the url you will scrape in this exercise. \n",
    "# It is a fictional bookstore created to be scraped. \n",
    "url = 'http://books.toscrape.com/'"
   ]
  },
  {
   "cell_type": "code",
   "execution_count": null,
   "metadata": {},
   "outputs": [],
   "source": []
  },
  {
   "cell_type": "markdown",
   "metadata": {},
   "source": [
    "**Did you limit your output? Thank you! 🙂**"
   ]
  }
 ],
 "metadata": {
  "kernelspec": {
   "display_name": "Python 3 (ipykernel)",
   "language": "python",
   "name": "python3"
  },
  "language_info": {
   "codemirror_mode": {
    "name": "ipython",
    "version": 3
   },
   "file_extension": ".py",
   "mimetype": "text/x-python",
   "name": "python",
   "nbconvert_exporter": "python",
   "pygments_lexer": "ipython3",
   "version": "3.9.7"
  }
 },
 "nbformat": 4,
 "nbformat_minor": 2
}
